{
 "cells": [
  {
   "cell_type": "markdown",
   "metadata": {},
   "source": [
    "# 1. Import Required Libraries"
   ]
  },
  {
   "cell_type": "code",
   "execution_count": 1,
   "metadata": {},
   "outputs": [],
   "source": [
    "import pandas as pd\n",
    "import torch\n",
    "import torch.nn as nn\n",
    "from torch.utils.data import Dataset, DataLoader\n",
    "import matplotlib.pyplot as plt"
   ]
  },
  {
   "cell_type": "markdown",
   "metadata": {},
   "source": [
    "# 2. Load Dataset, and Mean/Std Data from Training"
   ]
  },
  {
   "cell_type": "code",
   "execution_count": 2,
   "metadata": {},
   "outputs": [],
   "source": [
    "demo_df = pd.read_csv(\"demo_dataset.csv\", \n",
    "                 usecols = ['host_is_superhost', \n",
    "                            'latitude','longitude', 'property_type',\n",
    "                            'room_type','accommodates','bathrooms',\n",
    "                            'bedrooms','beds','amenities', 'price',\n",
    "                            'instant_bookable','cancellation_policy'])\n",
    "\n",
    "demo_df[\"price\"] = demo_df[\"price\"].apply(lambda x: x.replace('$','').replace(',', '').replace('.00', '')).astype(\"int\")\n",
    "mean_std = pd.read_csv(\"../data_processing/mean_std.csv\", index_col = 0)"
   ]
  },
  {
   "cell_type": "markdown",
   "metadata": {},
   "source": [
    "# 3. Process Data"
   ]
  },
  {
   "cell_type": "markdown",
   "metadata": {},
   "source": [
    "### 3.1 Visualize Initial Data"
   ]
  },
  {
   "cell_type": "code",
   "execution_count": 3,
   "metadata": {},
   "outputs": [
    {
     "data": {
      "text/html": [
       "<div>\n",
       "<style scoped>\n",
       "    .dataframe tbody tr th:only-of-type {\n",
       "        vertical-align: middle;\n",
       "    }\n",
       "\n",
       "    .dataframe tbody tr th {\n",
       "        vertical-align: top;\n",
       "    }\n",
       "\n",
       "    .dataframe thead th {\n",
       "        text-align: right;\n",
       "    }\n",
       "</style>\n",
       "<table border=\"1\" class=\"dataframe\">\n",
       "  <thead>\n",
       "    <tr style=\"text-align: right;\">\n",
       "      <th></th>\n",
       "      <th>host_is_superhost</th>\n",
       "      <th>latitude</th>\n",
       "      <th>longitude</th>\n",
       "      <th>property_type</th>\n",
       "      <th>room_type</th>\n",
       "      <th>accommodates</th>\n",
       "      <th>bathrooms</th>\n",
       "      <th>bedrooms</th>\n",
       "      <th>beds</th>\n",
       "      <th>amenities</th>\n",
       "      <th>price</th>\n",
       "      <th>instant_bookable</th>\n",
       "      <th>cancellation_policy</th>\n",
       "    </tr>\n",
       "  </thead>\n",
       "  <tbody>\n",
       "    <tr>\n",
       "      <th>0</th>\n",
       "      <td>f</td>\n",
       "      <td>43.64617</td>\n",
       "      <td>-79.42451</td>\n",
       "      <td>House</td>\n",
       "      <td>Entire home/apt</td>\n",
       "      <td>10</td>\n",
       "      <td>3.0</td>\n",
       "      <td>5.0</td>\n",
       "      <td>7.0</td>\n",
       "      <td>{TV,Internet,Wifi,\"Air conditioning\",Kitchen,\"...</td>\n",
       "      <td>469</td>\n",
       "      <td>f</td>\n",
       "      <td>strict_14_with_grace_period</td>\n",
       "    </tr>\n",
       "    <tr>\n",
       "      <th>1</th>\n",
       "      <td>f</td>\n",
       "      <td>43.64105</td>\n",
       "      <td>-79.37628</td>\n",
       "      <td>Apartment</td>\n",
       "      <td>Private room</td>\n",
       "      <td>2</td>\n",
       "      <td>1.5</td>\n",
       "      <td>1.0</td>\n",
       "      <td>1.0</td>\n",
       "      <td>{TV,\"Cable TV\",Internet,Wifi,\"Air conditioning...</td>\n",
       "      <td>99</td>\n",
       "      <td>t</td>\n",
       "      <td>strict_14_with_grace_period</td>\n",
       "    </tr>\n",
       "    <tr>\n",
       "      <th>2</th>\n",
       "      <td>f</td>\n",
       "      <td>43.66724</td>\n",
       "      <td>-79.41598</td>\n",
       "      <td>House</td>\n",
       "      <td>Private room</td>\n",
       "      <td>1</td>\n",
       "      <td>1.5</td>\n",
       "      <td>1.0</td>\n",
       "      <td>1.0</td>\n",
       "      <td>{Internet,Wifi,\"Pets live on this property\",Ca...</td>\n",
       "      <td>66</td>\n",
       "      <td>f</td>\n",
       "      <td>moderate</td>\n",
       "    </tr>\n",
       "    <tr>\n",
       "      <th>3</th>\n",
       "      <td>t</td>\n",
       "      <td>43.69602</td>\n",
       "      <td>-79.45468</td>\n",
       "      <td>House</td>\n",
       "      <td>Private room</td>\n",
       "      <td>3</td>\n",
       "      <td>1.0</td>\n",
       "      <td>1.0</td>\n",
       "      <td>1.0</td>\n",
       "      <td>{Internet,Wifi,\"Air conditioning\",Kitchen,\"Fre...</td>\n",
       "      <td>72</td>\n",
       "      <td>t</td>\n",
       "      <td>strict_14_with_grace_period</td>\n",
       "    </tr>\n",
       "    <tr>\n",
       "      <th>4</th>\n",
       "      <td>f</td>\n",
       "      <td>43.64530</td>\n",
       "      <td>-79.38940</td>\n",
       "      <td>Condominium</td>\n",
       "      <td>Entire home/apt</td>\n",
       "      <td>5</td>\n",
       "      <td>1.0</td>\n",
       "      <td>1.0</td>\n",
       "      <td>2.0</td>\n",
       "      <td>{TV,\"Cable TV\",Internet,Wifi,\"Air conditioning...</td>\n",
       "      <td>199</td>\n",
       "      <td>f</td>\n",
       "      <td>strict_14_with_grace_period</td>\n",
       "    </tr>\n",
       "  </tbody>\n",
       "</table>\n",
       "</div>"
      ],
      "text/plain": [
       "  host_is_superhost  latitude  longitude property_type        room_type  \\\n",
       "0                 f  43.64617  -79.42451         House  Entire home/apt   \n",
       "1                 f  43.64105  -79.37628     Apartment     Private room   \n",
       "2                 f  43.66724  -79.41598         House     Private room   \n",
       "3                 t  43.69602  -79.45468         House     Private room   \n",
       "4                 f  43.64530  -79.38940   Condominium  Entire home/apt   \n",
       "\n",
       "   accommodates  bathrooms  bedrooms  beds  \\\n",
       "0            10        3.0       5.0   7.0   \n",
       "1             2        1.5       1.0   1.0   \n",
       "2             1        1.5       1.0   1.0   \n",
       "3             3        1.0       1.0   1.0   \n",
       "4             5        1.0       1.0   2.0   \n",
       "\n",
       "                                           amenities  price instant_bookable  \\\n",
       "0  {TV,Internet,Wifi,\"Air conditioning\",Kitchen,\"...    469                f   \n",
       "1  {TV,\"Cable TV\",Internet,Wifi,\"Air conditioning...     99                t   \n",
       "2  {Internet,Wifi,\"Pets live on this property\",Ca...     66                f   \n",
       "3  {Internet,Wifi,\"Air conditioning\",Kitchen,\"Fre...     72                t   \n",
       "4  {TV,\"Cable TV\",Internet,Wifi,\"Air conditioning...    199                f   \n",
       "\n",
       "           cancellation_policy  \n",
       "0  strict_14_with_grace_period  \n",
       "1  strict_14_with_grace_period  \n",
       "2                     moderate  \n",
       "3  strict_14_with_grace_period  \n",
       "4  strict_14_with_grace_period  "
      ]
     },
     "execution_count": 3,
     "metadata": {},
     "output_type": "execute_result"
    }
   ],
   "source": [
    "demo_df.head(5)"
   ]
  },
  {
   "cell_type": "markdown",
   "metadata": {},
   "source": [
    "### 3.2 Remove Samples with Missing Values"
   ]
  },
  {
   "cell_type": "code",
   "execution_count": 4,
   "metadata": {},
   "outputs": [
    {
     "name": "stdout",
     "output_type": "stream",
     "text": [
      "Initial # of Samples:  21900 \n",
      "\n",
      "DELETING SAMPLES WITH MISSING VALUES...\n",
      "--Number of Samples Removed:  44\n"
     ]
    }
   ],
   "source": [
    "initial_samples = len(demo_df) # initial number of samples\n",
    "print(\"Initial # of Samples: \", len(demo_df), \"\\n\")\n",
    "\n",
    "# Drop samples with missing values\n",
    "print(\"DELETING SAMPLES WITH MISSING VALUES...\")\n",
    "demo_df = demo_df.dropna()\n",
    "samples1 = len(demo_df) # current number of samples\n",
    "print(\"--Number of Samples Removed: \", initial_samples-samples1)\n",
    "\n",
    "# reset index\n",
    "demo_df = demo_df.reset_index(drop=True)"
   ]
  },
  {
   "cell_type": "markdown",
   "metadata": {},
   "source": [
    "### 3.3 Numericalize Categorical Data"
   ]
  },
  {
   "cell_type": "code",
   "execution_count": 5,
   "metadata": {},
   "outputs": [
    {
     "name": "stdout",
     "output_type": "stream",
     "text": [
      "NUMERICALIZING TRUE/FALSE...\n",
      "0    16025\n",
      "1     5831\n",
      "Name: host_is_superhost, dtype: int64\n",
      "0    13137\n",
      "1     8719\n",
      "Name: instant_bookable, dtype: int64\n",
      " \n",
      "NUMERICALIZING CANCELLATION POLICY...\n",
      "strict_14_with_grace_period    8985\n",
      "moderate                       6679\n",
      "flexible                       6116\n",
      "super_strict_30                  64\n",
      "super_strict_60                  12\n",
      "Name: cancellation_policy, dtype: int64\n",
      " \n",
      "NUMERICALIZING ROOM TYPE...\n",
      "Entire home/apt    14229\n",
      "Private room        7086\n",
      "Shared room          354\n",
      "Name: room_type, dtype: int64\n",
      "FILTERLING AND NUMERICALIZING PROPERTY TYPES...\n",
      "Types of Included Properties:\n",
      "Apartment             6393\n",
      "Condominium           5991\n",
      "House                 5753\n",
      "Townhouse              979\n",
      "Guest suite            922\n",
      "Bungalow               738\n",
      "Loft                   437\n",
      "Serviced apartment      90\n",
      "Name: property_type, dtype: int64\n",
      "Number of Samples Removed: 553\n"
     ]
    }
   ],
   "source": [
    "cancellation_policies = {\n",
    "    \"flexible\": 1,\n",
    "    \"moderate\": 5,\n",
    "    \"strict_14_with_grace_period\": 14,\n",
    "    \"super_strict_30\": 30,\n",
    "    \"super_strict_60\": 60\n",
    "}\n",
    "room_types = {\n",
    "    \"Entire home/apt\": 0,\n",
    "    \"Private room\": 1,\n",
    "    \"Shared room\": 2\n",
    "}\n",
    "true_false = {\n",
    "    't': 1,\n",
    "    'f': 0,\n",
    "    True: 1,\n",
    "    False: 0\n",
    "}\n",
    "\n",
    "property_types = {\n",
    "    \"House\" : 1,\n",
    "    \"Apartment\" : 2,\n",
    "    \"Condominium\" : 5,\n",
    "    \"Townhouse\" : 3,\n",
    "    \"Bungalow\" : 0,\n",
    "    \"Loft\" : 4,\n",
    "    \"Serviced apartment\" : 6,\n",
    "    \"Guest suite\" : 7\n",
    "}\n",
    "\n",
    "# convert t/f into 1/0\n",
    "print(\"NUMERICALIZING TRUE/FALSE...\")\n",
    "for i in [\"host_is_superhost\", \"instant_bookable\"]:\n",
    "    demo_df[i] = demo_df[i].map(true_false)\n",
    "    print(demo_df[i].value_counts())\n",
    "\n",
    "print(\" \")\n",
    "\n",
    "# cancellation policy\n",
    "print(\"NUMERICALIZING CANCELLATION POLICY...\")\n",
    "print(demo_df[\"cancellation_policy\"].value_counts())\n",
    "demo_df[\"cancellation_policy\"] = demo_df[\"cancellation_policy\"].map(cancellation_policies)\n",
    "\n",
    "print(\" \")\n",
    "\n",
    "# room_type\n",
    "print(\"NUMERICALIZING ROOM TYPE...\")\n",
    "accum = [\"Entire home/apt\", \"Private room\", \"Shared room\"]\n",
    "demo_df = demo_df[demo_df[\"room_type\"].isin(accum)]\n",
    "print(demo_df[\"room_type\"].value_counts())\n",
    "demo_df[\"room_type\"] = demo_df[\"room_type\"].map(room_types)\n",
    "\n",
    "print(\"\")\n",
    "print(\"FILTERLING AND NUMERICALIZING PROPERTY TYPES...\")\n",
    "\n",
    "print(\"Types of Included Properties:\")\n",
    "accum = [\"House\", \"Apartment\", \"Condominium\", \"Townhouse\", \"Bungalow\", \"Loft\", \"Serviced apartment\", \"Guest suite\"]\n",
    "demo_df = demo_df[demo_df[\"property_type\"].isin(accum)]\n",
    "print(demo_df[\"property_type\"].value_counts())\n",
    "demo_df[\"property_type\"] = demo_df[\"property_type\"].map(property_types)\n",
    "\n",
    "samples2 = len(demo_df)\n",
    "print(\"Number of Samples Removed:\", samples1 - samples2)\n",
    "demo_df = demo_df.reset_index(drop=True)"
   ]
  },
  {
   "cell_type": "markdown",
   "metadata": {},
   "source": [
    "### 3.4 One-Hot Encoding for Amenities"
   ]
  },
  {
   "cell_type": "code",
   "execution_count": 6,
   "metadata": {},
   "outputs": [],
   "source": [
    "amenities = ['Kitchen', 'Heating', 'Washer', 'Wifi', 'Indoor fireplace', 'Iron', \n",
    "             'Laptop friendly workspace', 'Crib', 'Self check-in', 'Carbon monoxide detector', \n",
    "             'Shampoo', 'Air conditioning', 'Dryer', 'Breakfast', 'Hangers', 'Hair dryer', \n",
    "             'TV', 'High chair', 'Smoke detector', 'Private bathroom']\n",
    "\n",
    "facilities = ['Free parking on premises', 'Gym', 'Hot tub', 'Pool']\n",
    "\n",
    "house_rules = ['Suitable for events', 'Pets allowed', 'Smoking allowed']\n",
    "\n",
    "for i in amenities:\n",
    "    demo_df[\"amenities_\"+i] = demo_df[\"amenities\"].apply(lambda x: 1 if i in x else 0)\n",
    "demo_df[\"amenities_count\"] = sum(demo_df[\"amenities_\"+i] for i in amenities)\n",
    "\n",
    "for i in facilities:\n",
    "    demo_df[\"facilities_\"+i] = demo_df[\"amenities\"].apply(lambda x: 1 if i in x else 0)\n",
    "demo_df[\"facilities_count\"] = sum(demo_df[\"facilities_\"+i] for i in facilities)\n",
    "\n",
    "for i in house_rules:\n",
    "    demo_df[\"house_rules_\"+i] = demo_df[\"amenities\"].apply(lambda x: 1 if i in x else 0)\n",
    "demo_df[\"house_rules_count\"] = sum(demo_df[\"house_rules_\"+i] for i in house_rules)\n",
    "\n",
    "demo_df = demo_df.drop(columns=[\"amenities\"])"
   ]
  },
  {
   "cell_type": "markdown",
   "metadata": {},
   "source": [
    "### 3.5 Standardize Numerical Features"
   ]
  },
  {
   "cell_type": "code",
   "execution_count": 7,
   "metadata": {},
   "outputs": [],
   "source": [
    "for i in mean_std.index:\n",
    "    demo_df[i] = (demo_df[i] - mean_std[\"mean\"][i])/mean_std[\"std\"][i] "
   ]
  },
  {
   "cell_type": "code",
   "execution_count": 8,
   "metadata": {},
   "outputs": [
    {
     "data": {
      "text/html": [
       "<div>\n",
       "<style scoped>\n",
       "    .dataframe tbody tr th:only-of-type {\n",
       "        vertical-align: middle;\n",
       "    }\n",
       "\n",
       "    .dataframe tbody tr th {\n",
       "        vertical-align: top;\n",
       "    }\n",
       "\n",
       "    .dataframe thead th {\n",
       "        text-align: right;\n",
       "    }\n",
       "</style>\n",
       "<table border=\"1\" class=\"dataframe\">\n",
       "  <thead>\n",
       "    <tr style=\"text-align: right;\">\n",
       "      <th></th>\n",
       "      <th>mean</th>\n",
       "      <th>std</th>\n",
       "    </tr>\n",
       "  </thead>\n",
       "  <tbody>\n",
       "    <tr>\n",
       "      <th>price</th>\n",
       "      <td>120.097102</td>\n",
       "      <td>68.198942</td>\n",
       "    </tr>\n",
       "    <tr>\n",
       "      <th>latitude</th>\n",
       "      <td>43.677492</td>\n",
       "      <td>0.046110</td>\n",
       "    </tr>\n",
       "    <tr>\n",
       "      <th>longitude</th>\n",
       "      <td>-79.398326</td>\n",
       "      <td>0.059359</td>\n",
       "    </tr>\n",
       "    <tr>\n",
       "      <th>property_type</th>\n",
       "      <td>2.819879</td>\n",
       "      <td>1.844364</td>\n",
       "    </tr>\n",
       "    <tr>\n",
       "      <th>room_type</th>\n",
       "      <td>0.340686</td>\n",
       "      <td>0.495957</td>\n",
       "    </tr>\n",
       "    <tr>\n",
       "      <th>accommodates</th>\n",
       "      <td>3.053679</td>\n",
       "      <td>1.762132</td>\n",
       "    </tr>\n",
       "    <tr>\n",
       "      <th>bathrooms</th>\n",
       "      <td>1.200374</td>\n",
       "      <td>0.459320</td>\n",
       "    </tr>\n",
       "    <tr>\n",
       "      <th>bedrooms</th>\n",
       "      <td>1.270343</td>\n",
       "      <td>0.765102</td>\n",
       "    </tr>\n",
       "    <tr>\n",
       "      <th>beds</th>\n",
       "      <td>1.625366</td>\n",
       "      <td>0.961066</td>\n",
       "    </tr>\n",
       "    <tr>\n",
       "      <th>cancellation_policy</th>\n",
       "      <td>7.400940</td>\n",
       "      <td>5.685699</td>\n",
       "    </tr>\n",
       "    <tr>\n",
       "      <th>amenities_count</th>\n",
       "      <td>12.185917</td>\n",
       "      <td>2.775618</td>\n",
       "    </tr>\n",
       "    <tr>\n",
       "      <th>facilities_count</th>\n",
       "      <td>1.065138</td>\n",
       "      <td>1.181071</td>\n",
       "    </tr>\n",
       "    <tr>\n",
       "      <th>house_rules_count</th>\n",
       "      <td>0.184610</td>\n",
       "      <td>0.449641</td>\n",
       "    </tr>\n",
       "  </tbody>\n",
       "</table>\n",
       "</div>"
      ],
      "text/plain": [
       "                           mean        std\n",
       "price                120.097102  68.198942\n",
       "latitude              43.677492   0.046110\n",
       "longitude            -79.398326   0.059359\n",
       "property_type          2.819879   1.844364\n",
       "room_type              0.340686   0.495957\n",
       "accommodates           3.053679   1.762132\n",
       "bathrooms              1.200374   0.459320\n",
       "bedrooms               1.270343   0.765102\n",
       "beds                   1.625366   0.961066\n",
       "cancellation_policy    7.400940   5.685699\n",
       "amenities_count       12.185917   2.775618\n",
       "facilities_count       1.065138   1.181071\n",
       "house_rules_count      0.184610   0.449641"
      ]
     },
     "execution_count": 8,
     "metadata": {},
     "output_type": "execute_result"
    }
   ],
   "source": [
    "mean_std"
   ]
  },
  {
   "cell_type": "markdown",
   "metadata": {},
   "source": [
    "### 3.6 Result"
   ]
  },
  {
   "cell_type": "code",
   "execution_count": 9,
   "metadata": {},
   "outputs": [
    {
     "name": "stdout",
     "output_type": "stream",
     "text": [
      "Total # of Samples Remaining:\t 21303\n",
      "Number of Samples Removed:\t 597\n",
      "% of Samples Removed:\t\t 2.7260273972602738\n"
     ]
    }
   ],
   "source": [
    "print(\"Total # of Samples Remaining:\\t\", len(demo_df))\n",
    "print(\"Number of Samples Removed:\\t\", initial_samples - len(demo_df))\n",
    "print(\"% of Samples Removed:\\t\\t\", (initial_samples - len(demo_df))/initial_samples*100.0)"
   ]
  },
  {
   "cell_type": "markdown",
   "metadata": {},
   "source": [
    "### 3.7 Visualize Processed Data"
   ]
  },
  {
   "cell_type": "code",
   "execution_count": 10,
   "metadata": {},
   "outputs": [
    {
     "data": {
      "text/html": [
       "<div>\n",
       "<style scoped>\n",
       "    .dataframe tbody tr th:only-of-type {\n",
       "        vertical-align: middle;\n",
       "    }\n",
       "\n",
       "    .dataframe tbody tr th {\n",
       "        vertical-align: top;\n",
       "    }\n",
       "\n",
       "    .dataframe thead th {\n",
       "        text-align: right;\n",
       "    }\n",
       "</style>\n",
       "<table border=\"1\" class=\"dataframe\">\n",
       "  <thead>\n",
       "    <tr style=\"text-align: right;\">\n",
       "      <th></th>\n",
       "      <th>host_is_superhost</th>\n",
       "      <th>latitude</th>\n",
       "      <th>longitude</th>\n",
       "      <th>property_type</th>\n",
       "      <th>room_type</th>\n",
       "      <th>accommodates</th>\n",
       "      <th>bathrooms</th>\n",
       "      <th>bedrooms</th>\n",
       "      <th>beds</th>\n",
       "      <th>price</th>\n",
       "      <th>...</th>\n",
       "      <th>amenities_count</th>\n",
       "      <th>facilities_Free parking on premises</th>\n",
       "      <th>facilities_Gym</th>\n",
       "      <th>facilities_Hot tub</th>\n",
       "      <th>facilities_Pool</th>\n",
       "      <th>facilities_count</th>\n",
       "      <th>house_rules_Suitable for events</th>\n",
       "      <th>house_rules_Pets allowed</th>\n",
       "      <th>house_rules_Smoking allowed</th>\n",
       "      <th>house_rules_count</th>\n",
       "    </tr>\n",
       "  </thead>\n",
       "  <tbody>\n",
       "    <tr>\n",
       "      <th>0</th>\n",
       "      <td>0</td>\n",
       "      <td>-0.679295</td>\n",
       "      <td>-0.441107</td>\n",
       "      <td>-0.986725</td>\n",
       "      <td>-0.686927</td>\n",
       "      <td>3.941999</td>\n",
       "      <td>3.918024</td>\n",
       "      <td>4.874716</td>\n",
       "      <td>5.592370</td>\n",
       "      <td>5.115958</td>\n",
       "      <td>...</td>\n",
       "      <td>-0.787543</td>\n",
       "      <td>0</td>\n",
       "      <td>0</td>\n",
       "      <td>0</td>\n",
       "      <td>0</td>\n",
       "      <td>-0.901841</td>\n",
       "      <td>0</td>\n",
       "      <td>0</td>\n",
       "      <td>0</td>\n",
       "      <td>-0.410572</td>\n",
       "    </tr>\n",
       "    <tr>\n",
       "      <th>1</th>\n",
       "      <td>0</td>\n",
       "      <td>-0.790334</td>\n",
       "      <td>0.371405</td>\n",
       "      <td>-0.444532</td>\n",
       "      <td>1.329375</td>\n",
       "      <td>-0.597957</td>\n",
       "      <td>0.652325</td>\n",
       "      <td>-0.353343</td>\n",
       "      <td>-0.650700</td>\n",
       "      <td>-0.309346</td>\n",
       "      <td>...</td>\n",
       "      <td>-2.228663</td>\n",
       "      <td>1</td>\n",
       "      <td>1</td>\n",
       "      <td>0</td>\n",
       "      <td>1</td>\n",
       "      <td>1.638226</td>\n",
       "      <td>0</td>\n",
       "      <td>0</td>\n",
       "      <td>0</td>\n",
       "      <td>-0.410572</td>\n",
       "    </tr>\n",
       "    <tr>\n",
       "      <th>2</th>\n",
       "      <td>0</td>\n",
       "      <td>-0.222341</td>\n",
       "      <td>-0.297405</td>\n",
       "      <td>-0.986725</td>\n",
       "      <td>1.329375</td>\n",
       "      <td>-1.165452</td>\n",
       "      <td>0.652325</td>\n",
       "      <td>-0.353343</td>\n",
       "      <td>-0.650700</td>\n",
       "      <td>-0.793225</td>\n",
       "      <td>...</td>\n",
       "      <td>-3.669784</td>\n",
       "      <td>0</td>\n",
       "      <td>0</td>\n",
       "      <td>0</td>\n",
       "      <td>0</td>\n",
       "      <td>-0.901841</td>\n",
       "      <td>0</td>\n",
       "      <td>0</td>\n",
       "      <td>0</td>\n",
       "      <td>-0.410572</td>\n",
       "    </tr>\n",
       "    <tr>\n",
       "      <th>3</th>\n",
       "      <td>1</td>\n",
       "      <td>0.401822</td>\n",
       "      <td>-0.949369</td>\n",
       "      <td>-0.986725</td>\n",
       "      <td>1.329375</td>\n",
       "      <td>-0.030463</td>\n",
       "      <td>-0.436242</td>\n",
       "      <td>-0.353343</td>\n",
       "      <td>-0.650700</td>\n",
       "      <td>-0.705247</td>\n",
       "      <td>...</td>\n",
       "      <td>0.293298</td>\n",
       "      <td>1</td>\n",
       "      <td>0</td>\n",
       "      <td>0</td>\n",
       "      <td>0</td>\n",
       "      <td>-0.055152</td>\n",
       "      <td>0</td>\n",
       "      <td>0</td>\n",
       "      <td>0</td>\n",
       "      <td>-0.410572</td>\n",
       "    </tr>\n",
       "    <tr>\n",
       "      <th>4</th>\n",
       "      <td>0</td>\n",
       "      <td>-0.698163</td>\n",
       "      <td>0.150377</td>\n",
       "      <td>1.182045</td>\n",
       "      <td>-0.686927</td>\n",
       "      <td>1.104526</td>\n",
       "      <td>-0.436242</td>\n",
       "      <td>-0.353343</td>\n",
       "      <td>0.389812</td>\n",
       "      <td>1.156952</td>\n",
       "      <td>...</td>\n",
       "      <td>1.013858</td>\n",
       "      <td>0</td>\n",
       "      <td>1</td>\n",
       "      <td>0</td>\n",
       "      <td>1</td>\n",
       "      <td>0.791537</td>\n",
       "      <td>0</td>\n",
       "      <td>1</td>\n",
       "      <td>0</td>\n",
       "      <td>1.813424</td>\n",
       "    </tr>\n",
       "  </tbody>\n",
       "</table>\n",
       "<p>5 rows × 42 columns</p>\n",
       "</div>"
      ],
      "text/plain": [
       "   host_is_superhost  latitude  longitude  property_type  room_type  \\\n",
       "0                  0 -0.679295  -0.441107      -0.986725  -0.686927   \n",
       "1                  0 -0.790334   0.371405      -0.444532   1.329375   \n",
       "2                  0 -0.222341  -0.297405      -0.986725   1.329375   \n",
       "3                  1  0.401822  -0.949369      -0.986725   1.329375   \n",
       "4                  0 -0.698163   0.150377       1.182045  -0.686927   \n",
       "\n",
       "   accommodates  bathrooms  bedrooms      beds     price  ...  \\\n",
       "0      3.941999   3.918024  4.874716  5.592370  5.115958  ...   \n",
       "1     -0.597957   0.652325 -0.353343 -0.650700 -0.309346  ...   \n",
       "2     -1.165452   0.652325 -0.353343 -0.650700 -0.793225  ...   \n",
       "3     -0.030463  -0.436242 -0.353343 -0.650700 -0.705247  ...   \n",
       "4      1.104526  -0.436242 -0.353343  0.389812  1.156952  ...   \n",
       "\n",
       "   amenities_count  facilities_Free parking on premises  facilities_Gym  \\\n",
       "0        -0.787543                                    0               0   \n",
       "1        -2.228663                                    1               1   \n",
       "2        -3.669784                                    0               0   \n",
       "3         0.293298                                    1               0   \n",
       "4         1.013858                                    0               1   \n",
       "\n",
       "   facilities_Hot tub  facilities_Pool  facilities_count  \\\n",
       "0                   0                0         -0.901841   \n",
       "1                   0                1          1.638226   \n",
       "2                   0                0         -0.901841   \n",
       "3                   0                0         -0.055152   \n",
       "4                   0                1          0.791537   \n",
       "\n",
       "   house_rules_Suitable for events  house_rules_Pets allowed  \\\n",
       "0                                0                         0   \n",
       "1                                0                         0   \n",
       "2                                0                         0   \n",
       "3                                0                         0   \n",
       "4                                0                         1   \n",
       "\n",
       "   house_rules_Smoking allowed  house_rules_count  \n",
       "0                            0          -0.410572  \n",
       "1                            0          -0.410572  \n",
       "2                            0          -0.410572  \n",
       "3                            0          -0.410572  \n",
       "4                            0           1.813424  \n",
       "\n",
       "[5 rows x 42 columns]"
      ]
     },
     "execution_count": 10,
     "metadata": {},
     "output_type": "execute_result"
    }
   ],
   "source": [
    "demo_df.head(5)"
   ]
  },
  {
   "cell_type": "markdown",
   "metadata": {},
   "source": [
    "# 4. Set Up Model and Dataset"
   ]
  },
  {
   "cell_type": "code",
   "execution_count": 11,
   "metadata": {},
   "outputs": [
    {
     "data": {
      "text/plain": [
       "<All keys matched successfully>"
      ]
     },
     "execution_count": 11,
     "metadata": {},
     "output_type": "execute_result"
    }
   ],
   "source": [
    "class airbnb_net (nn.Module):\n",
    "    def __init__(self):\n",
    "        super(airbnb_net, self).__init__()\n",
    "        self.layer1 = nn.Linear(41, 41*3)\n",
    "        self.layer2 = nn.Linear(41*3, 41*3)\n",
    "        self.layer3 = nn.Linear(41*3, 41*2)\n",
    "        self.layer4 = nn.Linear(41*2, 41*2)\n",
    "        self.layer5 = nn.Linear(41*2, 41*1)\n",
    "        self.layer6 = nn.Linear(41*1, 1)\n",
    "    \n",
    "    def forward(self, x):\n",
    "        x = torch.relu(self.layer1(x))\n",
    "        x = torch.relu(self.layer2(x))\n",
    "        x = torch.relu(self.layer3(x))\n",
    "        x = torch.relu(self.layer4(x))\n",
    "        x = torch.relu(self.layer5(x))\n",
    "        return self.layer6(x)\n",
    "    \n",
    "class airbnb_dataset (Dataset):\n",
    "    def __init__(self, df, purpose):\n",
    "        self.price = torch.from_numpy(df[\"price\"].to_numpy())\n",
    "        self.data = torch.from_numpy(df.drop(columns=\"price\").to_numpy())\n",
    "        self.purpose = purpose\n",
    "        \n",
    "    def __len__(self):\n",
    "        return len(self.price)\n",
    "    \n",
    "    def __getitem__(self, index):\n",
    "        # Returns specific sample as a dict\n",
    "        if torch.is_tensor(index):\n",
    "            index = index.tolist()\n",
    "        sample = self.data[index]\n",
    "        label = self.price[index]\n",
    "        return {\"sample\": sample, \"label\": label}\n",
    "    \n",
    "def get_error(net, train_loader, threshold):\n",
    "    train_samples = 0\n",
    "    train_error = 0\n",
    "    train_accuracy = [0 for i in threshold]\n",
    "    errors = torch.tensor([])\n",
    "    for i, data in enumerate(train_loader):\n",
    "        sample = data[\"sample\"].float()\n",
    "        label = data[\"label\"].float().view(-1)\n",
    "        output = net(sample).view(-1)\n",
    "        error = abs(label-output)*mean_std[\"std\"][\"price\"]\n",
    "        errors = torch.cat((errors, error))\n",
    "        for j in range(len(threshold)):\n",
    "            accurate = error < float(threshold[j])\n",
    "            train_accuracy[j] += accurate.sum().item()\n",
    "        train_samples += len(label)\n",
    "        train_error += error.sum().item()\n",
    "    avg_train_error = float(train_error)/float(train_samples)\n",
    "    avg_train_accuracy = [float(a)/float(train_samples) for a in train_accuracy]\n",
    "\n",
    "    return errors, avg_train_error, avg_train_accuracy\n",
    "\n",
    "demo_ds = airbnb_dataset(demo_df, \"demo\")\n",
    "demo_loader = DataLoader(demo_ds, batch_size=1000, shuffle=False, num_workers=0)\n",
    "\n",
    "checkpoint = torch.load(\"../test/Brian/nov22_test01/final/checkpoint_final.tar\")\n",
    "model = airbnb_net()\n",
    "model.load_state_dict(checkpoint[\"model_state_dict\"])"
   ]
  },
  {
   "cell_type": "markdown",
   "metadata": {},
   "source": [
    "# 5. Calculate Error"
   ]
  },
  {
   "cell_type": "code",
   "execution_count": 12,
   "metadata": {},
   "outputs": [
    {
     "name": "stdout",
     "output_type": "stream",
     "text": [
      "Average Error: $40.61\n",
      "Average Accuracy with Threshold=20: 0.70\n"
     ]
    },
    {
     "data": {
      "image/png": "[encoded data removed]",
      "text/plain": [
       "<Figure size 432x288 with 1 Axes>"
      ]
     },
     "metadata": {
      "needs_background": "light"
     },
     "output_type": "display_data"
    }
   ],
   "source": [
    "thresholds = [i for i in range(0, 51, 2)]\n",
    "errors, avg_error, avg_accuracy = get_error(model, demo_loader, thresholds)\n",
    "print(\"Average Error: $%3.2f\" %(avg_error))\n",
    "print(\"Average Accuracy with Threshold=20: %.2f\" % avg_accuracy[thresholds.index(20)])\n",
    "plt.plot(thresholds, avg_accuracy)\n",
    "plt.xlabel(\"Threshold\")\n",
    "plt.ylabel(\"Accuracy\")\n",
    "plt.ylim((0, 1))\n",
    "plt.title(\"Accuracy by Threshold\")\n",
    "plt.show()"
   ]
  },
  {
   "cell_type": "markdown",
   "metadata": {},
   "source": [
    "### 5.1 Analysis of Price Distribution"
   ]
  },
  {
   "cell_type": "code",
   "execution_count": 13,
   "metadata": {},
   "outputs": [
    {
     "name": "stdout",
     "output_type": "stream",
     "text": [
      "count    21303.000000\n",
      "mean       146.127822\n",
      "std        245.182840\n",
      "min          0.000000\n",
      "25%         68.000000\n",
      "50%        103.000000\n",
      "75%        170.000000\n",
      "max      13244.000000\n",
      "Name: price, dtype: float64\n"
     ]
    },
    {
     "data": {
      "image/png": "[encoded data removed]",
      "text/plain": [
       "<Figure size 432x288 with 1 Axes>"
      ]
     },
     "metadata": {
      "needs_background": "light"
     },
     "output_type": "display_data"
    }
   ],
   "source": [
    "print((demo_df[\"price\"]*mean_std[\"std\"][\"price\"]+mean_std[\"mean\"][\"price\"]).describe())\n",
    "#plt.hist((demo_df[\"price\"]*mean_std[\"std\"][\"price\"]+mean_std[\"mean\"][\"price\"]))\n",
    "\n",
    "arr = plt.hist(demo_df[\"price\"]*mean_std[\"std\"][\"price\"]+mean_std[\"mean\"][\"price\"],bins=15)\n",
    "\n",
    "for i in range(15):\n",
    "    plt.text(arr[1][i],arr[0][i],\"%5d\" %(arr[0][i].round()))\n",
    "plt.xlabel(\"Price\")\n",
    "plt.ylabel(\"Count\")\n",
    "plt.show()"
   ]
  },
  {
   "cell_type": "markdown",
   "metadata": {},
   "source": [
    "### 5.2 Remove Outliers and Try Again"
   ]
  },
  {
   "cell_type": "code",
   "execution_count": 14,
   "metadata": {},
   "outputs": [
    {
     "name": "stdout",
     "output_type": "stream",
     "text": [
      "count    19187.000000\n",
      "mean       124.000208\n",
      "std         69.356823\n",
      "min         36.000000\n",
      "25%         70.000000\n",
      "50%        105.000000\n",
      "75%        159.000000\n",
      "max        350.000000\n",
      "Name: price, dtype: float64\n"
     ]
    },
    {
     "data": {
      "image/png": "[encoded data removed]",
      "text/plain": [
       "<Figure size 432x288 with 1 Axes>"
      ]
     },
     "metadata": {
      "needs_background": "light"
     },
     "output_type": "display_data"
    }
   ],
   "source": [
    "demo_df = demo_df[(demo_df[\"price\"]*mean_std[\"std\"][\"price\"]+mean_std[\"mean\"][\"price\"] >= 35) & (demo_df[\"price\"]*mean_std[\"std\"][\"price\"]+mean_std[\"mean\"][\"price\"] <= 350)]\n",
    "print((demo_df[\"price\"]*mean_std[\"std\"][\"price\"]+mean_std[\"mean\"][\"price\"]).describe())\n",
    "\n",
    "arr = plt.hist(demo_df[\"price\"]*mean_std[\"std\"][\"price\"]+mean_std[\"mean\"][\"price\"],bins=15)\n",
    "\n",
    "for i in range(15):\n",
    "    plt.text(arr[1][i],arr[0][i],\"%5d\" %(arr[0][i].round()))\n",
    "plt.xlabel(\"Price\")\n",
    "plt.ylabel(\"Count\")\n",
    "plt.show()"
   ]
  },
  {
   "cell_type": "code",
   "execution_count": 15,
   "metadata": {},
   "outputs": [
    {
     "name": "stdout",
     "output_type": "stream",
     "text": [
      "Average Error: $18.09\n",
      "Average Accuracy with Threshold=20: 0.74\n"
     ]
    },
    {
     "data": {
      "image/png": "[encoded data removed]",
      "text/plain": [
       "<Figure size 432x288 with 1 Axes>"
      ]
     },
     "metadata": {
      "needs_background": "light"
     },
     "output_type": "display_data"
    }
   ],
   "source": [
    "demo_ds = airbnb_dataset(demo_df, \"demo\")\n",
    "demo_loader = DataLoader(demo_ds, batch_size=1000, shuffle=False, num_workers=0)\n",
    "\n",
    "thresholds = [i for i in range(0, 51, 2)]\n",
    "errors, avg_error, avg_accuracy = get_error(model, demo_loader, thresholds)\n",
    "print(\"Average Error: $%3.2f\" %(avg_error))\n",
    "print(\"Average Accuracy with Threshold=20: %.2f\" % avg_accuracy[thresholds.index(20)])\n",
    "plt.plot(thresholds, avg_accuracy)\n",
    "plt.xlabel(\"Threshold\")\n",
    "plt.ylabel(\"Accuracy\")\n",
    "plt.ylim((0, 1))\n",
    "plt.title(\"Accuracy by Threshold\")\n",
    "plt.show()"
   ]
  },
  {
   "cell_type": "code",
   "execution_count": null,
   "metadata": {},
   "outputs": [],
   "source": []
  }
 ],
 "metadata": {
  "kernelspec": {
   "display_name": "Python 3",
   "language": "python",
   "name": "python3"
  },
  "language_info": {
   "codemirror_mode": {
    "name": "ipython",
    "version": 3
   },
   "file_extension": ".py",
   "mimetype": "text/x-python",
   "name": "python",
   "nbconvert_exporter": "python",
   "pygments_lexer": "ipython3",
   "version": "3.7.3"
  }
 },
 "nbformat": 4,
 "nbformat_minor": 2
}
