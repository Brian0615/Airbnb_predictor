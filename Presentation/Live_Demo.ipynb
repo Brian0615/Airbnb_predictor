{
 "cells": [
  {
   "cell_type": "markdown",
   "metadata": {},
   "source": [
    "# 1. Import Required Libraries"
   ]
  },
  {
   "cell_type": "code",
   "execution_count": 18,
   "metadata": {},
   "outputs": [],
   "source": [
    "import pandas as pd\n",
    "import torch\n",
    "import torch.nn as nn\n",
    "from torch.utils.data import Dataset, DataLoader\n",
    "import matplotlib.pyplot as plt\n",
    "import numpy as np"
   ]
  },
  {
   "cell_type": "markdown",
   "metadata": {},
   "source": [
    "# 2. Load Dataset, and Mean/Std Data from Training"
   ]
  },
  {
   "cell_type": "code",
   "execution_count": 19,
   "metadata": {},
   "outputs": [],
   "source": [
    "demo_df = pd.read_csv(\"demo_dataset.csv\", \n",
    "                 usecols = ['host_is_superhost', \n",
    "                            'latitude','longitude', 'property_type',\n",
    "                            'room_type','accommodates','bathrooms',\n",
    "                            'bedrooms','beds','amenities', 'price',\n",
    "                            'instant_bookable','cancellation_policy'])\n",
    "\n",
    "demo_df[\"price\"] = demo_df[\"price\"].apply(lambda x: x.replace('$','').replace(',', '').replace('.00', '')).astype(\"int\")\n",
    "mean_std = pd.read_csv(\"../data_processing/mean_std.csv\", index_col = 0)"
   ]
  },
  {
   "cell_type": "markdown",
   "metadata": {},
   "source": [
    "# 3. Data Processing"
   ]
  },
  {
   "cell_type": "markdown",
   "metadata": {},
   "source": [
    "### 3.1 Visualize Initial Data"
   ]
  },
  {
   "cell_type": "code",
   "execution_count": 20,
   "metadata": {},
   "outputs": [
    {
     "data": {
      "text/html": [
       "<div>\n",
       "<style scoped>\n",
       "    .dataframe tbody tr th:only-of-type {\n",
       "        vertical-align: middle;\n",
       "    }\n",
       "\n",
       "    .dataframe tbody tr th {\n",
       "        vertical-align: top;\n",
       "    }\n",
       "\n",
       "    .dataframe thead th {\n",
       "        text-align: right;\n",
       "    }\n",
       "</style>\n",
       "<table border=\"1\" class=\"dataframe\">\n",
       "  <thead>\n",
       "    <tr style=\"text-align: right;\">\n",
       "      <th></th>\n",
       "      <th>0</th>\n",
       "    </tr>\n",
       "  </thead>\n",
       "  <tbody>\n",
       "    <tr>\n",
       "      <th>host_is_superhost</th>\n",
       "      <td>f</td>\n",
       "    </tr>\n",
       "    <tr>\n",
       "      <th>latitude</th>\n",
       "      <td>43.6462</td>\n",
       "    </tr>\n",
       "    <tr>\n",
       "      <th>longitude</th>\n",
       "      <td>-79.4245</td>\n",
       "    </tr>\n",
       "    <tr>\n",
       "      <th>property_type</th>\n",
       "      <td>House</td>\n",
       "    </tr>\n",
       "    <tr>\n",
       "      <th>room_type</th>\n",
       "      <td>Entire home/apt</td>\n",
       "    </tr>\n",
       "    <tr>\n",
       "      <th>accommodates</th>\n",
       "      <td>10</td>\n",
       "    </tr>\n",
       "    <tr>\n",
       "      <th>bathrooms</th>\n",
       "      <td>3</td>\n",
       "    </tr>\n",
       "    <tr>\n",
       "      <th>bedrooms</th>\n",
       "      <td>5</td>\n",
       "    </tr>\n",
       "    <tr>\n",
       "      <th>beds</th>\n",
       "      <td>7</td>\n",
       "    </tr>\n",
       "    <tr>\n",
       "      <th>amenities</th>\n",
       "      <td>{TV,Internet,Wifi,\"Air conditioning\",Kitchen,\"...</td>\n",
       "    </tr>\n",
       "    <tr>\n",
       "      <th>price</th>\n",
       "      <td>469</td>\n",
       "    </tr>\n",
       "    <tr>\n",
       "      <th>instant_bookable</th>\n",
       "      <td>f</td>\n",
       "    </tr>\n",
       "    <tr>\n",
       "      <th>cancellation_policy</th>\n",
       "      <td>strict_14_with_grace_period</td>\n",
       "    </tr>\n",
       "  </tbody>\n",
       "</table>\n",
       "</div>"
      ],
      "text/plain": [
       "                                                                     0\n",
       "host_is_superhost                                                    f\n",
       "latitude                                                       43.6462\n",
       "longitude                                                     -79.4245\n",
       "property_type                                                    House\n",
       "room_type                                              Entire home/apt\n",
       "accommodates                                                        10\n",
       "bathrooms                                                            3\n",
       "bedrooms                                                             5\n",
       "beds                                                                 7\n",
       "amenities            {TV,Internet,Wifi,\"Air conditioning\",Kitchen,\"...\n",
       "price                                                              469\n",
       "instant_bookable                                                     f\n",
       "cancellation_policy                        strict_14_with_grace_period"
      ]
     },
     "execution_count": 20,
     "metadata": {},
     "output_type": "execute_result"
    }
   ],
   "source": [
    "demo_df.head(1).transpose()"
   ]
  },
  {
   "cell_type": "markdown",
   "metadata": {},
   "source": [
    "### 3.2 Process Data"
   ]
  },
  {
   "cell_type": "code",
   "execution_count": 21,
   "metadata": {},
   "outputs": [
    {
     "name": "stdout",
     "output_type": "stream",
     "text": [
      "Initial # of Samples:  21900 \n",
      "\n",
      "DELETING SAMPLES WITH MISSING VALUES...\n",
      "--Number of Samples Removed:  44\n",
      "NUMERICALIZING TRUE/FALSE...\n",
      "0    16025\n",
      "1     5831\n",
      "Name: host_is_superhost, dtype: int64\n",
      "0    13137\n",
      "1     8719\n",
      "Name: instant_bookable, dtype: int64\n",
      " \n",
      "NUMERICALIZING CANCELLATION POLICY...\n",
      "strict_14_with_grace_period    8985\n",
      "moderate                       6679\n",
      "flexible                       6116\n",
      "super_strict_30                  64\n",
      "super_strict_60                  12\n",
      "Name: cancellation_policy, dtype: int64\n",
      " \n",
      "NUMERICALIZING ROOM TYPE...\n",
      "Entire home/apt    14229\n",
      "Private room        7086\n",
      "Shared room          354\n",
      "Name: room_type, dtype: int64\n",
      "\n",
      "FILTERLING AND NUMERICALIZING PROPERTY TYPES...\n",
      "Types of Included Properties:\n",
      "Apartment             6393\n",
      "Condominium           5991\n",
      "House                 5753\n",
      "Townhouse              979\n",
      "Guest suite            922\n",
      "Bungalow               738\n",
      "Loft                   437\n",
      "Serviced apartment      90\n",
      "Name: property_type, dtype: int64\n",
      "Number of Samples Removed: 553\n",
      "Total # of Samples Remaining:\t 21303\n",
      "Number of Samples Removed:\t 597\n",
      "% of Samples Removed:\t\t 2.7260273972602738\n"
     ]
    }
   ],
   "source": [
    "initial_samples = len(demo_df) # initial number of samples\n",
    "print(\"Initial # of Samples: \", len(demo_df), \"\\n\")\n",
    "\n",
    "# Drop samples with missing values\n",
    "print(\"DELETING SAMPLES WITH MISSING VALUES...\")\n",
    "demo_df = demo_df.dropna()\n",
    "samples1 = len(demo_df) # current number of samples\n",
    "print(\"--Number of Samples Removed: \", initial_samples-samples1)\n",
    "\n",
    "# reset index\n",
    "demo_df = demo_df.reset_index(drop=True)\n",
    "\n",
    "cancellation_policies = {\n",
    "    \"flexible\": 1,\n",
    "    \"moderate\": 5,\n",
    "    \"strict_14_with_grace_period\": 14,\n",
    "    \"super_strict_30\": 30,\n",
    "    \"super_strict_60\": 60\n",
    "}\n",
    "room_types = {\n",
    "    \"Entire home/apt\": 0,\n",
    "    \"Private room\": 1,\n",
    "    \"Shared room\": 2\n",
    "}\n",
    "true_false = {\n",
    "    't': 1,\n",
    "    'f': 0,\n",
    "    True: 1,\n",
    "    False: 0\n",
    "}\n",
    "\n",
    "property_types = {\n",
    "    \"House\" : 1,\n",
    "    \"Apartment\" : 2,\n",
    "    \"Condominium\" : 5,\n",
    "    \"Townhouse\" : 3,\n",
    "    \"Bungalow\" : 0,\n",
    "    \"Loft\" : 4,\n",
    "    \"Serviced apartment\" : 6,\n",
    "    \"Guest suite\" : 7\n",
    "}\n",
    "\n",
    "# convert t/f into 1/0\n",
    "print(\"NUMERICALIZING TRUE/FALSE...\")\n",
    "for i in [\"host_is_superhost\", \"instant_bookable\"]:\n",
    "    demo_df[i] = demo_df[i].map(true_false)\n",
    "    print(demo_df[i].value_counts())\n",
    "\n",
    "print(\" \")\n",
    "\n",
    "# cancellation policy\n",
    "print(\"NUMERICALIZING CANCELLATION POLICY...\")\n",
    "print(demo_df[\"cancellation_policy\"].value_counts())\n",
    "demo_df[\"cancellation_policy\"] = demo_df[\"cancellation_policy\"].map(cancellation_policies)\n",
    "\n",
    "print(\" \")\n",
    "\n",
    "# room_type\n",
    "print(\"NUMERICALIZING ROOM TYPE...\")\n",
    "accum = [\"Entire home/apt\", \"Private room\", \"Shared room\"]\n",
    "demo_df = demo_df[demo_df[\"room_type\"].isin(accum)]\n",
    "print(demo_df[\"room_type\"].value_counts())\n",
    "demo_df[\"room_type\"] = demo_df[\"room_type\"].map(room_types)\n",
    "\n",
    "print(\"\")\n",
    "print(\"FILTERLING AND NUMERICALIZING PROPERTY TYPES...\")\n",
    "\n",
    "print(\"Types of Included Properties:\")\n",
    "accum = [\"House\", \"Apartment\", \"Condominium\", \"Townhouse\", \"Bungalow\", \"Loft\", \"Serviced apartment\", \"Guest suite\"]\n",
    "demo_df = demo_df[demo_df[\"property_type\"].isin(accum)]\n",
    "print(demo_df[\"property_type\"].value_counts())\n",
    "demo_df[\"property_type\"] = demo_df[\"property_type\"].map(property_types)\n",
    "\n",
    "samples2 = len(demo_df)\n",
    "print(\"Number of Samples Removed:\", samples1 - samples2)\n",
    "demo_df = demo_df.reset_index(drop=True)\n",
    "\n",
    "amenities = ['Kitchen', 'Heating', 'Washer', 'Wifi', 'Indoor fireplace', 'Iron', \n",
    "             'Laptop friendly workspace', 'Crib', 'Self check-in', 'Carbon monoxide detector', \n",
    "             'Shampoo', 'Air conditioning', 'Dryer', 'Breakfast', 'Hangers', 'Hair dryer', \n",
    "             'TV', 'High chair', 'Smoke detector', 'Private bathroom']\n",
    "\n",
    "facilities = ['Free parking on premises', 'Gym', 'Hot tub', 'Pool']\n",
    "\n",
    "house_rules = ['Suitable for events', 'Pets allowed', 'Smoking allowed']\n",
    "\n",
    "for i in amenities:\n",
    "    demo_df[\"amenities_\"+i] = demo_df[\"amenities\"].apply(lambda x: 1 if i in x else 0)\n",
    "demo_df[\"amenities_count\"] = sum(demo_df[\"amenities_\"+i] for i in amenities)\n",
    "\n",
    "for i in facilities:\n",
    "    demo_df[\"facilities_\"+i] = demo_df[\"amenities\"].apply(lambda x: 1 if i in x else 0)\n",
    "demo_df[\"facilities_count\"] = sum(demo_df[\"facilities_\"+i] for i in facilities)\n",
    "\n",
    "for i in house_rules:\n",
    "    demo_df[\"house_rules_\"+i] = demo_df[\"amenities\"].apply(lambda x: 1 if i in x else 0)\n",
    "demo_df[\"house_rules_count\"] = sum(demo_df[\"house_rules_\"+i] for i in house_rules)\n",
    "\n",
    "demo_df = demo_df.drop(columns=[\"amenities\"])\n",
    "\n",
    "for i in mean_std.index:\n",
    "    demo_df[i] = (demo_df[i] - mean_std[\"mean\"][i])/mean_std[\"std\"][i] \n",
    "    \n",
    "print(\"Total # of Samples Remaining:\\t\", len(demo_df))\n",
    "print(\"Number of Samples Removed:\\t\", initial_samples - len(demo_df))\n",
    "print(\"% of Samples Removed:\\t\\t\", (initial_samples - len(demo_df))/initial_samples*100.0)"
   ]
  },
  {
   "cell_type": "markdown",
   "metadata": {},
   "source": [
    "### 3.2 Visualize Processed Data"
   ]
  },
  {
   "cell_type": "code",
   "execution_count": 22,
   "metadata": {},
   "outputs": [
    {
     "data": {
      "text/html": [
       "<div>\n",
       "<style scoped>\n",
       "    .dataframe tbody tr th:only-of-type {\n",
       "        vertical-align: middle;\n",
       "    }\n",
       "\n",
       "    .dataframe tbody tr th {\n",
       "        vertical-align: top;\n",
       "    }\n",
       "\n",
       "    .dataframe thead th {\n",
       "        text-align: right;\n",
       "    }\n",
       "</style>\n",
       "<table border=\"1\" class=\"dataframe\">\n",
       "  <thead>\n",
       "    <tr style=\"text-align: right;\">\n",
       "      <th></th>\n",
       "      <th>0</th>\n",
       "    </tr>\n",
       "  </thead>\n",
       "  <tbody>\n",
       "    <tr>\n",
       "      <th>host_is_superhost</th>\n",
       "      <td>0.000000</td>\n",
       "    </tr>\n",
       "    <tr>\n",
       "      <th>latitude</th>\n",
       "      <td>-0.679295</td>\n",
       "    </tr>\n",
       "    <tr>\n",
       "      <th>longitude</th>\n",
       "      <td>-0.441107</td>\n",
       "    </tr>\n",
       "    <tr>\n",
       "      <th>property_type</th>\n",
       "      <td>-0.986725</td>\n",
       "    </tr>\n",
       "    <tr>\n",
       "      <th>room_type</th>\n",
       "      <td>-0.686927</td>\n",
       "    </tr>\n",
       "    <tr>\n",
       "      <th>accommodates</th>\n",
       "      <td>3.941999</td>\n",
       "    </tr>\n",
       "    <tr>\n",
       "      <th>bathrooms</th>\n",
       "      <td>3.918024</td>\n",
       "    </tr>\n",
       "    <tr>\n",
       "      <th>bedrooms</th>\n",
       "      <td>4.874716</td>\n",
       "    </tr>\n",
       "    <tr>\n",
       "      <th>beds</th>\n",
       "      <td>5.592370</td>\n",
       "    </tr>\n",
       "    <tr>\n",
       "      <th>price</th>\n",
       "      <td>5.115958</td>\n",
       "    </tr>\n",
       "    <tr>\n",
       "      <th>instant_bookable</th>\n",
       "      <td>0.000000</td>\n",
       "    </tr>\n",
       "    <tr>\n",
       "      <th>cancellation_policy</th>\n",
       "      <td>1.160642</td>\n",
       "    </tr>\n",
       "    <tr>\n",
       "      <th>amenities_Kitchen</th>\n",
       "      <td>1.000000</td>\n",
       "    </tr>\n",
       "    <tr>\n",
       "      <th>amenities_Heating</th>\n",
       "      <td>1.000000</td>\n",
       "    </tr>\n",
       "    <tr>\n",
       "      <th>amenities_Washer</th>\n",
       "      <td>1.000000</td>\n",
       "    </tr>\n",
       "    <tr>\n",
       "      <th>amenities_Wifi</th>\n",
       "      <td>1.000000</td>\n",
       "    </tr>\n",
       "    <tr>\n",
       "      <th>amenities_Indoor fireplace</th>\n",
       "      <td>1.000000</td>\n",
       "    </tr>\n",
       "    <tr>\n",
       "      <th>amenities_Iron</th>\n",
       "      <td>0.000000</td>\n",
       "    </tr>\n",
       "    <tr>\n",
       "      <th>amenities_Laptop friendly workspace</th>\n",
       "      <td>0.000000</td>\n",
       "    </tr>\n",
       "    <tr>\n",
       "      <th>amenities_Crib</th>\n",
       "      <td>0.000000</td>\n",
       "    </tr>\n",
       "    <tr>\n",
       "      <th>amenities_Self check-in</th>\n",
       "      <td>0.000000</td>\n",
       "    </tr>\n",
       "    <tr>\n",
       "      <th>amenities_Carbon monoxide detector</th>\n",
       "      <td>0.000000</td>\n",
       "    </tr>\n",
       "    <tr>\n",
       "      <th>amenities_Shampoo</th>\n",
       "      <td>1.000000</td>\n",
       "    </tr>\n",
       "    <tr>\n",
       "      <th>amenities_Air conditioning</th>\n",
       "      <td>1.000000</td>\n",
       "    </tr>\n",
       "    <tr>\n",
       "      <th>amenities_Dryer</th>\n",
       "      <td>1.000000</td>\n",
       "    </tr>\n",
       "    <tr>\n",
       "      <th>amenities_Breakfast</th>\n",
       "      <td>0.000000</td>\n",
       "    </tr>\n",
       "    <tr>\n",
       "      <th>amenities_Hangers</th>\n",
       "      <td>0.000000</td>\n",
       "    </tr>\n",
       "    <tr>\n",
       "      <th>amenities_Hair dryer</th>\n",
       "      <td>0.000000</td>\n",
       "    </tr>\n",
       "    <tr>\n",
       "      <th>amenities_TV</th>\n",
       "      <td>1.000000</td>\n",
       "    </tr>\n",
       "    <tr>\n",
       "      <th>amenities_High chair</th>\n",
       "      <td>0.000000</td>\n",
       "    </tr>\n",
       "    <tr>\n",
       "      <th>amenities_Smoke detector</th>\n",
       "      <td>1.000000</td>\n",
       "    </tr>\n",
       "    <tr>\n",
       "      <th>amenities_Private bathroom</th>\n",
       "      <td>0.000000</td>\n",
       "    </tr>\n",
       "    <tr>\n",
       "      <th>amenities_count</th>\n",
       "      <td>-0.787543</td>\n",
       "    </tr>\n",
       "    <tr>\n",
       "      <th>facilities_Free parking on premises</th>\n",
       "      <td>0.000000</td>\n",
       "    </tr>\n",
       "    <tr>\n",
       "      <th>facilities_Gym</th>\n",
       "      <td>0.000000</td>\n",
       "    </tr>\n",
       "    <tr>\n",
       "      <th>facilities_Hot tub</th>\n",
       "      <td>0.000000</td>\n",
       "    </tr>\n",
       "    <tr>\n",
       "      <th>facilities_Pool</th>\n",
       "      <td>0.000000</td>\n",
       "    </tr>\n",
       "    <tr>\n",
       "      <th>facilities_count</th>\n",
       "      <td>-0.901841</td>\n",
       "    </tr>\n",
       "    <tr>\n",
       "      <th>house_rules_Suitable for events</th>\n",
       "      <td>0.000000</td>\n",
       "    </tr>\n",
       "    <tr>\n",
       "      <th>house_rules_Pets allowed</th>\n",
       "      <td>0.000000</td>\n",
       "    </tr>\n",
       "    <tr>\n",
       "      <th>house_rules_Smoking allowed</th>\n",
       "      <td>0.000000</td>\n",
       "    </tr>\n",
       "    <tr>\n",
       "      <th>house_rules_count</th>\n",
       "      <td>-0.410572</td>\n",
       "    </tr>\n",
       "  </tbody>\n",
       "</table>\n",
       "</div>"
      ],
      "text/plain": [
       "                                            0\n",
       "host_is_superhost                    0.000000\n",
       "latitude                            -0.679295\n",
       "longitude                           -0.441107\n",
       "property_type                       -0.986725\n",
       "room_type                           -0.686927\n",
       "accommodates                         3.941999\n",
       "bathrooms                            3.918024\n",
       "bedrooms                             4.874716\n",
       "beds                                 5.592370\n",
       "price                                5.115958\n",
       "instant_bookable                     0.000000\n",
       "cancellation_policy                  1.160642\n",
       "amenities_Kitchen                    1.000000\n",
       "amenities_Heating                    1.000000\n",
       "amenities_Washer                     1.000000\n",
       "amenities_Wifi                       1.000000\n",
       "amenities_Indoor fireplace           1.000000\n",
       "amenities_Iron                       0.000000\n",
       "amenities_Laptop friendly workspace  0.000000\n",
       "amenities_Crib                       0.000000\n",
       "amenities_Self check-in              0.000000\n",
       "amenities_Carbon monoxide detector   0.000000\n",
       "amenities_Shampoo                    1.000000\n",
       "amenities_Air conditioning           1.000000\n",
       "amenities_Dryer                      1.000000\n",
       "amenities_Breakfast                  0.000000\n",
       "amenities_Hangers                    0.000000\n",
       "amenities_Hair dryer                 0.000000\n",
       "amenities_TV                         1.000000\n",
       "amenities_High chair                 0.000000\n",
       "amenities_Smoke detector             1.000000\n",
       "amenities_Private bathroom           0.000000\n",
       "amenities_count                     -0.787543\n",
       "facilities_Free parking on premises  0.000000\n",
       "facilities_Gym                       0.000000\n",
       "facilities_Hot tub                   0.000000\n",
       "facilities_Pool                      0.000000\n",
       "facilities_count                    -0.901841\n",
       "house_rules_Suitable for events      0.000000\n",
       "house_rules_Pets allowed             0.000000\n",
       "house_rules_Smoking allowed          0.000000\n",
       "house_rules_count                   -0.410572"
      ]
     },
     "execution_count": 22,
     "metadata": {},
     "output_type": "execute_result"
    }
   ],
   "source": [
    "pd.set_option('display.max_rows', 42)\n",
    "demo_df.head(1).transpose()"
   ]
  },
  {
   "cell_type": "markdown",
   "metadata": {},
   "source": [
    "# 4. Set Up Model and Dataset"
   ]
  },
  {
   "cell_type": "code",
   "execution_count": 23,
   "metadata": {},
   "outputs": [
    {
     "data": {
      "text/plain": [
       "<All keys matched successfully>"
      ]
     },
     "execution_count": 23,
     "metadata": {},
     "output_type": "execute_result"
    }
   ],
   "source": [
    "class airbnb_net (nn.Module):\n",
    "    def __init__(self):\n",
    "        super(airbnb_net, self).__init__()\n",
    "        self.layer1 = nn.Linear(41, 41*3)\n",
    "        self.layer2 = nn.Linear(41*3, 41*3)\n",
    "        self.layer3 = nn.Linear(41*3, 41*2)\n",
    "        self.layer4 = nn.Linear(41*2, 41*2)\n",
    "        self.layer5 = nn.Linear(41*2, 41*1)\n",
    "        self.layer6 = nn.Linear(41*1, 1)\n",
    "    \n",
    "    def forward(self, x):\n",
    "        x = torch.relu(self.layer1(x))\n",
    "        x = torch.relu(self.layer2(x))\n",
    "        x = torch.relu(self.layer3(x))\n",
    "        x = torch.relu(self.layer4(x))\n",
    "        x = torch.relu(self.layer5(x))\n",
    "        return self.layer6(x)\n",
    "    \n",
    "class airbnb_dataset (Dataset):\n",
    "    def __init__(self, df, purpose):\n",
    "        self.price = torch.from_numpy(df[\"price\"].to_numpy())\n",
    "        self.data = torch.from_numpy(df.drop(columns=\"price\").to_numpy())\n",
    "        self.purpose = purpose\n",
    "        \n",
    "    def __len__(self):\n",
    "        return len(self.price)\n",
    "    \n",
    "    def __getitem__(self, index):\n",
    "        # Returns specific sample as a dict\n",
    "        if torch.is_tensor(index):\n",
    "            index = index.tolist()\n",
    "        sample = self.data[index]\n",
    "        label = self.price[index]\n",
    "        return {\"sample\": sample, \"label\": label}\n",
    "    \n",
    "def get_error(net, train_loader, threshold):\n",
    "    train_samples = 0\n",
    "    train_error = 0\n",
    "    train_accuracy = [0 for i in threshold]\n",
    "    errors = torch.tensor([])\n",
    "    for i, data in enumerate(train_loader):\n",
    "        sample = data[\"sample\"].float()\n",
    "        label = data[\"label\"].float().view(-1)\n",
    "        output = net(sample).view(-1)\n",
    "        error = abs(label-output)*mean_std[\"std\"][\"price\"]\n",
    "        errors = torch.cat((errors, error))\n",
    "        for j in range(len(threshold)):\n",
    "            accurate = error < float(threshold[j])\n",
    "            train_accuracy[j] += accurate.sum().item()\n",
    "        train_samples += len(label)\n",
    "        train_error += error.sum().item()\n",
    "    avg_train_error = float(train_error)/float(train_samples)\n",
    "    avg_train_accuracy = [float(a)/float(train_samples) for a in train_accuracy]\n",
    "\n",
    "    return errors, avg_train_error, avg_train_accuracy\n",
    "\n",
    "demo_ds = airbnb_dataset(demo_df, \"demo\")\n",
    "demo_loader = DataLoader(demo_ds, batch_size=1000, shuffle=False, num_workers=0)\n",
    "\n",
    "checkpoint = torch.load(\"../test/Brian/nov22_test01/final/checkpoint_final.tar\")\n",
    "model = airbnb_net()\n",
    "model.load_state_dict(checkpoint[\"model_state_dict\"])"
   ]
  },
  {
   "cell_type": "markdown",
   "metadata": {},
   "source": [
    "# 5. Calculate Error"
   ]
  },
  {
   "cell_type": "code",
   "execution_count": 24,
   "metadata": {},
   "outputs": [
    {
     "name": "stdout",
     "output_type": "stream",
     "text": [
      "Average Error: $40.61\n",
      "Average Accuracy with Threshold=20: 0.70\n"
     ]
    },
    {
     "data": {
      "image/png": "[encoded data removed]",
      "text/plain": [
       "<Figure size 432x288 with 1 Axes>"
      ]
     },
     "metadata": {
      "needs_background": "light"
     },
     "output_type": "display_data"
    }
   ],
   "source": [
    "thresholds = [i for i in range(0, 51, 2)]\n",
    "errors, avg_error, avg_accuracy = get_error(model, demo_loader, thresholds)\n",
    "print(\"Average Error: $%3.2f\" %(avg_error))\n",
    "print(\"Average Accuracy with Threshold=20: %.2f\" % avg_accuracy[thresholds.index(20)])\n",
    "plt.plot(thresholds, avg_accuracy)\n",
    "plt.xlabel(\"Threshold\")\n",
    "\n",
    "plt.ylabel(\"Accuracy\")\n",
    "plt.ylim((0, 1))\n",
    "plt.title(\"Accuracy by Threshold\")\n",
    "plt.savefig(\"Sept 2019 Acc.png\")\n",
    "plt.show()\n"
   ]
  },
  {
   "cell_type": "markdown",
   "metadata": {},
   "source": [
    "### 5.1 Analysis of Price Distribution"
   ]
  },
  {
   "cell_type": "code",
   "execution_count": 25,
   "metadata": {},
   "outputs": [
    {
     "name": "stdout",
     "output_type": "stream",
     "text": [
      "count    21303.000000\n",
      "mean       146.127822\n",
      "std        245.182840\n",
      "min          0.000000\n",
      "25%         68.000000\n",
      "50%        103.000000\n",
      "75%        170.000000\n",
      "max      13244.000000\n",
      "Name: price, dtype: float64\n"
     ]
    },
    {
     "data": {
      "image/png": "[encoded data removed]",
      "text/plain": [
       "<Figure size 432x288 with 1 Axes>"
      ]
     },
     "metadata": {
      "needs_background": "light"
     },
     "output_type": "display_data"
    }
   ],
   "source": [
    "print((demo_df[\"price\"]*mean_std[\"std\"][\"price\"]+mean_std[\"mean\"][\"price\"]).describe())\n",
    "#plt.hist((demo_df[\"price\"]*mean_std[\"std\"][\"price\"]+mean_std[\"mean\"][\"price\"]))\n",
    "\n",
    "arr = plt.hist(demo_df[\"price\"]*mean_std[\"std\"][\"price\"]+mean_std[\"mean\"][\"price\"],bins=15)\n",
    "\n",
    "for i in range(15):\n",
    "    plt.text(arr[1][i],arr[0][i],\"%5d\" %(arr[0][i].round()))\n",
    "plt.xlabel(\"Price\")\n",
    "plt.title(\"Price Distribution before Outlier Removal\")\n",
    "plt.ylabel(\"Count\")\n",
    "plt.savefig(\"Demo price dist 1.png\")\n",
    "plt.show()"
   ]
  },
  {
   "cell_type": "markdown",
   "metadata": {},
   "source": [
    "### 5.2 Remove Outliers and Try Again"
   ]
  },
  {
   "cell_type": "code",
   "execution_count": 26,
   "metadata": {},
   "outputs": [
    {
     "name": "stdout",
     "output_type": "stream",
     "text": [
      "count    19187.000000\n",
      "mean       124.000208\n",
      "std         69.356823\n",
      "min         36.000000\n",
      "25%         70.000000\n",
      "50%        105.000000\n",
      "75%        159.000000\n",
      "max        350.000000\n",
      "Name: price, dtype: float64\n"
     ]
    },
    {
     "data": {
      "image/png": "[encoded data removed]",
      "text/plain": [
       "<Figure size 432x288 with 1 Axes>"
      ]
     },
     "metadata": {
      "needs_background": "light"
     },
     "output_type": "display_data"
    }
   ],
   "source": [
    "demo_df = demo_df[(demo_df[\"price\"]*mean_std[\"std\"][\"price\"]+mean_std[\"mean\"][\"price\"] >= 35) & (demo_df[\"price\"]*mean_std[\"std\"][\"price\"]+mean_std[\"mean\"][\"price\"] <= 350)]\n",
    "print((demo_df[\"price\"]*mean_std[\"std\"][\"price\"]+mean_std[\"mean\"][\"price\"]).describe())\n",
    "\n",
    "arr = plt.hist(demo_df[\"price\"]*mean_std[\"std\"][\"price\"]+mean_std[\"mean\"][\"price\"],bins=15)\n",
    "\n",
    "for i in range(15):\n",
    "    plt.text(arr[1][i],arr[0][i],\"%5d\" %(arr[0][i].round()))\n",
    "plt.xlabel(\"Price\")\n",
    "plt.ylabel(\"Count\")\n",
    "plt.title(\"Price Distribution after Outlier Removal\")\n",
    "plt.savefig(\"Demo price dist 2.png\")\n",
    "plt.show()"
   ]
  },
  {
   "cell_type": "code",
   "execution_count": 14,
   "metadata": {},
   "outputs": [
    {
     "data": {
      "image/png": "[encoded data removed]",
      "text/plain": [
       "<Figure size 432x288 with 1 Axes>"
      ]
     },
     "metadata": {
      "needs_background": "light"
     },
     "output_type": "display_data"
    }
   ],
   "source": [
    "arr = plt.hist((demo_df[\"price\"]*mean_std[\"std\"][\"price\"]+mean_std[\"mean\"][\"price\"]).apply(lambda x: np.log(x)),bins=15)\n",
    "\n",
    "for i in range(15):\n",
    "    plt.text(arr[1][i],arr[0][i],\"%5d\" %(arr[0][i].round()))\n",
    "plt.xlabel(\"Price\")\n",
    "plt.ylabel(\"Count\")\n",
    "plt.savefig(\"Demo price dist 2.png\")\n",
    "plt.show()"
   ]
  },
  {
   "cell_type": "code",
   "execution_count": 10,
   "metadata": {},
   "outputs": [
    {
     "name": "stdout",
     "output_type": "stream",
     "text": [
      "Average Error: $18.09\n",
      "Average Accuracy with Threshold=20: 0.74\n"
     ]
    },
    {
     "data": {
      "image/png": "[encoded data removed]",
      "text/plain": [
       "<Figure size 432x288 with 1 Axes>"
      ]
     },
     "metadata": {
      "needs_background": "light"
     },
     "output_type": "display_data"
    }
   ],
   "source": [
    "demo_ds = airbnb_dataset(demo_df, \"demo\")\n",
    "demo_loader = DataLoader(demo_ds, batch_size=1000, shuffle=False, num_workers=0)\n",
    "\n",
    "thresholds = [i for i in range(0, 51, 2)]\n",
    "errors, avg_error, avg_accuracy = get_error(model, demo_loader, thresholds)\n",
    "print(\"Average Error: $%3.2f\" %(avg_error))\n",
    "print(\"Average Accuracy with Threshold=20: %.2f\" % avg_accuracy[thresholds.index(20)])\n",
    "plt.plot(thresholds, avg_accuracy)\n",
    "plt.xlabel(\"Threshold\")\n",
    "plt.ylabel(\"Accuracy\")\n",
    "plt.ylim((0, 1))\n",
    "plt.title(\"Accuracy by Threshold\")\n",
    "plt.show()"
   ]
  },
  {
   "cell_type": "code",
   "execution_count": null,
   "metadata": {},
   "outputs": [],
   "source": []
  }
 ],
 "metadata": {
  "kernelspec": {
   "display_name": "Python 3",
   "language": "python",
   "name": "python3"
  },
  "language_info": {
   "codemirror_mode": {
    "name": "ipython",
    "version": 3
   },
   "file_extension": ".py",
   "mimetype": "text/x-python",
   "name": "python",
   "nbconvert_exporter": "python",
   "pygments_lexer": "ipython3",
   "version": "3.7.3"
  }
 },
 "nbformat": 4,
 "nbformat_minor": 2
}
