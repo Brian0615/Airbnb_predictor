{
 "cells": [
  {
   "cell_type": "markdown",
   "metadata": {},
   "source": [
    "# 1. Import Required Libraries"
   ]
  },
  {
   "cell_type": "code",
   "execution_count": null,
   "metadata": {},
   "outputs": [],
   "source": [
    "import pandas as pd\n",
    "import torch\n",
    "import torch.nn as nn\n",
    "from torch.utils.data import Dataset, DataLoader\n",
    "import matplotlib.pyplot as plt"
   ]
  },
  {
   "cell_type": "markdown",
   "metadata": {},
   "source": [
    "# 2. Load Dataset, and Mean/Std Data from Training"
   ]
  },
  {
   "cell_type": "code",
   "execution_count": null,
   "metadata": {},
   "outputs": [],
   "source": [
    "demo_df = pd.read_csv(\"demo_dataset.csv\", \n",
    "                 usecols = ['host_is_superhost', \n",
    "                            'latitude','longitude', 'property_type',\n",
    "                            'room_type','accommodates','bathrooms',\n",
    "                            'bedrooms','beds','amenities', 'price',\n",
    "                            'instant_bookable','cancellation_policy'])\n",
    "\n",
    "demo_df[\"price\"] = demo_df[\"price\"].apply(lambda x: x.replace('$','').replace(',', '').replace('.00', '')).astype(\"int\")\n",
    "mean_std = pd.read_csv(\"../data_processing/mean_std.csv\", index_col = 0)"
   ]
  },
  {
   "cell_type": "markdown",
   "metadata": {},
   "source": [
    "# 3. Process Data"
   ]
  },
  {
   "cell_type": "markdown",
   "metadata": {},
   "source": [
    "### 3.1 Visualize Initial Data"
   ]
  },
  {
   "cell_type": "code",
   "execution_count": null,
   "metadata": {},
   "outputs": [],
   "source": [
    "demo_df.head(5)"
   ]
  },
  {
   "cell_type": "markdown",
   "metadata": {},
   "source": [
    "### 3.2 Remove Samples with Missing Values"
   ]
  },
  {
   "cell_type": "code",
   "execution_count": null,
   "metadata": {},
   "outputs": [],
   "source": [
    "initial_samples = len(demo_df) # initial number of samples\n",
    "print(\"Initial # of Samples: \", len(demo_df), \"\\n\")\n",
    "\n",
    "# Drop samples with missing values\n",
    "print(\"DELETING SAMPLES WITH MISSING VALUES...\")\n",
    "demo_df = demo_df.dropna()\n",
    "samples1 = len(demo_df) # current number of samples\n",
    "print(\"--Number of Samples Removed: \", initial_samples-samples1)\n",
    "\n",
    "# reset index\n",
    "demo_df = demo_df.reset_index(drop=True)"
   ]
  },
  {
   "cell_type": "markdown",
   "metadata": {},
   "source": [
    "### 3.3 Numericalize Categorical Data"
   ]
  },
  {
   "cell_type": "code",
   "execution_count": null,
   "metadata": {},
   "outputs": [],
   "source": [
    "cancellation_policies = {\n",
    "    \"flexible\": 1,\n",
    "    \"moderate\": 5,\n",
    "    \"strict_14_with_grace_period\": 14,\n",
    "    \"super_strict_30\": 30,\n",
    "    \"super_strict_60\": 60\n",
    "}\n",
    "room_types = {\n",
    "    \"Entire home/apt\": 0,\n",
    "    \"Private room\": 1,\n",
    "    \"Shared room\": 2\n",
    "}\n",
    "true_false = {\n",
    "    't': 1,\n",
    "    'f': 0,\n",
    "    True: 1,\n",
    "    False: 0\n",
    "}\n",
    "\n",
    "property_types = {\n",
    "    \"House\" : 1,\n",
    "    \"Apartment\" : 2,\n",
    "    \"Condominium\" : 5,\n",
    "    \"Townhouse\" : 3,\n",
    "    \"Bungalow\" : 0,\n",
    "    \"Loft\" : 4,\n",
    "    \"Serviced apartment\" : 6,\n",
    "    \"Guest suite\" : 7\n",
    "}\n",
    "\n",
    "# convert t/f into 1/0\n",
    "print(\"NUMERICALIZING TRUE/FALSE...\")\n",
    "for i in [\"host_is_superhost\", \"instant_bookable\"]:\n",
    "    demo_df[i] = demo_df[i].map(true_false)\n",
    "    print(demo_df[i].value_counts())\n",
    "\n",
    "print(\" \")\n",
    "\n",
    "# cancellation policy\n",
    "print(\"NUMERICALIZING CANCELLATION POLICY...\")\n",
    "print(demo_df[\"cancellation_policy\"].value_counts())\n",
    "demo_df[\"cancellation_policy\"] = demo_df[\"cancellation_policy\"].map(cancellation_policies)\n",
    "\n",
    "print(\" \")\n",
    "\n",
    "# room_type\n",
    "print(\"NUMERICALIZING ROOM TYPE...\")\n",
    "accum = [\"Entire home/apt\", \"Private room\", \"Shared room\"]\n",
    "demo_df = demo_df[demo_df[\"room_type\"].isin(accum)]\n",
    "print(demo_df[\"room_type\"].value_counts())\n",
    "demo_df[\"room_type\"] = demo_df[\"room_type\"].map(room_types)\n",
    "\n",
    "print(\"\")\n",
    "print(\"FILTERLING AND NUMERICALIZING PROPERTY TYPES...\")\n",
    "\n",
    "print(\"Types of Included Properties:\")\n",
    "accum = [\"House\", \"Apartment\", \"Condominium\", \"Townhouse\", \"Bungalow\", \"Loft\", \"Serviced apartment\", \"Guest suite\"]\n",
    "demo_df = demo_df[demo_df[\"property_type\"].isin(accum)]\n",
    "print(demo_df[\"property_type\"].value_counts())\n",
    "demo_df[\"property_type\"] = demo_df[\"property_type\"].map(property_types)\n",
    "\n",
    "samples2 = len(demo_df)\n",
    "print(\"Number of Samples Removed:\", samples1 - samples2)\n",
    "demo_df = demo_df.reset_index(drop=True)"
   ]
  },
  {
   "cell_type": "markdown",
   "metadata": {},
   "source": [
    "### 3.4 One-Hot Encoding for Amenities"
   ]
  },
  {
   "cell_type": "code",
   "execution_count": null,
   "metadata": {},
   "outputs": [],
   "source": [
    "amenities = ['Kitchen', 'Heating', 'Washer', 'Wifi', 'Indoor fireplace', 'Iron', \n",
    "             'Laptop friendly workspace', 'Crib', 'Self check-in', 'Carbon monoxide detector', \n",
    "             'Shampoo', 'Air conditioning', 'Dryer', 'Breakfast', 'Hangers', 'Hair dryer', \n",
    "             'TV', 'High chair', 'Smoke detector', 'Private bathroom']\n",
    "\n",
    "facilities = ['Free parking on premises', 'Gym', 'Hot tub', 'Pool']\n",
    "\n",
    "house_rules = ['Suitable for events', 'Pets allowed', 'Smoking allowed']\n",
    "\n",
    "for i in amenities:\n",
    "    demo_df[\"amenities_\"+i] = demo_df[\"amenities\"].apply(lambda x: 1 if i in x else 0)\n",
    "demo_df[\"amenities_count\"] = sum(demo_df[\"amenities_\"+i] for i in amenities)\n",
    "\n",
    "for i in facilities:\n",
    "    demo_df[\"facilities_\"+i] = demo_df[\"amenities\"].apply(lambda x: 1 if i in x else 0)\n",
    "demo_df[\"facilities_count\"] = sum(demo_df[\"facilities_\"+i] for i in facilities)\n",
    "\n",
    "for i in house_rules:\n",
    "    demo_df[\"house_rules_\"+i] = demo_df[\"amenities\"].apply(lambda x: 1 if i in x else 0)\n",
    "demo_df[\"house_rules_count\"] = sum(demo_df[\"house_rules_\"+i] for i in house_rules)\n",
    "\n",
    "demo_df = demo_df.drop(columns=[\"amenities\"])"
   ]
  },
  {
   "cell_type": "markdown",
   "metadata": {},
   "source": [
    "### 3.5 Standardize Numerical Features"
   ]
  },
  {
   "cell_type": "code",
   "execution_count": null,
   "metadata": {},
   "outputs": [],
   "source": [
    "for i in mean_std.index:\n",
    "    demo_df[i] = (demo_df[i] - mean_std[\"mean\"][i])/mean_std[\"std\"][i] "
   ]
  },
  {
   "cell_type": "code",
   "execution_count": null,
   "metadata": {},
   "outputs": [],
   "source": [
    "mean_std"
   ]
  },
  {
   "cell_type": "markdown",
   "metadata": {},
   "source": [
    "### 3.6 Result"
   ]
  },
  {
   "cell_type": "code",
   "execution_count": null,
   "metadata": {},
   "outputs": [],
   "source": [
    "print(\"Total # of Samples Remaining:\\t\", len(demo_df))\n",
    "print(\"Number of Samples Removed:\\t\", initial_samples - len(demo_df))\n",
    "print(\"% of Samples Removed:\\t\\t\", (initial_samples - len(demo_df))/initial_samples*100.0)"
   ]
  },
  {
   "cell_type": "markdown",
   "metadata": {},
   "source": [
    "### 3.7 Visualize Processed Data"
   ]
  },
  {
   "cell_type": "code",
   "execution_count": null,
   "metadata": {},
   "outputs": [],
   "source": [
    "demo_df.head(5)"
   ]
  },
  {
   "cell_type": "markdown",
   "metadata": {},
   "source": [
    "# 4. Set Up Model and Dataset"
   ]
  },
  {
   "cell_type": "code",
   "execution_count": null,
   "metadata": {},
   "outputs": [],
   "source": [
    "class airbnb_net (nn.Module):\n",
    "    def __init__(self):\n",
    "        super(airbnb_net, self).__init__()\n",
    "        self.layer1 = nn.Linear(41, 41*3)\n",
    "        self.layer2 = nn.Linear(41*3, 41*3)\n",
    "        self.layer3 = nn.Linear(41*3, 41*2)\n",
    "        self.layer4 = nn.Linear(41*2, 41*2)\n",
    "        self.layer5 = nn.Linear(41*2, 41*1)\n",
    "        self.layer6 = nn.Linear(41*1, 1)\n",
    "    \n",
    "    def forward(self, x):\n",
    "        x = torch.relu(self.layer1(x))\n",
    "        x = torch.relu(self.layer2(x))\n",
    "        x = torch.relu(self.layer3(x))\n",
    "        x = torch.relu(self.layer4(x))\n",
    "        x = torch.relu(self.layer5(x))\n",
    "        return self.layer6(x)\n",
    "    \n",
    "class airbnb_dataset (Dataset):\n",
    "    def __init__(self, df, purpose):\n",
    "        self.price = torch.from_numpy(df[\"price\"].to_numpy())\n",
    "        self.data = torch.from_numpy(df.drop(columns=\"price\").to_numpy())\n",
    "        self.purpose = purpose\n",
    "        \n",
    "    def __len__(self):\n",
    "        return len(self.price)\n",
    "    \n",
    "    def __getitem__(self, index):\n",
    "        # Returns specific sample as a dict\n",
    "        if torch.is_tensor(index):\n",
    "            index = index.tolist()\n",
    "        sample = self.data[index]\n",
    "        label = self.price[index]\n",
    "        return {\"sample\": sample, \"label\": label}\n",
    "    \n",
    "def get_error(net, train_loader, threshold):\n",
    "    train_samples = 0\n",
    "    train_error = 0\n",
    "    train_accuracy = [0 for i in threshold]\n",
    "    errors = torch.tensor([])\n",
    "    for i, data in enumerate(train_loader):\n",
    "        sample = data[\"sample\"].float()\n",
    "        label = data[\"label\"].float().view(-1)\n",
    "        output = net(sample).view(-1)\n",
    "        error = abs(label-output)*mean_std[\"std\"][\"price\"]\n",
    "        errors = torch.cat((errors, error))\n",
    "        for j in range(len(threshold)):\n",
    "            accurate = error < float(threshold[j])\n",
    "            train_accuracy[j] += accurate.sum().item()\n",
    "        train_samples += len(label)\n",
    "        train_error += error.sum().item()\n",
    "    avg_train_error = float(train_error)/float(train_samples)\n",
    "    avg_train_accuracy = [float(a)/float(train_samples) for a in train_accuracy]\n",
    "\n",
    "    return errors, avg_train_error, avg_train_accuracy\n",
    "\n",
    "demo_ds = airbnb_dataset(demo_df, \"demo\")\n",
    "demo_loader = DataLoader(demo_ds, batch_size=1000, shuffle=False, num_workers=0)\n",
    "\n",
    "checkpoint = torch.load(\"../test/Brian/nov22_test01/final/checkpoint_final.tar\")\n",
    "model = airbnb_net()\n",
    "model.load_state_dict(checkpoint[\"model_state_dict\"])"
   ]
  },
  {
   "cell_type": "markdown",
   "metadata": {},
   "source": [
    "# 5. Calculate Error"
   ]
  },
  {
   "cell_type": "code",
   "execution_count": null,
   "metadata": {},
   "outputs": [],
   "source": [
    "thresholds = [i for i in range(0, 51, 2)]\n",
    "errors, avg_error, avg_accuracy = get_error(model, demo_loader, thresholds)\n",
    "print(\"Average Error: $%3.2f\" %(avg_error))\n",
    "print(\"Average Accuracy with Threshold=20: %.2f\" % avg_accuracy[thresholds.index(20)])\n",
    "plt.plot(thresholds, avg_accuracy)\n",
    "plt.xlabel(\"Threshold\")\n",
    "plt.ylabel(\"Accuracy\")\n",
    "plt.ylim((0, 1))\n",
    "plt.title(\"Accuracy by Threshold\")\n",
    "plt.show()"
   ]
  },
  {
   "cell_type": "markdown",
   "metadata": {},
   "source": [
    "### 5.1 Analysis of Price Distribution"
   ]
  },
  {
   "cell_type": "code",
   "execution_count": null,
   "metadata": {},
   "outputs": [],
   "source": [
    "print((demo_df[\"price\"]*mean_std[\"std\"][\"price\"]+mean_std[\"mean\"][\"price\"]).describe())\n",
    "#plt.hist((demo_df[\"price\"]*mean_std[\"std\"][\"price\"]+mean_std[\"mean\"][\"price\"]))\n",
    "\n",
    "arr = plt.hist(demo_df[\"price\"]*mean_std[\"std\"][\"price\"]+mean_std[\"mean\"][\"price\"],bins=15)\n",
    "\n",
    "for i in range(15):\n",
    "    plt.text(arr[1][i],arr[0][i],\"%5d\" %(arr[0][i].round()))\n",
    "plt.xlabel(\"Price\")\n",
    "plt.ylabel(\"Count\")\n",
    "plt.show()"
   ]
  },
  {
   "cell_type": "markdown",
   "metadata": {},
   "source": [
    "### 5.2 Remove Outliers and Try Again"
   ]
  },
  {
   "cell_type": "code",
   "execution_count": null,
   "metadata": {},
   "outputs": [],
   "source": [
    "demo_df = demo_df[(demo_df[\"price\"]*mean_std[\"std\"][\"price\"]+mean_std[\"mean\"][\"price\"] >= 35) & (demo_df[\"price\"]*mean_std[\"std\"][\"price\"]+mean_std[\"mean\"][\"price\"] <= 350)]\n",
    "print((demo_df[\"price\"]*mean_std[\"std\"][\"price\"]+mean_std[\"mean\"][\"price\"]).describe())\n",
    "\n",
    "arr = plt.hist(demo_df[\"price\"]*mean_std[\"std\"][\"price\"]+mean_std[\"mean\"][\"price\"],bins=15)\n",
    "\n",
    "for i in range(15):\n",
    "    plt.text(arr[1][i],arr[0][i],\"%5d\" %(arr[0][i].round()))\n",
    "plt.xlabel(\"Price\")\n",
    "plt.ylabel(\"Count\")\n",
    "plt.show()"
   ]
  },
  {
   "cell_type": "code",
   "execution_count": null,
   "metadata": {},
   "outputs": [],
   "source": [
    "demo_ds = airbnb_dataset(demo_df, \"demo\")\n",
    "demo_loader = DataLoader(demo_ds, batch_size=1000, shuffle=False, num_workers=0)\n",
    "\n",
    "thresholds = [i for i in range(0, 51, 2)]\n",
    "errors, avg_error, avg_accuracy = get_error(model, demo_loader, thresholds)\n",
    "print(\"Average Error: $%3.2f\" %(avg_error))\n",
    "print(\"Average Accuracy with Threshold=20: %.2f\" % avg_accuracy[thresholds.index(20)])\n",
    "plt.plot(thresholds, avg_accuracy)\n",
    "plt.xlabel(\"Threshold\")\n",
    "plt.ylabel(\"Accuracy\")\n",
    "plt.ylim((0, 1))\n",
    "plt.title(\"Accuracy by Threshold\")\n",
    "plt.show()"
   ]
  },
  {
   "cell_type": "code",
   "execution_count": null,
   "metadata": {},
   "outputs": [],
   "source": []
  }
 ],
 "metadata": {
  "kernelspec": {
   "display_name": "Python 3",
   "language": "python",
   "name": "python3"
  },
  "language_info": {
   "codemirror_mode": {
    "name": "ipython",
    "version": 3
   },
   "file_extension": ".py",
   "mimetype": "text/x-python",
   "name": "python",
   "nbconvert_exporter": "python",
   "pygments_lexer": "ipython3",
   "version": "3.7.3"
  }
 },
 "nbformat": 4,
 "nbformat_minor": 2
}
