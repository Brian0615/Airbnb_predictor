{
 "cells": [
  {
   "cell_type": "markdown",
   "metadata": {},
   "source": [
    "## Import Req'd Libraries "
   ]
  },
  {
   "cell_type": "code",
   "execution_count": 1,
   "metadata": {},
   "outputs": [],
   "source": [
    "import pandas as pd\n",
    "import os\n",
    "import seaborn as sns"
   ]
  },
  {
   "cell_type": "code",
   "execution_count": 2,
   "metadata": {},
   "outputs": [],
   "source": [
    "#Getting all the file_names in a given directory\n",
    "def get_file_names(folder):\n",
    "    #Listing entries present in given folder\n",
    "    entries = os.listdir(folder)\n",
    "    for i in entries:\n",
    "        if 'csv' not in i:\n",
    "            entries.remove(i)\n",
    "    return sorted(entries, reverse=True)\n",
    "\n",
    "#Saving the file\n",
    "def save_file(root, name_of_file, my_dataframe):\n",
    "    #Test if save directory exists\n",
    "    try:\n",
    "        my_dataframe.to_csv(root+'processed_data/'+ name_of_file, index=False)\n",
    "    #Otherwise make the directory and then save\n",
    "    except:\n",
    "        os.mkdir(root+'processed_data')\n",
    "        my_dataframe.to_csv(root+'processed_data/'+ name_of_file, index=False)"
   ]
  },
  {
   "cell_type": "code",
   "execution_count": 3,
   "metadata": {},
   "outputs": [],
   "source": [
    "def initialization(filepath):\n",
    "    df = pd.read_csv(filepath, \n",
    "                     usecols = ['id','last_scraped', 'host_is_superhost', \n",
    "                            'latitude','longitude', 'property_type',\n",
    "                           'room_type','accommodates','bathrooms',\n",
    "                           'bedrooms','beds','amenities', 'price',\n",
    "                            'instant_bookable','cancellation_policy'])\n",
    "    df[\"last_scraped\"] = pd.to_datetime(df[\"last_scraped\"])\n",
    "    df[\"price\"] = df[\"price\"].apply(lambda x: x.replace('$','').replace(',', '').replace('.00', '')).astype(\"int\")\n",
    "    return df"
   ]
  },
  {
   "cell_type": "markdown",
   "metadata": {},
   "source": [
    "## Concatenating All Data Together"
   ]
  },
  {
   "cell_type": "code",
   "execution_count": 4,
   "metadata": {},
   "outputs": [
    {
     "name": "stdout",
     "output_type": "stream",
     "text": [
      "COMBINING INTO ONE DATAFRAME...\n",
      "--Processing:  19_08_08_listings.csv\n",
      "--Processing:  19_07_08_listings.csv\n",
      "--Processing:  19_06_04_listings.csv\n",
      "--Processing:  19_05_06_listings.csv\n",
      "--Processing:  19_04_08_listings.csv\n",
      "--Processing:  19_03_07_listings.csv\n",
      "--Processing:  19_02_04_listings.csv\n",
      "--Processing:  19_01_13_listings.csv\n",
      "--Processing:  18_12_06_listings.csv\n",
      "--Processing:  18_11_04_listings.csv\n",
      "--Processing:  18_10_06_listings.csv\n",
      "--Processing:  18_09_08_listings.csv\n",
      "Initial # of Samples:  236507\n",
      " \n",
      "DELETING SAMPLES WITH MISSING VALUES...\n",
      "--Number of Samples Removed:  559\n"
     ]
    }
   ],
   "source": [
    "# get list of filenames\n",
    "root = '../'\n",
    "name = get_file_names(root+'original_dataset')\n",
    "accum_kept = 0\n",
    "accum_removed = 0\n",
    "\n",
    "# combine all files into one\n",
    "print(\"COMBINING INTO ONE DATAFRAME...\")\n",
    "frames = []\n",
    "for i in name:\n",
    "    print(\"--Processing: \", i)\n",
    "    filepath = root+'original_dataset/'+i\n",
    "    frames.append(initialization(filepath))\n",
    "full_df = pd.concat(frames, sort=False)\n",
    "\n",
    "initial_samples = len(full_df)\n",
    "print(\"Initial # of Samples: \", len(full_df))\n",
    "\n",
    "print(\" \")\n",
    "\n",
    "# Drop missing values\n",
    "print(\"DELETING SAMPLES WITH MISSING VALUES...\")\n",
    "full_df = full_df.dropna()\n",
    "samples1 = len(full_df)\n",
    "print(\"--Number of Samples Removed: \", initial_samples-samples1)\n",
    "\n",
    "# reset index\n",
    "full_df = full_df.reset_index(drop=True)"
   ]
  },
  {
   "cell_type": "markdown",
   "metadata": {},
   "source": [
    "## Numericalize Categorical Data"
   ]
  },
  {
   "cell_type": "markdown",
   "metadata": {},
   "source": [
    "#### Mapping for Categorical Features"
   ]
  },
  {
   "cell_type": "code",
   "execution_count": 5,
   "metadata": {},
   "outputs": [],
   "source": [
    "cancellation_policies = {\n",
    "    \"flexible\": 1,\n",
    "    \"moderate\": 5,\n",
    "    \"strict_14_with_grace_period\": 14,\n",
    "    \"super_strict_30\": 30,\n",
    "    \"super_strict_60\": 60\n",
    "}\n",
    "room_types = {\n",
    "    \"Entire home/apt\": 0,\n",
    "    \"Private room\": 1,\n",
    "    \"Shared room\": 2\n",
    "}\n",
    "true_false = {\n",
    "    't': 1,\n",
    "    'f': 0,\n",
    "    True: 1,\n",
    "    False: 0\n",
    "}"
   ]
  },
  {
   "cell_type": "code",
   "execution_count": 6,
   "metadata": {},
   "outputs": [
    {
     "name": "stdout",
     "output_type": "stream",
     "text": [
      "NUMERICALIZING TRUE/FALSE...\n",
      "0    175881\n",
      "1     60067\n",
      "Name: host_is_superhost, dtype: int64\n",
      "0    147446\n",
      "1     88502\n",
      "Name: instant_bookable, dtype: int64\n",
      " \n",
      "NUMERICALIZING CANCELLATION POLICY...\n",
      "strict_14_with_grace_period    93976\n",
      "moderate                       70987\n",
      "flexible                       70497\n",
      "super_strict_30                  345\n",
      "super_strict_60                  143\n",
      "Name: cancellation_policy, dtype: int64\n",
      " \n",
      "NUMERICALIZING ROOM TYPE...\n",
      "Entire home/apt    152229\n",
      "Private room        79583\n",
      "Shared room          4136\n",
      "Name: room_type, dtype: int64\n"
     ]
    }
   ],
   "source": [
    "# convert t/f into 1/0\n",
    "print(\"NUMERICALIZING TRUE/FALSE...\")\n",
    "for i in [\"host_is_superhost\", \"instant_bookable\"]:\n",
    "    full_df[i] = full_df[i].map(true_false)\n",
    "    print(full_df[i].value_counts())\n",
    "\n",
    "print(\" \")\n",
    "\n",
    "# cancellation policy\n",
    "print(\"NUMERICALIZING CANCELLATION POLICY...\")\n",
    "print(full_df[\"cancellation_policy\"].value_counts())\n",
    "full_df[\"cancellation_policy\"] = full_df[\"cancellation_policy\"].map(cancellation_policies)\n",
    "\n",
    "print(\" \")\n",
    "\n",
    "# room_type\n",
    "print(\"NUMERICALIZING ROOM TYPE...\")\n",
    "print(full_df[\"room_type\"].value_counts())\n",
    "full_df[\"room_type\"] = full_df[\"room_type\"].map(room_types)\n"
   ]
  },
  {
   "cell_type": "markdown",
   "metadata": {},
   "source": [
    "#### Mapping for Property Types"
   ]
  },
  {
   "cell_type": "code",
   "execution_count": 7,
   "metadata": {},
   "outputs": [],
   "source": [
    "property_types = {\n",
    "    \"House\" : 1,\n",
    "    \"Apartment\" : 2,\n",
    "    \"Condominium\" : 5,\n",
    "    \"Townhouse\" : 3,\n",
    "    \"Bungalow\" : 0,\n",
    "    \"Loft\" : 4,\n",
    "    \"Serviced Apartment\" : 6,\n",
    "    \"Guest Suite\" : 7\n",
    "}"
   ]
  },
  {
   "cell_type": "code",
   "execution_count": 8,
   "metadata": {},
   "outputs": [
    {
     "name": "stdout",
     "output_type": "stream",
     "text": [
      "FILTERLING AND NUMERICALIZING PROPERTY TYPES...\n",
      "Types of Included Properties:\n",
      "['Apartment', 'House', 'Condominium', 'Townhouse', 'Guest suite', 'Bungalow', 'Loft', 'Serviced apartment']\n",
      "Apartment             73132\n",
      "House                 62791\n",
      "Condominium           59341\n",
      "Townhouse             11401\n",
      "Guest suite            8561\n",
      "Bungalow               7278\n",
      "Loft                   5268\n",
      "Serviced apartment     2676\n",
      "Name: property_type, dtype: int64\n",
      "Number of Samples Removed: 5500\n"
     ]
    }
   ],
   "source": [
    "print(\"FILTERLING AND NUMERICALIZING PROPERTY TYPES...\")\n",
    "property_type_counts = full_df[\"property_type\"].value_counts()\n",
    "accum = []\n",
    "for i in range(len(property_type_counts)):\n",
    "    if property_type_counts[i] >= 0.01*samples1:\n",
    "        accum.append(property_type_counts.index[i])\n",
    "print(\"Types of Included Properties:\")\n",
    "print(accum)\n",
    "\n",
    "full_df = full_df[full_df[\"property_type\"].isin(accum)]\n",
    "print(full_df[\"property_type\"].value_counts())\n",
    "\n",
    "full_df[\"property_type\"] = full_df[\"property_type\"].map(property_types)\n",
    "\n",
    "samples2 = len(full_df)\n",
    "print(\"Number of Samples Removed:\", samples1 - samples2)\n",
    "full_df = full_df.reset_index(drop=True)"
   ]
  },
  {
   "cell_type": "markdown",
   "metadata": {},
   "source": [
    "## Store Mean and Std Dev"
   ]
  },
  {
   "cell_type": "code",
   "execution_count": 9,
   "metadata": {},
   "outputs": [],
   "source": [
    "mean_std = pd.DataFrame(columns = [\"mean\", \"std\"])"
   ]
  },
  {
   "cell_type": "markdown",
   "metadata": {},
   "source": [
    "## Normalizing Price"
   ]
  },
  {
   "cell_type": "code",
   "execution_count": 10,
   "metadata": {},
   "outputs": [
    {
     "name": "stdout",
     "output_type": "stream",
     "text": [
      "(BEFORE) PRICE STATISTICS...\n",
      "count    230448.000000\n",
      "mean        141.131253\n",
      "std         222.025238\n",
      "min           0.000000\n",
      "25%          65.000000\n",
      "50%         100.000000\n",
      "75%         160.000000\n",
      "max       13426.000000\n",
      "Name: price, dtype: float64\n",
      "0.01     25.0\n",
      "0.05     35.0\n",
      "0.10     43.0\n",
      "0.90    250.0\n",
      "0.95    350.0\n",
      "0.99    700.0\n",
      "Name: price, dtype: float64\n",
      "\n",
      "TRIMMING PRICE OUTLIERS...\n",
      "--Number of Samples Removed:  20833\n",
      "\n",
      "STANDARDIZING PRICE...\n",
      "--Mean Price:  120.09710182954464\n",
      "--Std Price:  68.1989415678001\n"
     ]
    }
   ],
   "source": [
    "print(\"(BEFORE) PRICE STATISTICS...\")\n",
    "print(full_df[\"price\"].describe())\n",
    "print(full_df[\"price\"].quantile([0.01, 0.05, 0.1, 0.9, 0.95, 0.99]))\n",
    "\n",
    "print(\"\")\n",
    "print(\"TRIMMING PRICE OUTLIERS...\")\n",
    "min_price = full_df[\"price\"].quantile(0.05)\n",
    "max_price = full_df[\"price\"].quantile(0.95)\n",
    "\n",
    "full_df = full_df[(full_df[\"price\"] >= min_price) & (full_df[\"price\"] <= max_price)]\n",
    "samples3 = len(full_df)\n",
    "print(\"--Number of Samples Removed: \", samples2-samples3)\n",
    "full_df = full_df.reset_index(drop=True)\n",
    "\n",
    "print(\"\")\n",
    "print(\"STANDARDIZING PRICE...\") # using Z-score\n",
    "mean_price = full_df[\"price\"].mean()\n",
    "std_price = full_df[\"price\"].std()\n",
    "full_df[\"price\"] = (full_df[\"price\"] - mean_price)/std_price\n",
    "print(\"--Mean Price: \", mean_price)\n",
    "print(\"--Std Price: \", std_price)\n",
    "temp = pd.DataFrame([[mean_price, std_price]], columns=[\"mean\", \"std\"], index=[\"price\"])\n",
    "mean_std = mean_std.append(temp)"
   ]
  },
  {
   "cell_type": "markdown",
   "metadata": {},
   "source": [
    "## Categorizing Amenities"
   ]
  },
  {
   "cell_type": "code",
   "execution_count": 11,
   "metadata": {},
   "outputs": [],
   "source": [
    "amenities = ['Kitchen', 'Heating', 'Washer', 'Wifi', 'Indoor fireplace', 'Iron', \n",
    "             'Laptop friendly workspace', 'Crib', 'Self check-in', 'Carbon monoxide detector', \n",
    "             'Shampoo', 'Air conditioning', 'Dryer', 'Breakfast', 'Hangers', 'Hair dryer', \n",
    "             'TV', 'High chair', 'Smoke detector', 'Private bathroom']\n",
    "\n",
    "facilities = ['Free parking on premises', 'Gym', 'Hot tub', 'Pool']\n",
    "\n",
    "house_rules = ['Suitable for events', 'Pets allowed', 'Smoking allowed']"
   ]
  },
  {
   "cell_type": "code",
   "execution_count": 12,
   "metadata": {},
   "outputs": [],
   "source": [
    "for i in amenities:\n",
    "    full_df[\"amenities_\"+i] = full_df[\"amenities\"].apply(lambda x: 1 if i in x else 0)\n",
    "full_df[\"amenities_count\"] = sum(full_df[\"amenities_\"+i] for i in amenities)\n",
    "\n",
    "for i in facilities:\n",
    "    full_df[\"facilities_\"+i] = full_df[\"amenities\"].apply(lambda x: 1 if i in x else 0)\n",
    "full_df[\"facilities_count\"] = sum(full_df[\"facilities_\"+i] for i in facilities)\n",
    "\n",
    "for i in house_rules:\n",
    "    full_df[\"house_rules_\"+i] = full_df[\"amenities\"].apply(lambda x: 1 if i in x else 0)\n",
    "full_df[\"house_rules_count\"] = sum(full_df[\"house_rules_\"+i] for i in house_rules)"
   ]
  },
  {
   "cell_type": "markdown",
   "metadata": {},
   "source": [
    "## Standardizing Numerical Features\n"
   ]
  },
  {
   "cell_type": "code",
   "execution_count": 13,
   "metadata": {},
   "outputs": [
    {
     "name": "stdout",
     "output_type": "stream",
     "text": [
      "STANDARDIZING LATITUDE...\n",
      "--Mean:  43.6774921041365\n",
      "--Std:  0.04610974980603515\n",
      "\n",
      "STANDARDIZING LONGITUDE...\n",
      "--Mean:  -79.398326263056\n",
      "--Std:  0.059359153647078375\n",
      "\n",
      "STANDARDIZING PROPERTY_TYPE...\n",
      "--Mean:  2.602684638072134\n",
      "--Std:  1.635305987842257\n",
      "\n",
      "STANDARDIZING ROOM_TYPE...\n",
      "--Mean:  0.340686496672471\n",
      "--Std:  0.49595747276278074\n",
      "\n",
      "STANDARDIZING ACCOMMODATES...\n",
      "--Mean:  3.053679364549293\n",
      "--Std:  1.762131516737716\n",
      "\n",
      "STANDARDIZING BATHROOMS...\n",
      "--Mean:  1.200374496099993\n",
      "--Std:  0.45931966657010054\n",
      "\n",
      "STANDARDIZING BEDROOMS...\n",
      "--Mean:  1.2703432483362356\n",
      "--Std:  0.7651023775852693\n",
      "\n",
      "STANDARDIZING BEDS...\n",
      "--Mean:  1.6253655511294516\n",
      "--Std:  0.9610655274398833\n",
      "\n",
      "STANDARDIZING CANCELLATION_POLICY...\n",
      "--Mean:  7.400939818238198\n",
      "--Std:  5.685699314132479\n",
      "\n",
      "STANDARDIZING AMENITIES_COUNT...\n",
      "--Mean:  12.185917038379888\n",
      "--Std:  2.775617813711928\n",
      "\n",
      "STANDARDIZING FACILITIES_COUNT...\n",
      "--Mean:  1.0651384681439782\n",
      "--Std:  1.1810710269788807\n",
      "\n",
      "STANDARDIZING HOUSE_RULES_COUNT...\n",
      "--Mean:  0.18460988001812847\n",
      "--Std:  0.44964108350610066\n",
      "\n"
     ]
    }
   ],
   "source": [
    "for i in [\"latitude\", \"longitude\", \"property_type\", \"room_type\", \"accommodates\", \"bathrooms\", \"bedrooms\", \"beds\", \"cancellation_policy\", \"amenities_count\", \"facilities_count\", \"house_rules_count\"]:\n",
    "    print(\"STANDARDIZING \"+i.upper()+\"...\")\n",
    "    mean = full_df[i].mean()\n",
    "    std = full_df[i].std()\n",
    "    temp = pd.DataFrame([[mean, std]], columns=[\"mean\", \"std\"], index=[i])\n",
    "    mean_std = mean_std.append(temp)\n",
    "    full_df[i] = (full_df[i] - mean)/std\n",
    "    print(\"--Mean: \", mean)\n",
    "    print(\"--Std: \", std)\n",
    "    print(\"\")"
   ]
  },
  {
   "cell_type": "markdown",
   "metadata": {},
   "source": [
    "## Split Dataset and Save"
   ]
  },
  {
   "cell_type": "code",
   "execution_count": 14,
   "metadata": {},
   "outputs": [],
   "source": [
    "train_df = full_df.sample(frac=0.8,random_state=200) #random state is a seed value\n",
    "val_test_df = full_df.drop(train_df.index)\n",
    "val_df = val_test_df.sample(frac=0.5,random_state=200) #random state is a seed value\n",
    "test_df = val_test_df.drop(val_df.index)\n",
    "\n",
    "train_df = train_df.reset_index(drop=True)\n",
    "val_df = val_df.reset_index(drop=True)\n",
    "test_df = test_df.reset_index(drop=True)"
   ]
  },
  {
   "cell_type": "code",
   "execution_count": 16,
   "metadata": {},
   "outputs": [],
   "source": [
    "train_df.to_csv(\"../split_datasets/train.csv\", index=False)\n",
    "val_df.to_csv(\"../split_datasets/val.csv\", index=False)\n",
    "test_df.to_csv(\"../split_datasets/test.csv\", index=False)"
   ]
  },
  {
   "cell_type": "code",
   "execution_count": 17,
   "metadata": {},
   "outputs": [
    {
     "name": "stdout",
     "output_type": "stream",
     "text": [
      "Total # of Samples Remaining:\t 209615\n",
      "Number of Samples Removed:\t 26892\n",
      "% of Samples Removed:\t\t 11.370487977100044\n",
      "Number of Train Samples:\t 167692\n",
      "Number of Val Samples:\t\t 20962\n",
      "Number of Test Samples:\t\t 20961\n"
     ]
    }
   ],
   "source": [
    "print(\"Total # of Samples Remaining:\\t\", len(full_df))\n",
    "print(\"Number of Samples Removed:\\t\", initial_samples - len(full_df))\n",
    "print(\"% of Samples Removed:\\t\\t\", (initial_samples - len(full_df))/initial_samples*100.0)\n",
    "print(\"Number of Train Samples:\\t\", len(train_df))\n",
    "print(\"Number of Val Samples:\\t\\t\", len(val_df))\n",
    "print(\"Number of Test Samples:\\t\\t\", len(test_df))"
   ]
  },
  {
   "cell_type": "code",
   "execution_count": 18,
   "metadata": {},
   "outputs": [],
   "source": [
    "mean_std.to_csv(\"mean_std.csv\")"
   ]
  },
  {
   "cell_type": "code",
   "execution_count": 19,
   "metadata": {},
   "outputs": [
    {
     "data": {
      "text/plain": [
       "<matplotlib.axes._subplots.AxesSubplot at 0x1a27ca62e8>"
      ]
     },
     "execution_count": 19,
     "metadata": {},
     "output_type": "execute_result"
    },
    {
     "data": {
      "image/png": "[encoded data removed]",
      "text/plain": [
       "<Figure size 432x288 with 1 Axes>"
      ]
     },
     "metadata": {
      "needs_background": "light"
     },
     "output_type": "display_data"
    }
   ],
   "source": [
    "corr = full_df.corrwith(full_df[\"price\"]).drop([\"id\", \"price\"])\n",
    "corr.plot.bar()"
   ]
  },
  {
   "cell_type": "code",
   "execution_count": null,
   "metadata": {},
   "outputs": [],
   "source": []
  }
 ],
 "metadata": {
  "kernelspec": {
   "display_name": "Python 3",
   "language": "python",
   "name": "python3"
  },
  "language_info": {
   "codemirror_mode": {
    "name": "ipython",
    "version": 3
   },
   "file_extension": ".py",
   "mimetype": "text/x-python",
   "name": "python",
   "nbconvert_exporter": "python",
   "pygments_lexer": "ipython3",
   "version": "3.7.3"
  }
 },
 "nbformat": 4,
 "nbformat_minor": 2
}
