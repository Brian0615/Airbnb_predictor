{
 "cells": [
  {
   "cell_type": "code",
   "execution_count": 1,
   "metadata": {},
   "outputs": [],
   "source": [
    "import pandas as pd\n",
    "import os\n",
    "import seaborn as sns"
   ]
  },
  {
   "cell_type": "code",
   "execution_count": 2,
   "metadata": {},
   "outputs": [],
   "source": [
    "list_of_keep = ['price', 'accommodates', 'room_type_Entire home/apt', 'room_type_Private room', 'bedrooms', 'beds', \n",
    "                'amenities_TV', 'bathrooms', 'amenities_Elevator', 'latitude', 'amenities_Gym', \n",
    "                'amenities_Lock on bedroom door', 'property_type_Condominium', 'amenities_Dishwasher', \n",
    "                'amenities_Dryer', 'amenities_Air conditioning', 'amenities_Pool', 'amenities_Cable TV', \n",
    "                'amenities_Washer', 'amenities_Family/kid friendly', 'amenities_Hot tub', 'amenities_Iron', \n",
    "                'cancellation_policy_strict_14_with_grace_period', 'amenities_Kitchen', 'amenities_Patio or balcony', \n",
    "                'amenities_Hair dryer', 'amenities_Bathtub', 'property_type_House', 'cancellation_policy_flexible', \n",
    "                'amenities_Coffee maker', 'amenities_Oven', 'amenities_Doorman', 'amenities_Shampoo', \n",
    "                'amenities_Cooking basics', 'amenities_Long term stays allowed', 'amenities_Stove', \n",
    "                'property_type_Serviced apartment', 'amenities_Room-darkening shades', 'amenities_Wheelchair accessible', \n",
    "                'amenities_Paid parking on premises', 'amenities_Self check-in', 'property_type_Guest suite', \n",
    "                'amenities_Dishes and silverware', 'property_type_Bungalow', 'room_type_Shared room', \n",
    "                'amenities_Pets allowed', 'instant_bookable_f', 'instant_bookable_t', 'amenities_BBQ grill', \n",
    "                'amenities_Free street parking', 'amenities_Lockbox', 'property_type_Loft', 'amenities_Lake access', \n",
    "                'amenities_Single level home', 'amenities_Indoor fireplace', 'amenities_Microwave', \n",
    "                'property_type_Apartment', 'amenities_Ethernet connection', 'amenities_Private entrance', \n",
    "                'amenities_Refrigerator', 'amenities_Paid parking off premises', 'amenities_Laptop friendly workspace', \n",
    "                'amenities_Buzzer/wireless intercom', 'amenities_Free parking on premises', \n",
    "                'amenities_Extra pillows and blankets', 'amenities_Bed linens', 'amenities_24-hour check-in','id','last_scraped']\n",
    "\n"
   ]
  },
  {
   "cell_type": "code",
   "execution_count": 8,
   "metadata": {},
   "outputs": [],
   "source": [
    "def initialization(filepath):\n",
    "    df = pd.read_csv(filepath, \n",
    "                     usecols = list_of_keep)\n",
    "    #df[\"price\"] = df[\"price\"].apply(lambda x: x.replace('$','').replace(',', '').replace('.00', '')).astype(\"int\")\n",
    "    return df\n",
    "\n",
    "\n",
    "#Saving the file\n",
    "def save_file(root, name_of_file, my_dataframe):\n",
    "    #Test if save directory exists\n",
    "    try:\n",
    "        my_dataframe.to_csv(root+'processed_data_2/'+ name_of_file, index=False)\n",
    "    #Otherwise make the directory and then save\n",
    "    except:\n",
    "        os.mkdir(root+'processed_data_2')\n",
    "        my_dataframe.to_csv(root+'processed_data_2/'+ name_of_file, index=False)\n",
    "        \n",
    "#Getting all the file_names in a given directory\n",
    "def get_file_names(folder):\n",
    "    #Listing entries present in given folder\n",
    "    entries = os.listdir(folder)\n",
    "    for i in entries:\n",
    "        if 'csv' not in i:\n",
    "            entries.remove(i)\n",
    "    return sorted(entries, reverse=True)\n"
   ]
  },
  {
   "cell_type": "code",
   "execution_count": 9,
   "metadata": {},
   "outputs": [
    {
     "name": "stdout",
     "output_type": "stream",
     "text": [
      "Processing:  19_08_08_listings.csv\n",
      "Processing:  19_07_08_listings.csv\n",
      "Processing:  19_06_04_listings.csv\n",
      "Processing:  19_05_06_listings.csv\n",
      "Processing:  19_04_08_listings.csv\n",
      "Processing:  19_03_07_listings.csv\n",
      "Processing:  19_02_04_listings.csv\n",
      "Processing:  19_01_13_listings.csv\n",
      "Processing:  18_12_06_listings.csv\n",
      "Processing:  18_11_04_listings.csv\n",
      "Processing:  18_10_06_listings.csv\n",
      "Processing:  18_09_08_listings.csv\n",
      "===========================================\n",
      "Data Processing Complete\n"
     ]
    }
   ],
   "source": [
    "# get list of filenames\n",
    "root = '../'\n",
    "\n",
    "name = get_file_names(root+'processed_data')\n",
    "#accum_kept = 0\n",
    "#accum_removed = 0\n",
    "for i in name:\n",
    "    print(\"Processing: \", i)\n",
    "    filepath = root+'processed_data/'+i\n",
    "    df = initialization(filepath)\n",
    "    #start_len = len(df)\n",
    "    #print(\"--Start # of Samples:\", start_len)\n",
    "    \n",
    "    \n",
    "    #end_len = len(df)\n",
    "    #print(\"--End # of Samples:\", end_len)\n",
    "    #print(\"--Total # of Samples Removed\", start_len-end_len)\n",
    "    save_file(root, i, df)\n",
    "    #accum_kept += end_len\n",
    "    #accum_removed += start_len-end_len\n",
    "    #print(\"--Accumulated # of Samples:\", accum_kept)\n",
    "\n",
    "print(\"===========================================\")\n",
    "print(\"Data Processing Complete\")\n",
    "#print(\"--Total # of Samples Processed: \", accum_kept+accum_removed)\n",
    "#print(\"--Total # of Samples Kept: \", accum_kept, \"(\"+str(accum_kept/(accum_kept+accum_removed)*100)+\"%)\")\n",
    "#print(\"--Total # of Samples Removed: \", accum_removed, \"(\"+str(accum_removed/(accum_kept+accum_removed)*100)+\"%)\")\n",
    "    "
   ]
  }
 ],
 "metadata": {
  "kernelspec": {
   "display_name": "Python 3",
   "language": "python",
   "name": "python3"
  },
  "language_info": {
   "codemirror_mode": {
    "name": "ipython",
    "version": 3
   },
   "file_extension": ".py",
   "mimetype": "text/x-python",
   "name": "python",
   "nbconvert_exporter": "python",
   "pygments_lexer": "ipython3",
   "version": "3.7.3"
  }
 },
 "nbformat": 4,
 "nbformat_minor": 2
}
