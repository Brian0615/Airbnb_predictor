{
 "cells": [
  {
   "cell_type": "code",
   "execution_count": 3,
   "metadata": {},
   "outputs": [],
   "source": [
    "#Import libraries\n",
    "import numpy as np\n",
    "import pandas as pd\n",
    "import torch\n",
    "import os\n",
    "import glob"
   ]
  },
  {
   "cell_type": "code",
   "execution_count": 10,
   "metadata": {},
   "outputs": [],
   "source": [
    "#Getting all the file_names in a given directory\n",
    "def get_file_names(folder):\n",
    "    #Listing entries present in given folder\n",
    "    entries = os.listdir(folder)\n",
    "    return entries\n",
    "\n",
    "#Saving the file\n",
    "def save_file(name_of_file,my_dataframe):\n",
    "    #Test if save directory exists\n",
    "    try:\n",
    "        my_dataframe.to_csv('../processed_data/'+ name_of_file)\n",
    "    #Otherwise make the directory and then save\n",
    "    except:\n",
    "        os.mkdir('../processed_data')\n",
    "        my_dataframe.to_csv('../processed_data/'+ name_of_file)\n",
    "        \n",
    "    \n",
    "    \n",
    "#name = get_file_names('../dummy_csv')\n",
    "#save_file(name[1],df)"
   ]
  },
  {
   "cell_type": "code",
   "execution_count": 13,
   "metadata": {},
   "outputs": [],
   "source": [
    "#Defining the split_data function\n",
    "def split_data(folder):\n",
    "    files = get_file_names(folder)\n",
    "    #Retriving the \n",
    "    for file in files:\n",
    "        data = pd.read_csv(folder+'/'+file)\n",
    "        data = data.sample(frac = 1)\n",
    "        train_index = int(data.shape[0]*0.6)\n",
    "        test_index = int(data.shape[0]*0.8)\n",
    "        validation_index = int(data.shape[0])\n",
    "        #print(train,test,validation)\n",
    "        train = data.iloc[:train_index]\n",
    "        test = data.iloc[train_index:test_index]\n",
    "        validation = data.iloc[test_index:validation_index]\n",
    "\n",
    "        try:\n",
    "            train.to_csv('../data/train/' + file)\n",
    "            test.to_csv('../data/test/' + file)\n",
    "            validation.to_csv('../data/validation/' + file)\n",
    "        except:\n",
    "            os.mkdir('../data')\n",
    "            os.mkdir('../data/train')\n",
    "            os.mkdir('../data/test')\n",
    "            os.mkdir('../data/validation')\n",
    "            train.to_csv('../data/train/' + file)\n",
    "            test.to_csv('../data/test/' + file)\n",
    "            validation.to_csv('../data/validation/' + file)\n",
    "    \n",
    "def combine_data(data_path):\n",
    "    interesting_files = glob.glob(data_path + \"/*.csv\")\n",
    "    df_list = []\n",
    "    for filename in sorted(interesting_files):\n",
    "        df_list.append(pd.read_csv(filename))\n",
    "    full_df = pd.concat(df_list)\n",
    "    full_df.to_csv(data_path + '/output.csv')\n",
    "\n",
    "split_data('../dummy_csv')\n",
    "    \n",
    "    "
   ]
  },
  {
   "cell_type": "code",
   "execution_count": null,
   "metadata": {},
   "outputs": [],
   "source": []
  }
 ],
 "metadata": {
  "kernelspec": {
   "display_name": "Python 3",
   "language": "python",
   "name": "python3"
  },
  "language_info": {
   "codemirror_mode": {
    "name": "ipython",
    "version": 3
   },
   "file_extension": ".py",
   "mimetype": "text/x-python",
   "name": "python",
   "nbconvert_exporter": "python",
   "pygments_lexer": "ipython3",
   "version": "3.7.3"
  }
 },
 "nbformat": 4,
 "nbformat_minor": 2
}
