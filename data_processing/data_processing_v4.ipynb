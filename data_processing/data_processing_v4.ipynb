{
 "cells": [
  {
   "cell_type": "markdown",
   "metadata": {},
   "source": [
    "## Import Req'd Libraries "
   ]
  },
  {
   "cell_type": "code",
   "execution_count": 1,
   "metadata": {},
   "outputs": [],
   "source": [
    "import pandas as pd\n",
    "import os\n",
    "import seaborn as sns\n",
    "import matplotlib.pyplot as plt"
   ]
  },
  {
   "cell_type": "code",
   "execution_count": 2,
   "metadata": {},
   "outputs": [],
   "source": [
    "#Getting all the file_names in a given directory\n",
    "def get_file_names(folder):\n",
    "    #Listing entries present in given folder\n",
    "    entries = os.listdir(folder)\n",
    "    for i in entries:\n",
    "        if 'csv' not in i:\n",
    "            entries.remove(i)\n",
    "    return sorted(entries, reverse=True)\n",
    "\n",
    "#Saving the file\n",
    "def save_file(root, name_of_file, my_dataframe):\n",
    "    #Test if save directory exists\n",
    "    try:\n",
    "        my_dataframe.to_csv(root+'processed_data/'+ name_of_file, index=False)\n",
    "    #Otherwise make the directory and then save\n",
    "    except:\n",
    "        os.mkdir(root+'processed_data')\n",
    "        my_dataframe.to_csv(root+'processed_data/'+ name_of_file, index=False)"
   ]
  },
  {
   "cell_type": "code",
   "execution_count": 3,
   "metadata": {},
   "outputs": [],
   "source": [
    "def initialization(filepath):\n",
    "    df = pd.read_csv(filepath, \n",
    "                     usecols = ['id','last_scraped', 'host_is_superhost', \n",
    "                            'latitude','longitude', 'property_type',\n",
    "                           'room_type','accommodates','bathrooms',\n",
    "                           'bedrooms','beds','amenities', 'price',\n",
    "                            'instant_bookable ','cancellation_policy'])\n",
    "    df[\"last_scraped\"] = pd.to_datetime(df[\"last_scraped\"])\n",
    "    df[\"price\"] = df[\"price\"].apply(lambda x: x.replace('$','').replace(',', '').replace('.00', '')).astype(\"int\")\n",
    "    return df"
   ]
  },
  {
   "cell_type": "markdown",
   "metadata": {},
   "source": [
    "## Concatenating All Data Together"
   ]
  },
  {
   "cell_type": "code",
   "execution_count": 4,
   "metadata": {},
   "outputs": [
    {
     "name": "stdout",
     "output_type": "stream",
     "text": [
      "COMBINING INTO ONE DATAFRAME...\n",
      "--Processing:  19_08_08_listings.csv\n",
      "--Processing:  19_07_08_listings.csv\n",
      "--Processing:  19_06_04_listings.csv\n",
      "--Processing:  19_05_06_listings.csv\n",
      "--Processing:  19_04_08_listings.csv\n",
      "--Processing:  19_03_07_listings.csv\n",
      "--Processing:  19_02_04_listings.csv\n",
      "--Processing:  19_01_13_listings.csv\n",
      "--Processing:  18_12_06_listings.csv\n",
      "--Processing:  18_11_04_listings.csv\n",
      "--Processing:  18_10_06_listings.csv\n",
      "--Processing:  18_09_08_listings.csv\n",
      "--Processing:  18_08_08_listings.csv\n",
      "--Processing:  18_07_06_listings.csv\n",
      "--Processing:  18_05_11_listings.csv\n",
      "--Processing:  18_04_09_listings.csv\n",
      "--Processing:  17_06_03_listings.csv\n",
      "--Processing:  17_04_03_listings.csv\n",
      "--Processing:  17_03_03_listings.csv\n",
      "Initial # of Samples:  339763\n",
      " \n",
      "DELETING SAMPLES WITH MISSING VALUES...\n",
      "--Number of Samples Removed:  896\n"
     ]
    }
   ],
   "source": [
    "# get list of filenames\n",
    "root = '../'\n",
    "name = get_file_names(root+'original_dataset')\n",
    "accum_kept = 0\n",
    "accum_removed = 0\n",
    "\n",
    "# combine all files into one\n",
    "print(\"COMBINING INTO ONE DATAFRAME...\")\n",
    "frames = []\n",
    "for i in name:\n",
    "    print(\"--Processing: \", i)\n",
    "    filepath = root+'original_dataset/'+i\n",
    "    frames.append(initialization(filepath))\n",
    "full_df = pd.concat(frames, sort=False)\n",
    "\n",
    "initial_samples = len(full_df)\n",
    "print(\"Initial # of Samples: \", len(full_df))\n",
    "\n",
    "print(\" \")\n",
    "\n",
    "# Drop missing values\n",
    "print(\"DELETING SAMPLES WITH MISSING VALUES...\")\n",
    "full_df = full_df.dropna()\n",
    "samples1 = len(full_df)\n",
    "print(\"--Number of Samples Removed: \", initial_samples-samples1)\n",
    "\n",
    "# reset index\n",
    "full_df = full_df.reset_index(drop=True)"
   ]
  },
  {
   "cell_type": "markdown",
   "metadata": {},
   "source": [
    "## Numericalize Categorical Data"
   ]
  },
  {
   "cell_type": "markdown",
   "metadata": {},
   "source": [
    "#### Mapping for Categorical Features"
   ]
  },
  {
   "cell_type": "code",
   "execution_count": 5,
   "metadata": {},
   "outputs": [],
   "source": [
    "cancellation_policies = {\n",
    "    \"flexible\": 1,\n",
    "    \"moderate\": 5,\n",
    "    \"strict_14_with_grace_period\": 14,\n",
    "    \"strict\": 14,\n",
    "    \"super_strict_30\": 30,\n",
    "    \"super_strict_60\": 60\n",
    "}\n",
    "room_types = {\n",
    "    \"Entire home/apt\": 0,\n",
    "    \"Private room\": 1,\n",
    "    \"Shared room\": 2\n",
    "}\n",
    "true_false = {\n",
    "    't': 1,\n",
    "    'f': 0,\n",
    "    True: 1,\n",
    "    False: 0\n",
    "}"
   ]
  },
  {
   "cell_type": "code",
   "execution_count": 6,
   "metadata": {},
   "outputs": [
    {
     "name": "stdout",
     "output_type": "stream",
     "text": [
      "NUMERICALIZING TRUE/FALSE...\n",
      "0    258051\n",
      "1     80816\n",
      "Name: host_is_superhost, dtype: int64\n",
      "0    221082\n",
      "1    117785\n",
      "Name: instant_bookable, dtype: int64\n",
      " \n",
      "NUMERICALIZING CANCELLATION POLICY...\n",
      "strict_14_with_grace_period    114141\n",
      "flexible                       103214\n",
      "moderate                       100729\n",
      "strict                          20189\n",
      "super_strict_30                   418\n",
      "super_strict_60                   176\n",
      "Name: cancellation_policy, dtype: int64\n",
      " \n",
      "NUMERICALIZING ROOM TYPE...\n",
      "Entire home/apt    216813\n",
      "Private room       115802\n",
      "Shared room          6252\n",
      "Name: room_type, dtype: int64\n"
     ]
    }
   ],
   "source": [
    "# convert t/f into 1/0\n",
    "print(\"NUMERICALIZING TRUE/FALSE...\")\n",
    "for i in [\"host_is_superhost\", \"instant_bookable\"]:\n",
    "    full_df[i] = full_df[i].map(true_false)\n",
    "    print(full_df[i].value_counts())\n",
    "\n",
    "print(\" \")\n",
    "\n",
    "# cancellation policy\n",
    "print(\"NUMERICALIZING CANCELLATION POLICY...\")\n",
    "print(full_df[\"cancellation_policy\"].value_counts())\n",
    "full_df[\"cancellation_policy\"] = full_df[\"cancellation_policy\"].map(cancellation_policies)\n",
    "\n",
    "print(\" \")\n",
    "\n",
    "# room_type\n",
    "print(\"NUMERICALIZING ROOM TYPE...\")\n",
    "print(full_df[\"room_type\"].value_counts())\n",
    "full_df[\"room_type\"] = full_df[\"room_type\"].map(room_types)\n"
   ]
  },
  {
   "cell_type": "markdown",
   "metadata": {},
   "source": [
    "#### Mapping for Property Types"
   ]
  },
  {
   "cell_type": "code",
   "execution_count": 7,
   "metadata": {},
   "outputs": [],
   "source": [
    "property_types = {\n",
    "    \"House\" : 1,\n",
    "    \"Apartment\" : 2,\n",
    "    \"Condominium\" : 5,\n",
    "    \"Townhouse\" : 3,\n",
    "    \"Bungalow\" : 0,\n",
    "    \"Loft\" : 4,\n",
    "    \"Serviced apartment\" : 6,\n",
    "    \"Guest suite\" : 7\n",
    "}"
   ]
  },
  {
   "cell_type": "code",
   "execution_count": 8,
   "metadata": {},
   "outputs": [
    {
     "name": "stdout",
     "output_type": "stream",
     "text": [
      "FILTERLING AND NUMERICALIZING PROPERTY TYPES...\n",
      "Types of Included Properties:\n",
      "['Apartment', 'House', 'Condominium', 'Townhouse', 'Guest suite', 'Bungalow', 'Loft', 'Serviced apartment']\n",
      "Apartment             115562\n",
      "House                  92156\n",
      "Condominium            77328\n",
      "Townhouse              15346\n",
      "Guest suite            10323\n",
      "Bungalow                8995\n",
      "Loft                    7769\n",
      "Serviced apartment      3441\n",
      "Name: property_type, dtype: int64\n",
      "Number of Samples Removed: 7947\n"
     ]
    }
   ],
   "source": [
    "print(\"FILTERLING AND NUMERICALIZING PROPERTY TYPES...\")\n",
    "property_type_counts = full_df[\"property_type\"].value_counts()\n",
    "accum = []\n",
    "for i in range(len(property_type_counts)):\n",
    "    if property_type_counts[i] >= 0.01*samples1:\n",
    "        accum.append(property_type_counts.index[i])\n",
    "print(\"Types of Included Properties:\")\n",
    "print(accum)\n",
    "\n",
    "full_df = full_df[full_df[\"property_type\"].isin(accum)]\n",
    "print(full_df[\"property_type\"].value_counts())\n",
    "\n",
    "full_df[\"property_type\"] = full_df[\"property_type\"].map(property_types)\n",
    "\n",
    "samples2 = len(full_df)\n",
    "print(\"Number of Samples Removed:\", samples1 - samples2)\n",
    "full_df = full_df.reset_index(drop=True)"
   ]
  },
  {
   "cell_type": "markdown",
   "metadata": {},
   "source": [
    "## Store Mean and Std Dev"
   ]
  },
  {
   "cell_type": "code",
   "execution_count": 9,
   "metadata": {},
   "outputs": [],
   "source": [
    "mean_std = pd.DataFrame(columns = [\"mean\", \"std\"])"
   ]
  },
  {
   "cell_type": "markdown",
   "metadata": {},
   "source": [
    "## Normalizing Price"
   ]
  },
  {
   "cell_type": "code",
   "execution_count": 10,
   "metadata": {},
   "outputs": [
    {
     "name": "stdout",
     "output_type": "stream",
     "text": [
      "(BEFORE) PRICE STATISTICS...\n",
      "count    330920.000000\n",
      "mean        138.338674\n",
      "std         223.728438\n",
      "min           0.000000\n",
      "25%          65.000000\n",
      "50%         100.000000\n",
      "75%         158.000000\n",
      "max       13426.000000\n",
      "Name: price, dtype: float64\n",
      "0.01     25.0\n",
      "0.05     35.0\n",
      "0.10     42.0\n",
      "0.90    250.0\n",
      "0.95    340.0\n",
      "0.99    695.0\n",
      "Name: price, dtype: float64\n",
      "\n",
      "TRIMMING PRICE OUTLIERS...\n",
      "--Number of Samples Removed:  31190\n",
      "\n",
      "STANDARDIZING PRICE...\n",
      "--Mean Price:  116.66989623994928\n",
      "--Std Price:  64.50950697384589\n"
     ]
    }
   ],
   "source": [
    "print(\"(BEFORE) PRICE STATISTICS...\")\n",
    "print(full_df[\"price\"].describe())\n",
    "print(full_df[\"price\"].quantile([0.01, 0.05, 0.1, 0.9, 0.95, 0.99]))\n",
    "\n",
    "print(\"\")\n",
    "print(\"TRIMMING PRICE OUTLIERS...\")\n",
    "min_price = full_df[\"price\"].quantile(0.05)\n",
    "max_price = full_df[\"price\"].quantile(0.95)\n",
    "\n",
    "full_df = full_df[(full_df[\"price\"] >= min_price) & (full_df[\"price\"] <= max_price)]\n",
    "samples3 = len(full_df)\n",
    "print(\"--Number of Samples Removed: \", samples2-samples3)\n",
    "full_df = full_df.reset_index(drop=True)\n",
    "\n",
    "print(\"\")\n",
    "print(\"STANDARDIZING PRICE...\") # using Z-score\n",
    "mean_price = full_df[\"price\"].mean()\n",
    "std_price = full_df[\"price\"].std()\n",
    "full_df[\"price\"] = (full_df[\"price\"] - mean_price)/std_price\n",
    "print(\"--Mean Price: \", mean_price)\n",
    "print(\"--Std Price: \", std_price)\n",
    "temp = pd.DataFrame([[mean_price, std_price]], columns=[\"mean\", \"std\"], index=[\"price\"])\n",
    "mean_std = mean_std.append(temp)"
   ]
  },
  {
   "cell_type": "markdown",
   "metadata": {},
   "source": [
    "## Categorizing Amenities"
   ]
  },
  {
   "cell_type": "code",
   "execution_count": 11,
   "metadata": {},
   "outputs": [],
   "source": [
    "amenities = ['Kitchen', 'Heating', 'Washer', 'Wifi', 'Indoor fireplace', 'Iron', \n",
    "             'Laptop friendly workspace', 'Crib', 'Self check-in', 'Carbon monoxide detector', \n",
    "             'Shampoo', 'Air conditioning', 'Dryer', 'Breakfast', 'Hangers', 'Hair dryer', \n",
    "             'TV', 'High chair', 'Smoke detector', 'Private bathroom']\n",
    "\n",
    "facilities = ['Free parking on premises', 'Gym', 'Hot tub', 'Pool']\n",
    "\n",
    "house_rules = ['Suitable for events', 'Pets allowed', 'Smoking allowed']"
   ]
  },
  {
   "cell_type": "code",
   "execution_count": 12,
   "metadata": {},
   "outputs": [],
   "source": [
    "for i in amenities:\n",
    "    full_df[\"amenities_\"+i] = full_df[\"amenities\"].apply(lambda x: 1 if i in x else 0)\n",
    "full_df[\"amenities_count\"] = sum(full_df[\"amenities_\"+i] for i in amenities)\n",
    "\n",
    "for i in facilities:\n",
    "    full_df[\"facilities_\"+i] = full_df[\"amenities\"].apply(lambda x: 1 if i in x else 0)\n",
    "full_df[\"facilities_count\"] = sum(full_df[\"facilities_\"+i] for i in facilities)\n",
    "\n",
    "for i in house_rules:\n",
    "    full_df[\"house_rules_\"+i] = full_df[\"amenities\"].apply(lambda x: 1 if i in x else 0)\n",
    "full_df[\"house_rules_count\"] = sum(full_df[\"house_rules_\"+i] for i in house_rules)"
   ]
  },
  {
   "cell_type": "markdown",
   "metadata": {},
   "source": [
    "## Standardizing Numerical Features\n"
   ]
  },
  {
   "cell_type": "code",
   "execution_count": 13,
   "metadata": {},
   "outputs": [
    {
     "name": "stdout",
     "output_type": "stream",
     "text": [
      "STANDARDIZING LATITUDE...\n",
      "--Mean:  43.676809784148745\n",
      "--Std:  0.04554592892958044\n",
      "\n",
      "STANDARDIZING LONGITUDE...\n",
      "--Mean:  -79.39828395164194\n",
      "--Std:  0.05900719717101783\n",
      "\n",
      "STANDARDIZING PROPERTY_TYPE...\n",
      "--Mean:  2.7108364194441665\n",
      "--Std:  1.7767464682222966\n",
      "\n",
      "STANDARDIZING ROOM_TYPE...\n",
      "--Mean:  0.34876388749874887\n",
      "--Std:  0.5003425822781011\n",
      "\n",
      "STANDARDIZING ACCOMMODATES...\n",
      "--Mean:  3.005988723184199\n",
      "--Std:  1.7176376955146249\n",
      "\n",
      "STANDARDIZING BATHROOMS...\n",
      "--Mean:  1.192201314516398\n",
      "--Std:  0.44686850025953645\n",
      "\n",
      "STANDARDIZING BEDROOMS...\n",
      "--Mean:  1.2542655056217262\n",
      "--Std:  0.746440811838885\n",
      "\n",
      "STANDARDIZING BEDS...\n",
      "--Mean:  1.6029126213592233\n",
      "--Std:  0.936888343006169\n",
      "\n",
      "STANDARDIZING CANCELLATION_POLICY...\n",
      "--Mean:  7.356767757648551\n",
      "--Std:  5.680221001387256\n",
      "\n",
      "STANDARDIZING AMENITIES_COUNT...\n",
      "--Mean:  11.86548226737397\n",
      "--Std:  2.9138074998369667\n",
      "\n",
      "STANDARDIZING FACILITIES_COUNT...\n",
      "--Mean:  1.0710806392419845\n",
      "--Std:  1.1857763571463689\n",
      "\n",
      "STANDARDIZING HOUSE_RULES_COUNT...\n",
      "--Mean:  0.18897340940179494\n",
      "--Std:  0.4573986371506017\n",
      "\n"
     ]
    }
   ],
   "source": [
    "for i in [\"latitude\", \"longitude\", \"property_type\", \"room_type\", \"accommodates\", \"bathrooms\", \"bedrooms\", \"beds\", \"cancellation_policy\", \"amenities_count\", \"facilities_count\", \"house_rules_count\"]:\n",
    "    print(\"STANDARDIZING \"+i.upper()+\"...\")\n",
    "    mean = full_df[i].mean()\n",
    "    std = full_df[i].std()\n",
    "    temp = pd.DataFrame([[mean, std]], columns=[\"mean\", \"std\"], index=[i])\n",
    "    mean_std = mean_std.append(temp)\n",
    "    full_df[i] = (full_df[i] - mean)/std\n",
    "    print(\"--Mean: \", mean)\n",
    "    print(\"--Std: \", std)\n",
    "    print(\"\")"
   ]
  },
  {
   "cell_type": "markdown",
   "metadata": {},
   "source": [
    "## Numericalize Date"
   ]
  },
  {
   "cell_type": "code",
   "execution_count": 15,
   "metadata": {},
   "outputs": [
    {
     "name": "stdout",
     "output_type": "stream",
     "text": [
      "STANDARDIZING DATE...\n",
      "--Mean:  1540256444.7522771       2018-10-22 21:00:44.752277\n",
      "--Std:  20738352.805571966\n"
     ]
    }
   ],
   "source": [
    "print(\"STANDARDIZING DATE...\")\n",
    "full_df[\"last_scraped\"] = full_df[\"last_scraped\"].apply(lambda x: x.timestamp())\n",
    "mean = full_df[\"last_scraped\"].mean()\n",
    "std = full_df[\"last_scraped\"].std()\n",
    "temp = pd.DataFrame([[mean, std]], columns=[\"mean\", \"std\"], index=[\"last_scraped\"])\n",
    "mean_std = mean_std.append(temp)\n",
    "full_df[\"last_scraped\"] = (full_df[\"last_scraped\"] - mean)/std\n",
    "\n",
    "print(\"--Mean: \", mean, \"     \", pd.Timestamp.fromtimestamp(mean))\n",
    "print(\"--Std: \", std)"
   ]
  },
  {
   "cell_type": "markdown",
   "metadata": {},
   "source": [
    "## Split Dataset and Save"
   ]
  },
  {
   "cell_type": "code",
   "execution_count": 16,
   "metadata": {},
   "outputs": [],
   "source": [
    "train_df = full_df.sample(frac=0.8,random_state=200) #random state is a seed value\n",
    "val_test_df = full_df.drop(train_df.index)\n",
    "val_df = val_test_df.sample(frac=0.5,random_state=200) #random state is a seed value\n",
    "test_df = val_test_df.drop(val_df.index)\n",
    "\n",
    "train_df = train_df.reset_index(drop=True)\n",
    "val_df = val_df.reset_index(drop=True)\n",
    "test_df = test_df.reset_index(drop=True)"
   ]
  },
  {
   "cell_type": "code",
   "execution_count": 17,
   "metadata": {},
   "outputs": [],
   "source": [
    "train_df.to_csv(\"../split_datasets2/train.csv\", index=False)\n",
    "val_df.to_csv(\"../split_datasets2/val.csv\", index=False)\n",
    "test_df.to_csv(\"../split_datasets2/test.csv\", index=False)"
   ]
  },
  {
   "cell_type": "code",
   "execution_count": 18,
   "metadata": {},
   "outputs": [
    {
     "name": "stdout",
     "output_type": "stream",
     "text": [
      "Total # of Samples Remaining:\t 299730\n",
      "Number of Samples Removed:\t 40033\n",
      "% of Samples Removed:\t\t 11.782624947389799\n",
      "Number of Train Samples:\t 239784\n",
      "Number of Val Samples:\t\t 29973\n",
      "Number of Test Samples:\t\t 29973\n"
     ]
    }
   ],
   "source": [
    "print(\"Total # of Samples Remaining:\\t\", len(full_df))\n",
    "print(\"Number of Samples Removed:\\t\", initial_samples - len(full_df))\n",
    "print(\"% of Samples Removed:\\t\\t\", (initial_samples - len(full_df))/initial_samples*100.0)\n",
    "print(\"Number of Train Samples:\\t\", len(train_df))\n",
    "print(\"Number of Val Samples:\\t\\t\", len(val_df))\n",
    "print(\"Number of Test Samples:\\t\\t\", len(test_df))"
   ]
  },
  {
   "cell_type": "code",
   "execution_count": 19,
   "metadata": {},
   "outputs": [],
   "source": [
    "mean_std.to_csv(\"mean_std2.csv\")"
   ]
  },
  {
   "cell_type": "code",
   "execution_count": 20,
   "metadata": {},
   "outputs": [
    {
     "data": {
      "text/plain": [
       "<matplotlib.axes._subplots.AxesSubplot at 0x1a2c84d780>"
      ]
     },
     "execution_count": 20,
     "metadata": {},
     "output_type": "execute_result"
    },
    {
     "data": {
      "image/png": "[encoded data removed]",
      "text/plain": [
       "<Figure size 432x288 with 1 Axes>"
      ]
     },
     "metadata": {
      "needs_background": "light"
     },
     "output_type": "display_data"
    }
   ],
   "source": [
    "price_corr = full_df.corrwith(full_df[\"price\"]).drop([\"id\", \"price\"])\n",
    "price_corr.plot.bar()"
   ]
  },
  {
   "cell_type": "code",
   "execution_count": 21,
   "metadata": {},
   "outputs": [
    {
     "data": {
      "text/plain": [
       "<matplotlib.axes._subplots.AxesSubplot at 0x1a28baca20>"
      ]
     },
     "execution_count": 21,
     "metadata": {},
     "output_type": "execute_result"
    },
    {
     "data": {
      "image/png": "[encoded data removed]",
      "text/plain": [
       "<Figure size 432x288 with 2 Axes>"
      ]
     },
     "metadata": {
      "needs_background": "light"
     },
     "output_type": "display_data"
    }
   ],
   "source": [
    "list_of_cols = ['last_scraped', 'host_is_superhost', 'latitude', 'longitude',\n",
    "       'property_type', 'room_type', 'accommodates', 'bathrooms', 'bedrooms',\n",
    "       'beds', 'amenities', 'price', 'instant_bookable', 'cancellation_policy',\n",
    "       'amenities_count', 'facilities_count', 'house_rules_count']\n",
    "corr = abs(full_df[list_of_cols].corr())\n",
    "\n",
    "# plot the heatmap\n",
    "sns.heatmap(corr, \n",
    "        xticklabels=corr.columns,\n",
    "        yticklabels=corr.columns)"
   ]
  },
  {
   "cell_type": "code",
   "execution_count": 22,
   "metadata": {},
   "outputs": [
    {
     "data": {
      "text/plain": [
       "Index(['id', 'last_scraped', 'host_is_superhost', 'latitude', 'longitude',\n",
       "       'property_type', 'room_type', 'accommodates', 'bathrooms', 'bedrooms',\n",
       "       'beds', 'amenities', 'price', 'instant_bookable', 'cancellation_policy',\n",
       "       'amenities_Kitchen', 'amenities_Heating', 'amenities_Washer',\n",
       "       'amenities_Wifi', 'amenities_Indoor fireplace', 'amenities_Iron',\n",
       "       'amenities_Laptop friendly workspace', 'amenities_Crib',\n",
       "       'amenities_Self check-in', 'amenities_Carbon monoxide detector',\n",
       "       'amenities_Shampoo', 'amenities_Air conditioning', 'amenities_Dryer',\n",
       "       'amenities_Breakfast', 'amenities_Hangers', 'amenities_Hair dryer',\n",
       "       'amenities_TV', 'amenities_High chair', 'amenities_Smoke detector',\n",
       "       'amenities_Private bathroom', 'amenities_count',\n",
       "       'facilities_Free parking on premises', 'facilities_Gym',\n",
       "       'facilities_Hot tub', 'facilities_Pool', 'facilities_count',\n",
       "       'house_rules_Suitable for events', 'house_rules_Pets allowed',\n",
       "       'house_rules_Smoking allowed', 'house_rules_count'],\n",
       "      dtype='object')"
      ]
     },
     "execution_count": 22,
     "metadata": {},
     "output_type": "execute_result"
    }
   ],
   "source": [
    "full_df.columns"
   ]
  },
  {
   "cell_type": "code",
   "execution_count": 23,
   "metadata": {},
   "outputs": [
    {
     "name": "stdout",
     "output_type": "stream",
     "text": [
      "last_scraped                           0.043693\n",
      "host_is_superhost                      0.043983\n",
      "latitude                              -0.269054\n",
      "longitude                              0.019817\n",
      "property_type                          0.215119\n",
      "room_type                             -0.516345\n",
      "accommodates                           0.523928\n",
      "bathrooms                              0.302444\n",
      "bedrooms                               0.437136\n",
      "beds                                   0.428014\n",
      "instant_bookable                      -0.075545\n",
      "cancellation_policy                    0.165188\n",
      "amenities_Kitchen                      0.147267\n",
      "amenities_Heating                      0.041475\n",
      "amenities_Washer                       0.177824\n",
      "amenities_Wifi                         0.043772\n",
      "amenities_Indoor fireplace             0.067794\n",
      "amenities_Iron                         0.152737\n",
      "amenities_Laptop friendly workspace    0.064971\n",
      "amenities_Crib                         0.098852\n",
      "amenities_Self check-in                0.088553\n",
      "amenities_Carbon monoxide detector     0.049063\n",
      "amenities_Shampoo                      0.108277\n",
      "amenities_Air conditioning             0.186471\n",
      "amenities_Dryer                        0.192112\n",
      "amenities_Breakfast                   -0.013521\n",
      "amenities_Hangers                      0.050793\n",
      "amenities_Hair dryer                   0.139681\n",
      "amenities_TV                           0.323574\n",
      "amenities_High chair                   0.113754\n",
      "amenities_Smoke detector               0.040869\n",
      "amenities_Private bathroom            -0.019660\n",
      "amenities_count                        0.263033\n",
      "facilities_Free parking on premises    0.063512\n",
      "facilities_Gym                         0.259398\n",
      "facilities_Hot tub                     0.164594\n",
      "facilities_Pool                        0.177677\n",
      "facilities_count                       0.238038\n",
      "house_rules_Suitable for events        0.009706\n",
      "house_rules_Pets allowed               0.075199\n",
      "house_rules_Smoking allowed           -0.052089\n",
      "house_rules_count                      0.037264\n",
      "dtype: float64\n"
     ]
    }
   ],
   "source": [
    "print(price_corr)"
   ]
  }
 ],
 "metadata": {
  "kernelspec": {
   "display_name": "Python 3",
   "language": "python",
   "name": "python3"
  },
  "language_info": {
   "codemirror_mode": {
    "name": "ipython",
    "version": 3
   },
   "file_extension": ".py",
   "mimetype": "text/x-python",
   "name": "python",
   "nbconvert_exporter": "python",
   "pygments_lexer": "ipython3",
   "version": "3.7.3"
  }
 },
 "nbformat": 4,
 "nbformat_minor": 2
}
