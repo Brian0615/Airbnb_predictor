{
 "cells": [
  {
   "cell_type": "code",
   "execution_count": 133,
   "metadata": {},
   "outputs": [],
   "source": [
    "import torch\n",
    "import pandas as pd\n",
    "from torch.utils.data import Dataset, DataLoader\n",
    "\n",
    "root = \"~/Airbnb_predictor\"\n",
    "csv_file = root+\"/dummy_csv/19_08_08_listings.csv\"\n",
    "n_file = root+\"/category_codes/neighbourhoods.csv\"\n",
    "\n",
    "data = pd.read_csv(csv_file)\n",
    "n_data = pd.read_csv(n_file)"
   ]
  },
  {
   "cell_type": "code",
   "execution_count": 134,
   "metadata": {},
   "outputs": [],
   "source": [
    "def price_to_int(data):\n",
    "    data[\"price\"] = data[\"price\"].apply(lambda x: x.replace('$','').replace(',', '').replace('.00', '')).astype(\"int\")\n",
    "    return data"
   ]
  },
  {
   "cell_type": "code",
   "execution_count": 135,
   "metadata": {},
   "outputs": [],
   "source": [
    "data = price_to_int(data)"
   ]
  },
  {
   "cell_type": "code",
   "execution_count": null,
   "metadata": {},
   "outputs": [],
   "source": []
  },
  {
   "cell_type": "code",
   "execution_count": 136,
   "metadata": {},
   "outputs": [],
   "source": [
    "district = dict(zip(n_data[\"neighbourhood\"].tolist(), n_data[\"district\"].tolist()))\n",
    "district_group = dict(zip(n_data[\"neighbourhood\"].tolist(), n_data[\"district_group\"].tolist()))\n",
    "district_number = dict(zip(n_data[\"neighbourhood\"].tolist(), n_data[\"district_number\"].tolist()))\n",
    "categories = [\"neighbourhood_cleansed\", \"host_is_superhost\", \"property_type\", \"room_type\", \"instant_bookable\", \"cancellation_policy\"]\n",
    "\n",
    "def map_neighbourhoods(data, district_group, district_number, district):\n",
    "    data[\"district\"] = data[\"neighbourhood_cleansed\"].map(district)\n",
    "    data[\"district_group\"] = data[\"neighbourhood_cleansed\"].map(district_group)\n",
    "    data[\"district_number\"] = data[\"neighbourhood_cleansed\"].map(district_number)\n",
    "    data[\"district\"]\n",
    "    return data\n",
    "\n",
    "def cat_to_code(data, root, categories):\n",
    "    # Convert categorical data (e.g. neighbourhood_cleansed) into numerical codes\n",
    "    category_codes = {}\n",
    "    \n",
    "    for i in categories:\n",
    "        name = data[i].name\n",
    "        category_codes[name] = data[i].astype(\"category\").cat.categories # save list of categories\n",
    "        data[name+\"_codes\"] = data[i].astype(\"category\").cat.codes # convert to code\n",
    "    \n",
    "    for i in category_codes:\n",
    "        df = pd.DataFrame()\n",
    "        df[i] = category_codes[i]\n",
    "        df.to_csv(root+r\"/category_codes/\"+i+\".csv\")\n",
    "    \n",
    "    return data\n"
   ]
  },
  {
   "cell_type": "code",
   "execution_count": 137,
   "metadata": {},
   "outputs": [],
   "source": [
    "data = map_neighbourhoods(data, district_group, district_number, district)\n",
    "data = cat_to_code(data, root, categories)"
   ]
  },
  {
   "cell_type": "code",
   "execution_count": 144,
   "metadata": {},
   "outputs": [
    {
     "data": {
      "text/plain": [
       "9     4276\n",
       "8     3274\n",
       "2     3004\n",
       "1     1827\n",
       "4     1682\n",
       "3     1497\n",
       "7     1298\n",
       "5     1229\n",
       "6     1071\n",
       "14     703\n",
       "10     661\n",
       "15     574\n",
       "11     233\n",
       "13     201\n",
       "12      87\n",
       "Name: district_number, dtype: int64"
      ]
     },
     "execution_count": 144,
     "metadata": {},
     "output_type": "execute_result"
    }
   ],
   "source": [
    "data[\"district_number\"].value_counts()"
   ]
  },
  {
   "cell_type": "code",
   "execution_count": 46,
   "metadata": {},
   "outputs": [],
   "source": [
    "properties = [\"Apartment\", \"Condominium\", \"House\", \"Townhouse\", \"Guest suite\", \"Bungalow\"]\n",
    "can_policy = [\"flexible\", \"moderate\", \"strict_14_with_grace_period\"]\n",
    "\n",
    "def filter_categorical(properties, can_policy, data):\n",
    "    num_samples = data.shape[0]\n",
    "    data = data[data.property_type.isin(properties)]\n",
    "    num_samples2 = data.shape[0]\n",
    "    data = data[data.cancellation_policy.isin(can_policy)]\n",
    "    num_samples3 = data.shape[0]\n",
    "    removed = {\"properties\": num_samples-num_samples2,\n",
    "               \"can_policy\": num_samples2-num_samples3}\n",
    "    return data, removed\n"
   ]
  },
  {
   "cell_type": "code",
   "execution_count": 47,
   "metadata": {},
   "outputs": [],
   "source": [
    "data, removed = filter_categorical(properties, can_policy, data)"
   ]
  },
  {
   "cell_type": "code",
   "execution_count": 54,
   "metadata": {},
   "outputs": [
    {
     "data": {
      "text/plain": [
       "Waterfront Communities-The Island      3718\n",
       "Niagara                                 880\n",
       "Annex                                   702\n",
       "Church-Yonge Corridor                   690\n",
       "Bay Street Corridor                     616\n",
       "Dovercourt-Wallace Emerson-Junction     551\n",
       "Kensington-Chinatown                    539\n",
       "Willowdale East                         503\n",
       "Trinity-Bellwoods                       481\n",
       "Little Portugal                         480\n",
       "Moss Park                               425\n",
       "Palmerston-Little Italy                 405\n",
       "South Riverdale                         350\n",
       "South Parkdale                          308\n",
       "Cabbagetown-South St.James Town         307\n",
       "Mount Pleasant West                     261\n",
       "Mimico (includes Humber Bay Shores)     254\n",
       "York University Heights                 240\n",
       "Roncesvalles                            230\n",
       "Dufferin Grove                          210\n",
       "North St.James Town                     203\n",
       "High Park-Swansea                       201\n",
       "The Beaches                             191\n",
       "High Park North                         189\n",
       "Islington-City Centre West              172\n",
       "Newtonbrook West                        169\n",
       "Oakwood Village                         164\n",
       "University                              160\n",
       "Greenwood-Coxwell                       156\n",
       "Newtonbrook East                        146\n",
       "                                       ... \n",
       "Mount Dennis                             34\n",
       "Ionview                                  34\n",
       "Caledonia-Fairbank                       33\n",
       "Lambton Baby Point                       33\n",
       "Alderwood                                33\n",
       "Pelmo Park-Humberlea                     31\n",
       "Thorncliffe Park                         30\n",
       "Kingsview Village-The Westway            30\n",
       "Forest Hill South                        30\n",
       "Forest Hill North                        29\n",
       "Bridle Path-Sunnybrook-York Mills        28\n",
       "Princess-Rosethorn                       27\n",
       "Kingsway South                           26\n",
       "Maple Leaf                               26\n",
       "Brookhaven-Amesbury                      26\n",
       "Mount Olive-Silverstone-Jamestown        24\n",
       "Flemingdon Park                          20\n",
       "Centennial Scarborough                   20\n",
       "Humbermede                               19\n",
       "Guildwood                                18\n",
       "Humber Heights-Westmount                 18\n",
       "Scarborough Village                      17\n",
       "Black Creek                              16\n",
       "Edenbridge-Humber Valley                 16\n",
       "Thistletown-Beaumond Heights             15\n",
       "Beechborough-Greenbrook                  13\n",
       "Rustic                                   12\n",
       "Elms-Old Rexdale                         12\n",
       "Humber Summit                            10\n",
       "Markland Wood                             8\n",
       "Name: neighbourhood_cleansed, Length: 140, dtype: int64"
      ]
     },
     "execution_count": 54,
     "metadata": {},
     "output_type": "execute_result"
    }
   ],
   "source": [
    "data['neighbourhood_cleansed'].value_counts()"
   ]
  },
  {
   "cell_type": "code",
   "execution_count": null,
   "metadata": {},
   "outputs": [],
   "source": [
    "class airbnb_dataset(Dataset, data_frame):\n",
    "    def __init__(self):\n",
    "        self.data_frame = data_frame\n",
    "        self.shape = data_frame.shape\n",
    "    \n",
    "    def __len__(self):\n",
    "        return len(data_frame.shape)\n",
    "    \n",
    "    def __getitem__(self, index):\n",
    "        if torch.is_tensor(index):\n",
    "            index = index.tolist()\n",
    "        \n",
    "        target = data_frame[\"price\"][index]\n",
    "        sample = [data_frame]\n",
    "        \n"
   ]
  }
 ],
 "metadata": {
  "kernelspec": {
   "display_name": "Python 3",
   "language": "python",
   "name": "python3"
  },
  "language_info": {
   "codemirror_mode": {
    "name": "ipython",
    "version": 3
   },
   "file_extension": ".py",
   "mimetype": "text/x-python",
   "name": "python",
   "nbconvert_exporter": "python",
   "pygments_lexer": "ipython3",
   "version": "3.7.3"
  }
 },
 "nbformat": 4,
 "nbformat_minor": 2
}
