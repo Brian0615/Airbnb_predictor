{
 "cells": [
  {
   "cell_type": "code",
   "execution_count": 180,
   "metadata": {},
   "outputs": [],
   "source": [
    "import pandas as pd"
   ]
  },
  {
   "cell_type": "code",
   "execution_count": 181,
   "metadata": {},
   "outputs": [],
   "source": [
    "df = pd.read_csv('~/Airbnb_predictor/dummy_csv/19_08_08_listings.csv')"
   ]
  },
  {
   "cell_type": "raw",
   "metadata": {
    "collapsed": true
   },
   "source": [
    "print (df)"
   ]
  },
  {
   "cell_type": "code",
   "execution_count": 279,
   "metadata": {},
   "outputs": [],
   "source": [
    "def removeUnnecessaryFeatures(df):\n",
    "    # Read inputted csv and keep only the columns we need\n",
    "    df = pd.read_csv('~/Airbnb_predictor/dummy_csv/19_08_08_listings.csv', \n",
    "                     usecols = ['id','last_scraped', 'host_is_superhost', \n",
    "                            'neighbourhood_cleansed', 'property_type',\n",
    "                           'room_type','accommodates','bathrooms',\n",
    "                           'bedrooms','beds','amenities', 'price',\n",
    "                           'minimum_nights','maximum_nights',\n",
    "                            'instant_bookable','cancellation_policy'])\n",
    "    df[\"last_scraped\"] = pd.to_datetime(df[\"last_scraped\"])\n",
    "    return df"
   ]
  },
  {
   "cell_type": "code",
   "execution_count": 280,
   "metadata": {},
   "outputs": [],
   "source": [
    "def amenityRemoval(df):\n",
    "    # Amenties we want to keep based on if they ranked above 5% or not\n",
    "    toKeep = ['TV', 'Internet', 'Wifi', 'Air conditioning', 'Kitchen', 'Indoor fireplace', 'Heating', \n",
    "          'Family/kid friendly', 'Washer', 'Dryer', 'Smoke detector', 'First aid kit', 'Fire extinguisher', \n",
    "          'Essentials', 'Shampoo', 'Cable TV', 'Pool', 'Free parking on premises', 'Doorman', 'Gym', 'Elevator', \n",
    "          'Buzzer/wireless intercom', 'Free street parking', 'Carbon monoxide detector', 'Lock on bedroom door', \n",
    "          '24-hour check-in', 'Hangers', 'Hair dryer', 'Iron', 'Laptop friendly workspace',  \n",
    "          'Self check-in', 'Keypad', 'Private entrance', 'Hot water', 'Bed linens', 'Extra pillows and blankets', \n",
    "          'Microwave', 'Coffee maker', 'Refrigerator', 'Dishes and silverware', 'Cooking basics', 'Oven', 'Stove', \n",
    "          'Long term stays allowed', 'No stairs or steps to enter', 'Wheelchair accessible', 'Pets allowed', \n",
    "          'Dishwasher', 'Single level home', 'Patio or balcony', 'Luggage dropoff allowed', \n",
    "          'Paid parking on premises', 'Host greets you', 'Lockbox', 'Garden or backyard', \n",
    "          'Paid parking off premises', 'Private living room', 'Breakfast', 'Hot tub', \n",
    "          'Wide hallways', 'Safety card', 'Bathtub', 'BBQ grill', 'Room-darkening shades', \n",
    "          'Well-lit path to entrance', 'Lake access', 'Ethernet connection', 'Wide entrance for guests', \n",
    "          'Flat path to guest entrance', 'Extra space around bed', 'Wide entrance']\n",
    "    amen = []\n",
    "    \n",
    "    # Convert list of amenties into format we want\n",
    "    for p in range(0, len(df[\"amenities\"])):\n",
    "        amen = df[\"amenities\"][p]\n",
    "        amen = amen[1:len(amen)-1]\n",
    "        amen = str(amen)\n",
    "        amen = amen.replace(\"\\\"\", \"\")\n",
    "        amen = amen.split(\",\")\n",
    "\n",
    "    # Remove the amenties we don't want to keep\n",
    "    for i in amen:\n",
    "        if i not in toKeep:\n",
    "            amen.remove(i)   \n",
    "\n",
    "    # Map amenities into if each listing has them or not\n",
    "    for j in toKeep:\n",
    "        df[j] = df[\"amenities\"].apply(lambda x: j in x).astype(int)"
   ]
  },
  {
   "cell_type": "code",
   "execution_count": 281,
   "metadata": {},
   "outputs": [],
   "source": [
    "df = removeUnnecessaryFeatures(df)"
   ]
  },
  {
   "cell_type": "raw",
   "metadata": {
    "collapsed": true
   },
   "source": [
    "print (df)"
   ]
  },
  {
   "cell_type": "raw",
   "metadata": {},
   "source": [
    "df[\"last_scraped\"] = pd.to_datetime(df[\"last_scraped\"])"
   ]
  },
  {
   "cell_type": "raw",
   "metadata": {},
   "source": [
    "d = {}\n",
    "amen = []\n",
    "for i in range(0, len(df[\"amenities\"])):\n",
    "    amen = df[\"amenities\"][i]\n",
    "    amen = amen[1:len(amen)-1]\n",
    "    amen = str(amen)\n",
    "    amen = amen.replace(\"\\\"\", \"\")\n",
    "    amen = amen.split(\",\")\n",
    "    for k in range(0, len(amen)):\n",
    "        if amen[k] not in d:\n",
    "            d[amen[k]] = 0\n",
    "        else:\n",
    "            d[amen[k]] = d[amen[k]] + 1"
   ]
  },
  {
   "cell_type": "raw",
   "metadata": {
    "scrolled": true
   },
   "source": [
    "toRemove = []\n",
    "for l in d:\n",
    "    if (d[l]/len(df[\"amenities\"]) < 0.05):\n",
    "        toRemove.append(l)"
   ]
  },
  {
   "cell_type": "raw",
   "metadata": {},
   "source": [
    "saveKey = []\n",
    "for m in d:\n",
    "    for n in range(0, len(toRemove)):\n",
    "        if m == toRemove[n]:\n",
    "            saveKey.append(m)"
   ]
  },
  {
   "cell_type": "raw",
   "metadata": {},
   "source": [
    "for o in range(0, len(saveKey)):\n",
    "    count = count + 1\n",
    "    del d[saveKey[o]]"
   ]
  },
  {
   "cell_type": "raw",
   "metadata": {},
   "source": [
    "amen = []\n",
    "\n",
    "for p in range(0, 1):\n",
    "    amen = df[\"amenities\"][p]\n",
    "    amen = amen[1:len(amen)-1]\n",
    "    amen = str(amen)\n",
    "    amen = amen.replace(\"\\\"\", \"\")\n",
    "    amen = amen.split(\",\")\n",
    "    newAmen = []\n",
    "    for q in range(0, len(amen)):\n",
    "        for r in d:\n",
    "            if amen[q] == r:\n",
    "                newAmen.append(1)\n",
    "            else:\n",
    "                newAmen.append(0)\n",
    "        amenToSearch = r"
   ]
  },
  {
   "cell_type": "raw",
   "metadata": {},
   "source": [
    "amen = []\n",
    "newAmen = []\n",
    "for p in range(0, 1):\n",
    "    amen = df[\"amenities\"][p]\n",
    "    amen = amen[1:len(amen)-1]\n",
    "    amen = str(amen)\n",
    "    amen = amen.replace(\"\\\"\", \"\")\n",
    "    amen = amen.split(\",\")\n",
    "    for q in range(0, len(amen)):\n",
    "        count = 0\n",
    "        for r in d:\n",
    "            count = count + 1\n",
    "            if amen[q] == r:\n",
    "                newAmen[p][count] = 1\n",
    "            else:\n",
    "                newAmen[p][count] = 0\n",
    "        amenToSearch = r"
   ]
  },
  {
   "cell_type": "raw",
   "metadata": {},
   "source": [
    "print('remove is', toRemove)"
   ]
  },
  {
   "cell_type": "raw",
   "metadata": {},
   "source": [
    "toKeep = []\n",
    "for x in d:\n",
    "    toKeep.append(x)\n",
    "\n",
    "toKeep = ['TV', 'Internet', 'Wifi', 'Air conditioning', 'Kitchen', 'Indoor fireplace', 'Heating', \n",
    "          'Family/kid friendly', 'Washer', 'Dryer', 'Smoke detector', 'First aid kit', 'Fire extinguisher', \n",
    "          'Essentials', 'Shampoo', 'Cable TV', 'Pool', 'Free parking on premises', 'Doorman', 'Gym', 'Elevator', \n",
    "          'Buzzer/wireless intercom', 'Free street parking', 'Carbon monoxide detector', 'Lock on bedroom door', \n",
    "          '24-hour check-in', 'Hangers', 'Hair dryer', 'Iron', 'Laptop friendly workspace',  \n",
    "          'Self check-in', 'Keypad', 'Private entrance', 'Hot water', 'Bed linens', 'Extra pillows and blankets', \n",
    "          'Microwave', 'Coffee maker', 'Refrigerator', 'Dishes and silverware', 'Cooking basics', 'Oven', 'Stove', \n",
    "          'Long term stays allowed', 'No stairs or steps to enter', 'Wheelchair accessible', 'Pets allowed', \n",
    "          'Dishwasher', 'Single level home', 'Patio or balcony', 'Luggage dropoff allowed', \n",
    "          'Paid parking on premises', 'Host greets you', 'Lockbox', 'Garden or backyard', \n",
    "          'Paid parking off premises', 'Private living room', 'Breakfast', 'Hot tub', \n",
    "          'Wide hallways', 'Safety card', 'Bathtub', 'BBQ grill', 'Room-darkening shades', \n",
    "          'Well-lit path to entrance', 'Lake access', 'Ethernet connection', 'Wide entrance for guests', \n",
    "          'Flat path to guest entrance', 'Extra space around bed', 'Wide entrance']"
   ]
  },
  {
   "cell_type": "raw",
   "metadata": {},
   "source": [
    "for p in range(0, len(df[\"amenities\"])):\n",
    "    amen = df[\"amenities\"][p]\n",
    "    amen = amen[1:len(amen)-1]\n",
    "    amen = str(amen)\n",
    "    amen = amen.replace(\"\\\"\", \"\")\n",
    "    amen = amen.split(\",\")\n",
    "\n",
    "    for i in amen:\n",
    "        if i not in toKeep:\n",
    "            amen.remove(i)   \n",
    "\n",
    "for j in toKeep:\n",
    "    df[j] = df[\"amenities\"].apply(lambda x: j in x).astype(int)"
   ]
  }
 ],
 "metadata": {
  "kernelspec": {
   "display_name": "Python 3",
   "language": "python",
   "name": "python3"
  },
  "language_info": {
   "codemirror_mode": {
    "name": "ipython",
    "version": 3
   },
   "file_extension": ".py",
   "mimetype": "text/x-python",
   "name": "python",
   "nbconvert_exporter": "python",
   "pygments_lexer": "ipython3",
   "version": "3.7.3"
  }
 },
 "nbformat": 4,
 "nbformat_minor": 2
}
