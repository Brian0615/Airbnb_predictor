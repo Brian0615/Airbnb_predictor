{
 "cells": [
  {
   "cell_type": "code",
   "execution_count": 1,
   "metadata": {},
   "outputs": [],
   "source": [
    "#Import libraries\n",
    "import numpy as np\n",
    "import pandas as pd\n",
    "import torch\n",
    "import os\n",
    "import glob"
   ]
  },
  {
   "cell_type": "code",
   "execution_count": 2,
   "metadata": {},
   "outputs": [],
   "source": [
    "#Getting all the file_names in a given directory\n",
    "def get_file_names(folder):\n",
    "    #Listing entries present in given folder\n",
    "    entries = os.listdir(folder)\n",
    "    return entries\n",
    "\n",
    "#Saving the file\n",
    "def save_file(name_of_file,my_dataframe):\n",
    "    #Test if save directory exists\n",
    "    try:\n",
    "        my_dataframe.to_csv('../processed_data/'+ name_of_file)\n",
    "    #Otherwise make the directory and then save\n",
    "    except:\n",
    "        os.mkdir('../processed_data')\n",
    "        my_dataframe.to_csv('../processed_data/'+ name_of_file)\n",
    "        \n",
    "    \n",
    "    \n",
    "#name = get_file_names('../dummy_csv')\n",
    "#save_file(name[1],df)"
   ]
  },
  {
   "cell_type": "code",
   "execution_count": 3,
   "metadata": {},
   "outputs": [],
   "source": [
    "#Defining the split_data function\n",
    "def split_data(folder):\n",
    "    files = get_file_names(folder)\n",
    "    #Retriving the \n",
    "    for file in files:\n",
    "        data = pd.read_csv(folder+'/'+file).reset_index(drop=True)\n",
    "        data = data.sample(frac = 1)\n",
    "        train_index = int(data.shape[0]*0.6)\n",
    "        test_index = int(data.shape[0]*0.8)\n",
    "        validation_index = int(data.shape[0])\n",
    "        #print(train,test,validation)\n",
    "        train = data.iloc[:train_index].reset_index(drop=True)\n",
    "        test = data.iloc[train_index:test_index].reset_index(drop=True)\n",
    "        validation = data.iloc[test_index:validation_index].reset_index(drop=True)\n",
    "\n",
    "        try:\n",
    "            train.to_csv('../split_datasets/train/' + file, index=False)\n",
    "            test.to_csv('../split_datasets/test/' + file, index=False)\n",
    "            validation.to_csv('../split_datasets/validation/' + file, index=False)\n",
    "        except:\n",
    "            os.mkdir('../split_datasets')\n",
    "            os.mkdir('../split_datasets/train')\n",
    "            os.mkdir('../split_datasets/test')\n",
    "            os.mkdir('../split_datasets/validation')\n",
    "            train.to_csv('../split_datasets/train/' + file, index=False)\n",
    "            test.to_csv('../split_datasets/test/' + file, index=False)\n",
    "            validation.to_csv('../split_datasets/validation/' + file, index=False)\n",
    "    \n",
    "def combine_data(data_path):\n",
    "    interesting_files = glob.glob(data_path + \"/*.csv\")\n",
    "    df_list = []\n",
    "    for filename in sorted(interesting_files):\n",
    "        df_list.append(pd.read_csv(filename))\n",
    "    full_df = pd.concat(df_list)\n",
    "    full_df.to_csv(data_path + '/output.csv')\n",
    "\n",
    "\n",
    "    \n",
    "    "
   ]
  },
  {
   "cell_type": "code",
   "execution_count": 4,
   "metadata": {},
   "outputs": [],
   "source": [
    "cols = ['price','accommodates','bedrooms','beds','room_type_codes','bathrooms','TV','district',\n",
    "        'district_group','Dishwasher','Lock on bedroom door','Gym','Elevator','Dryer','Cable TV',\n",
    "        'Washer','Air conditioning','Family/kid friendly','Pool','Patio or balcony','Iron','Hot tub',\n",
    "        'Indoor fireplace','cancellation_policy_codes','Bathtub','Kitchen','Hair dryer','Coffee maker',\n",
    "        'Oven','Room-darkening shades']"
   ]
  },
  {
   "cell_type": "code",
   "execution_count": 6,
   "metadata": {},
   "outputs": [],
   "source": [
    "split_data('../processed_data_2')"
   ]
  },
  {
   "cell_type": "code",
   "execution_count": null,
   "metadata": {},
   "outputs": [],
   "source": []
  }
 ],
 "metadata": {
  "kernelspec": {
   "display_name": "Python 3",
   "language": "python",
   "name": "python3"
  },
  "language_info": {
   "codemirror_mode": {
    "name": "ipython",
    "version": 3
   },
   "file_extension": ".py",
   "mimetype": "text/x-python",
   "name": "python",
   "nbconvert_exporter": "python",
   "pygments_lexer": "ipython3",
   "version": "3.6.9"
  }
 },
 "nbformat": 4,
 "nbformat_minor": 2
}
