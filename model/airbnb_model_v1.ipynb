{
 "cells": [
  {
   "cell_type": "code",
   "execution_count": 1,
   "metadata": {},
   "outputs": [],
   "source": [
    "import matplotlib.pyplot as plt\n",
    "import pandas as pd\n",
    "import os\n",
    "from matplotlib import pyplot as plt\n",
    "import time\n",
    "\n",
    "import torch\n",
    "import torch.nn as nn\n",
    "import torch.nn.functional as F\n",
    "import torch.optim as optim\n",
    "from torch.utils.data import Dataset, DataLoader\n"
   ]
  },
  {
   "cell_type": "code",
   "execution_count": 17,
   "metadata": {},
   "outputs": [
    {
     "name": "stdout",
     "output_type": "stream",
     "text": [
      "36 349\n"
     ]
    }
   ],
   "source": [
    "def get_file_names(folder):\n",
    "    #Listing entries present in given folder\n",
    "    entries = os.listdir(folder)\n",
    "    for i in entries:\n",
    "        if 'csv' not in i:\n",
    "            entries.remove(i)\n",
    "    return sorted(entries, reverse=True)[0:12]\n",
    "\n",
    "train_path = \"../split_datasets/train/\"\n",
    "test_path = \"../split_datasets/test/\"\n",
    "val_path = \"../split_datasets/validation/\"\n",
    "\n",
    "train_files = get_file_names(train_path)\n",
    "test_files = get_file_names(test_path)\n",
    "val_files = get_file_names(val_path)\n",
    "\n",
    "frames = []\n",
    "for i in train_files:\n",
    "    frames.append(pd.read_csv(train_path+i))\n",
    "train_df = pd.concat(frames, sort=True)\n",
    "train_df = train_df.drop(columns=\"id\")\n",
    "train_df = train_df.drop(columns=\"last_scraped\")\n",
    "train_df = train_df.fillna(0)\n",
    "\n",
    "frames = []\n",
    "for i in test_files:\n",
    "    frames.append(pd.read_csv(test_path+i))\n",
    "test_df = pd.concat(frames, sort=True)\n",
    "test_df = test_df.drop(columns=\"id\")\n",
    "test_df = test_df.drop(columns=\"last_scraped\")\n",
    "test_df = test_df.fillna(0)\n",
    "\n",
    "frames = []\n",
    "for i in val_files:\n",
    "    frames.append(pd.read_csv(val_path+i))\n",
    "val_df = pd.concat(frames, sort=True)\n",
    "val_df = val_df.drop(columns=\"id\")\n",
    "val_df = val_df.drop(columns=\"last_scraped\")\n",
    "val_df = val_df.fillna(0)\n",
    "\n",
    "minimum = min(train_df['price'].min(), test_df['price'].min(), val_df['price'].min())\n",
    "maximum = max(train_df['price'].max(), test_df['price'].max(), val_df['price'].max())\n",
    "\n",
    "train_df['price'] = (train_df['price'] - minimum)/(maximum - minimum)\n",
    "train_df = train_df.reset_index(drop=True)\n",
    "test_df['price'] = (test_df['price'] - minimum)/(maximum - minimum)\n",
    "test_df = test_df.reset_index(drop=True)\n",
    "val_df['price'] = (val_df['price'] - minimum)/(maximum - minimum)\n",
    "val_df = val_df.reset_index(drop=True)\n",
    "\n",
    "print(minimum, maximum)"
   ]
  },
  {
   "cell_type": "code",
   "execution_count": 3,
   "metadata": {},
   "outputs": [],
   "source": [
    "class airbnb_dataset (Dataset):\n",
    "    def __init__(self, df, purpose):\n",
    "        self.df = df\n",
    "        self.price = self.df[\"price\"]\n",
    "        self.df = self.df.drop(columns=\"price\")\n",
    "        self.purpose = purpose\n",
    "        \n",
    "    def __len__(self):\n",
    "        return len(self.df)\n",
    "    \n",
    "    def __getitem__(self, index):\n",
    "        # Returns specific sample as a dict\n",
    "        if torch.is_tensor(index):\n",
    "            index = index.tolist()\n",
    "        sample = torch.tensor(self.df.iloc[index]).float()\n",
    "        label = torch.tensor([self.price.iloc[index]]).float()\n",
    "        return {\"sample\": sample, \"label\": label}"
   ]
  },
  {
   "cell_type": "code",
   "execution_count": 4,
   "metadata": {},
   "outputs": [],
   "source": [
    "train_ds = airbnb_dataset(train_df, \"train\")\n",
    "test_ds = airbnb_dataset(test_df, \"test\")\n",
    "val_ds = airbnb_dataset(val_df, \"test\")\n",
    "\n",
    "train_loader = DataLoader(train_ds, batch_size=1000, num_workers=4)\n",
    "test_loader = DataLoader(test_ds, batch_size=1000, num_workers=4)\n",
    "val_loader = DataLoader(val_ds, batch_size=1000, num_workers=4)"
   ]
  },
  {
   "cell_type": "code",
   "execution_count": 18,
   "metadata": {},
   "outputs": [],
   "source": [
    "class airbnb_net (nn.Module):\n",
    "    def __init__(self):\n",
    "        super(airbnb_net, self).__init__()\n",
    "        self.layer1 = nn.Linear(264, 400)\n",
    "        self.layer2 = nn.Linear(400, 200)\n",
    "        self.layer3 = nn.Linear(200, 100)\n",
    "        self.layer4 = nn.Linear(100, 1)\n",
    "    \n",
    "    def forward(self, x):\n",
    "        x = torch.relu(self.layer1(x))\n",
    "        x = torch.relu(self.layer2(x))\n",
    "        x = torch.relu(self.layer3(x))\n",
    "        return self.layer4(x)"
   ]
  },
  {
   "cell_type": "code",
   "execution_count": 19,
   "metadata": {},
   "outputs": [
    {
     "data": {
      "text/plain": [
       "'\\n    plt.title(\"Training Curve\")\\n    plt.plot(epochs, train_acc, label=\"Train\")\\n    plt.plot(epochs, valid_acc, label=\"Validation\")\\n    plt.xlabel(\"Epoch\")\\n    plt.ylabel(\"Accuracy\")\\n    plt.legend(loc=\\'best\\')\\n    plt.show()\\n'"
      ]
     },
     "execution_count": 19,
     "metadata": {},
     "output_type": "execute_result"
    }
   ],
   "source": [
    "def train(net, train_loader, val_loader, bounds):\n",
    "    criterion = nn.MSELoss()\n",
    "    optimizer = optim.SGD(net.parameters(), lr=0.0001, momentum = 0.9)\n",
    "    \n",
    "    print(\"Starting Training...\")\n",
    "    start_time = time.time()\n",
    "    epochs, losses = [], []\n",
    "    \n",
    "    for epoch in range(75):\n",
    "        epoch_loss = 0\n",
    "        epoch_time = time.time()\n",
    "        batch_loss = 0\n",
    "        batch_time = time.time()\n",
    "        for i, data in enumerate(train_loader):\n",
    "            sample = data[\"sample\"]\n",
    "            label = data[\"label\"]\n",
    "            output = net(sample)\n",
    "            loss = criterion(output, label)\n",
    "            loss.backward()\n",
    "            optimizer.step()\n",
    "            optimizer.zero_grad()\n",
    "            batch_loss += loss\n",
    "            epoch_loss += loss\n",
    "            break\n",
    "            \n",
    "            if i % 10 == 0:\n",
    "                batch_loss = batch_loss/10\n",
    "                print(\"---[ITER %d] loss: %.6f  time: %.3f\" % (i, batch_loss, time.time()-batch_time))\n",
    "                batch_loss = 0\n",
    "                batch_time = time.time()\n",
    "        epoch_loss /= len(train_loader)\n",
    "        \n",
    "        epochs.append(epoch)\n",
    "        losses.append(epoch_loss)\n",
    "        \n",
    "        print(\"[EPOCH %d] loss: %.6f  time: %.3f\" % (epoch+1, epoch_loss, time.time()-epoch_time))\n",
    "        \n",
    "        if epoch % 5 == 0:\n",
    "            plt.title(\"Training Curve\")\n",
    "            plt.plot(losses, label=\"Train\")\n",
    "            plt.xlabel(\"Epoch\")\n",
    "            plt.ylabel(\"Loss\")\n",
    "            plt.show()\n",
    "        \n",
    "    print(\"=========================================\")\n",
    "    print(\"Training Completed...\")\n",
    "    print(\"[FINAL] loss: %.6f  time: %.3f\" % (epoch_loss, time.time()-start_time))\n",
    "          \n",
    "        \n",
    "    # plotting\n",
    "    plt.title(\"Training Curve\")\n",
    "    plt.plot(losses, label=\"Train\")\n",
    "    plt.xlabel(\"Epoch\")\n",
    "    plt.ylabel(\"Loss\")\n",
    "    plt.show()\n",
    "    \n",
    "'''\n",
    "    plt.title(\"Training Curve\")\n",
    "    plt.plot(epochs, train_acc, label=\"Train\")\n",
    "    plt.plot(epochs, valid_acc, label=\"Validation\")\n",
    "    plt.xlabel(\"Epoch\")\n",
    "    plt.ylabel(\"Accuracy\")\n",
    "    plt.legend(loc='best')\n",
    "    plt.show()\n",
    "'''            "
   ]
  },
  {
   "cell_type": "code",
   "execution_count": 7,
   "metadata": {},
   "outputs": [],
   "source": [
    "def get_error(model, train_loader, val_loader, threshold, bounds):\n",
    "    train_samples = 0\n",
    "    train_error = 0\n",
    "    for i, data in enumerate(train_loader):\n",
    "        sample = data[\"sample\"]\n",
    "        label = data[\"label\"]\n",
    "        output = net(sample)\n",
    "        error = abs(label-output)\n",
    "        accurate = (error < float(threshold)/float(bounds[1]-bounds[0]))\n",
    "        train_samples += len(label)\n",
    "        train_error += error.sum().item()\n",
    "    val_samples = 0\n",
    "    val_error = 0\n",
    "    #for i, data in enumerate(val_loader):\n",
    "    #    print(\"hello\")\n",
    "    return train_error    "
   ]
  },
  {
   "cell_type": "code",
   "execution_count": 20,
   "metadata": {},
   "outputs": [],
   "source": [
    "net = airbnb_net()"
   ]
  },
  {
   "cell_type": "code",
   "execution_count": null,
   "metadata": {},
   "outputs": [
    {
     "name": "stdout",
     "output_type": "stream",
     "text": [
      "Starting Training...\n",
      "[EPOCH 1] loss: 0.106514  time: 12.317\n"
     ]
    },
    {
     "data": {
      "image/png": "[encoded data removed]",
      "text/plain": [
       "<Figure size 432x288 with 1 Axes>"
      ]
     },
     "metadata": {
      "needs_background": "light"
     },
     "output_type": "display_data"
    },
    {
     "name": "stdout",
     "output_type": "stream",
     "text": [
      "[EPOCH 2] loss: 0.109583  time: 12.719\n",
      "[EPOCH 3] loss: 0.019704  time: 12.190\n",
      "[EPOCH 4] loss: 0.044272  time: 12.448\n",
      "[EPOCH 5] loss: 0.028862  time: 11.947\n",
      "[EPOCH 6] loss: 0.012056  time: 12.842\n"
     ]
    },
    {
     "data": {
      "image/png": "[encoded data removed]",
      "text/plain": [
       "<Figure size 432x288 with 1 Axes>"
      ]
     },
     "metadata": {
      "needs_background": "light"
     },
     "output_type": "display_data"
    },
    {
     "name": "stdout",
     "output_type": "stream",
     "text": [
      "[EPOCH 7] loss: 0.030149  time: 12.598\n",
      "[EPOCH 8] loss: 0.000480  time: 12.323\n",
      "[EPOCH 9] loss: 0.021337  time: 14.292\n",
      "[EPOCH 10] loss: 0.009980  time: 16.979\n",
      "[EPOCH 11] loss: 0.003368  time: 14.583\n"
     ]
    },
    {
     "data": {
      "image/png": "[encoded data removed]",
      "text/plain": [
       "<Figure size 432x288 with 1 Axes>"
      ]
     },
     "metadata": {
      "needs_background": "light"
     },
     "output_type": "display_data"
    },
    {
     "name": "stdout",
     "output_type": "stream",
     "text": [
      "[EPOCH 12] loss: 0.015698  time: 17.594\n",
      "[EPOCH 13] loss: 0.003244  time: 17.280\n",
      "[EPOCH 14] loss: 0.003193  time: 12.189\n",
      "[EPOCH 15] loss: 0.009312  time: 13.151\n",
      "[EPOCH 16] loss: 0.003098  time: 12.452\n"
     ]
    },
    {
     "data": {
      "image/png": "[encoded data removed]",
      "text/plain": [
       "<Figure size 432x288 with 1 Axes>"
      ]
     },
     "metadata": {
      "needs_background": "light"
     },
     "output_type": "display_data"
    },
    {
     "name": "stdout",
     "output_type": "stream",
     "text": [
      "[EPOCH 17] loss: 0.001201  time: 13.075\n",
      "[EPOCH 18] loss: 0.005857  time: 11.688\n",
      "[EPOCH 19] loss: 0.003916  time: 13.387\n",
      "[EPOCH 20] loss: 0.000501  time: 14.976\n",
      "[EPOCH 21] loss: 0.002416  time: 14.354\n"
     ]
    },
    {
     "data": {
      "image/png": "[encoded data removed]",
      "text/plain": [
       "<Figure size 432x288 with 1 Axes>"
      ]
     },
     "metadata": {
      "needs_background": "light"
     },
     "output_type": "display_data"
    }
   ],
   "source": [
    "train(net, train_loader, val_loader, [minimum, maximum])"
   ]
  },
  {
   "cell_type": "code",
   "execution_count": 15,
   "metadata": {},
   "outputs": [
    {
     "name": "stdout",
     "output_type": "stream",
     "text": [
      "Error: -0.0359729637298733\n",
      "Abs Error: 0.14106640114448965\n"
     ]
    }
   ],
   "source": [
    "accum = 0\n",
    "accum1 = 0\n",
    "for i in range(100):\n",
    "    error = net(train_ds[i][\"sample\"]).item() - train_ds[i][\"label\"].item()\n",
    "    accum += error\n",
    "    accum1 += abs(error)\n",
    "print(\"Error:\", accum/100)\n",
    "print(\"Abs Error:\", accum1/100)"
   ]
  },
  {
   "cell_type": "code",
   "execution_count": 25,
   "metadata": {},
   "outputs": [
    {
     "name": "stdout",
     "output_type": "stream",
     "text": [
      "1000\n"
     ]
    }
   ],
   "source": [
    "for i, data in enumerate(train_loader):\n",
    "    print(len(data[\"label\"]))\n",
    "    break"
   ]
  },
  {
   "cell_type": "code",
   "execution_count": 11,
   "metadata": {},
   "outputs": [
    {
     "data": {
      "text/plain": [
       "135.0"
      ]
     },
     "execution_count": 11,
     "metadata": {},
     "output_type": "execute_result"
    }
   ],
   "source": [
    "train_ds[4][\"label\"].item()\n"
   ]
  },
  {
   "cell_type": "code",
   "execution_count": null,
   "metadata": {},
   "outputs": [],
   "source": []
  }
 ],
 "metadata": {
  "kernelspec": {
   "display_name": "Python 3",
   "language": "python",
   "name": "python3"
  }
 },
 "nbformat": 4,
 "nbformat_minor": 2
}
