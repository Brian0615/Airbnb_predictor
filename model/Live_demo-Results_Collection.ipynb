{
 "cells": [
  {
   "cell_type": "code",
   "execution_count": 2,
   "metadata": {},
   "outputs": [],
   "source": [
    "import pandas as pd\n",
    "import torch\n",
    "import torch.nn as nn\n",
    "from torch.utils.data import Dataset, DataLoader\n",
    "import time\n",
    "import matplotlib.pyplot as plt\n",
    "import numpy as np"
   ]
  },
  {
   "cell_type": "code",
   "execution_count": 3,
   "metadata": {},
   "outputs": [],
   "source": [
    "mean_std = pd.read_csv(\"../data_processing/mean_std.csv\", index_col = 0)"
   ]
  },
  {
   "cell_type": "code",
   "execution_count": 4,
   "metadata": {},
   "outputs": [],
   "source": [
    "checkpoint = torch.load(\"../test/Brian/nov22_test01/final/checkpoint_final.tar\")\n",
    "demo_df = pd.read_csv(\"../split_datasets/live_demo.csv\")\n",
    "\n",
    "test_df = pd.read_csv(\"../split_datasets/test.csv\")\n",
    "test_df = test_df.drop(columns=\"id\")\n",
    "test_df = test_df.drop(columns=\"last_scraped\")\n",
    "test_df = test_df.drop(columns=\"amenities\")\n",
    "demo_df = demo_df.drop(columns=\"amenities\")"
   ]
  },
  {
   "cell_type": "code",
   "execution_count": 5,
   "metadata": {},
   "outputs": [
    {
     "data": {
      "text/html": [
       "<div>\n",
       "<style scoped>\n",
       "    .dataframe tbody tr th:only-of-type {\n",
       "        vertical-align: middle;\n",
       "    }\n",
       "\n",
       "    .dataframe tbody tr th {\n",
       "        vertical-align: top;\n",
       "    }\n",
       "\n",
       "    .dataframe thead th {\n",
       "        text-align: right;\n",
       "    }\n",
       "</style>\n",
       "<table border=\"1\" class=\"dataframe\">\n",
       "  <thead>\n",
       "    <tr style=\"text-align: right;\">\n",
       "      <th></th>\n",
       "      <th>host_is_superhost</th>\n",
       "      <th>price</th>\n",
       "      <th>latitude</th>\n",
       "      <th>longitude</th>\n",
       "      <th>property_type</th>\n",
       "      <th>room_type</th>\n",
       "      <th>accommodates</th>\n",
       "      <th>bathrooms</th>\n",
       "      <th>bedrooms</th>\n",
       "      <th>beds</th>\n",
       "      <th>...</th>\n",
       "      <th>amenities_count</th>\n",
       "      <th>facilities_Free parking on premises</th>\n",
       "      <th>facilities_Gym</th>\n",
       "      <th>facilities_Hot tub</th>\n",
       "      <th>facilities_Pool</th>\n",
       "      <th>facilities_count</th>\n",
       "      <th>house_rules_Suitable for events</th>\n",
       "      <th>house_rules_Pets allowed</th>\n",
       "      <th>house_rules_Smoking allowed</th>\n",
       "      <th>house_rules_count</th>\n",
       "    </tr>\n",
       "  </thead>\n",
       "  <tbody>\n",
       "    <tr>\n",
       "      <td>0</td>\n",
       "      <td>0</td>\n",
       "      <td>-0.881203</td>\n",
       "      <td>-0.896103</td>\n",
       "      <td>-0.061014</td>\n",
       "      <td>1.182045</td>\n",
       "      <td>1.329375</td>\n",
       "      <td>-1.165452</td>\n",
       "      <td>0.652325</td>\n",
       "      <td>-0.353343</td>\n",
       "      <td>-0.650700</td>\n",
       "      <td>...</td>\n",
       "      <td>0.293298</td>\n",
       "      <td>0</td>\n",
       "      <td>0</td>\n",
       "      <td>0</td>\n",
       "      <td>0</td>\n",
       "      <td>-0.901841</td>\n",
       "      <td>0</td>\n",
       "      <td>0</td>\n",
       "      <td>0</td>\n",
       "      <td>-0.410572</td>\n",
       "    </tr>\n",
       "    <tr>\n",
       "      <td>1</td>\n",
       "      <td>0</td>\n",
       "      <td>0.145206</td>\n",
       "      <td>-0.333142</td>\n",
       "      <td>0.222818</td>\n",
       "      <td>1.182045</td>\n",
       "      <td>-0.686927</td>\n",
       "      <td>-0.597957</td>\n",
       "      <td>-0.436242</td>\n",
       "      <td>-0.353343</td>\n",
       "      <td>-0.650700</td>\n",
       "      <td>...</td>\n",
       "      <td>-0.427262</td>\n",
       "      <td>0</td>\n",
       "      <td>0</td>\n",
       "      <td>0</td>\n",
       "      <td>0</td>\n",
       "      <td>-0.901841</td>\n",
       "      <td>0</td>\n",
       "      <td>0</td>\n",
       "      <td>0</td>\n",
       "      <td>-0.410572</td>\n",
       "    </tr>\n",
       "    <tr>\n",
       "      <td>2</td>\n",
       "      <td>0</td>\n",
       "      <td>-1.042496</td>\n",
       "      <td>1.851645</td>\n",
       "      <td>1.795044</td>\n",
       "      <td>-0.986725</td>\n",
       "      <td>1.329375</td>\n",
       "      <td>-0.597957</td>\n",
       "      <td>-0.436242</td>\n",
       "      <td>-0.353343</td>\n",
       "      <td>-0.650700</td>\n",
       "      <td>...</td>\n",
       "      <td>-0.427262</td>\n",
       "      <td>0</td>\n",
       "      <td>0</td>\n",
       "      <td>0</td>\n",
       "      <td>0</td>\n",
       "      <td>-0.901841</td>\n",
       "      <td>0</td>\n",
       "      <td>0</td>\n",
       "      <td>0</td>\n",
       "      <td>-0.410572</td>\n",
       "    </tr>\n",
       "    <tr>\n",
       "      <td>3</td>\n",
       "      <td>1</td>\n",
       "      <td>-0.617269</td>\n",
       "      <td>2.360930</td>\n",
       "      <td>0.983627</td>\n",
       "      <td>-0.444532</td>\n",
       "      <td>-0.686927</td>\n",
       "      <td>1.104526</td>\n",
       "      <td>0.652325</td>\n",
       "      <td>0.953672</td>\n",
       "      <td>0.389812</td>\n",
       "      <td>...</td>\n",
       "      <td>0.293298</td>\n",
       "      <td>0</td>\n",
       "      <td>0</td>\n",
       "      <td>0</td>\n",
       "      <td>0</td>\n",
       "      <td>-0.901841</td>\n",
       "      <td>0</td>\n",
       "      <td>0</td>\n",
       "      <td>0</td>\n",
       "      <td>-0.410572</td>\n",
       "    </tr>\n",
       "    <tr>\n",
       "      <td>4</td>\n",
       "      <td>1</td>\n",
       "      <td>0.541107</td>\n",
       "      <td>-0.491634</td>\n",
       "      <td>-1.055418</td>\n",
       "      <td>1.182045</td>\n",
       "      <td>-0.686927</td>\n",
       "      <td>-0.597957</td>\n",
       "      <td>-0.436242</td>\n",
       "      <td>-0.353343</td>\n",
       "      <td>-0.650700</td>\n",
       "      <td>...</td>\n",
       "      <td>0.293298</td>\n",
       "      <td>0</td>\n",
       "      <td>0</td>\n",
       "      <td>0</td>\n",
       "      <td>0</td>\n",
       "      <td>-0.901841</td>\n",
       "      <td>0</td>\n",
       "      <td>0</td>\n",
       "      <td>0</td>\n",
       "      <td>-0.410572</td>\n",
       "    </tr>\n",
       "    <tr>\n",
       "      <td>5</td>\n",
       "      <td>0</td>\n",
       "      <td>-0.455976</td>\n",
       "      <td>-0.276603</td>\n",
       "      <td>-2.584298</td>\n",
       "      <td>1.182045</td>\n",
       "      <td>-0.686927</td>\n",
       "      <td>-0.597957</td>\n",
       "      <td>-0.436242</td>\n",
       "      <td>-0.353343</td>\n",
       "      <td>-0.650700</td>\n",
       "      <td>...</td>\n",
       "      <td>0.653578</td>\n",
       "      <td>0</td>\n",
       "      <td>0</td>\n",
       "      <td>0</td>\n",
       "      <td>0</td>\n",
       "      <td>-0.901841</td>\n",
       "      <td>0</td>\n",
       "      <td>0</td>\n",
       "      <td>0</td>\n",
       "      <td>-0.410572</td>\n",
       "    </tr>\n",
       "    <tr>\n",
       "      <td>6</td>\n",
       "      <td>1</td>\n",
       "      <td>-0.807888</td>\n",
       "      <td>-0.351967</td>\n",
       "      <td>-0.797598</td>\n",
       "      <td>2.266429</td>\n",
       "      <td>-0.686927</td>\n",
       "      <td>-0.597957</td>\n",
       "      <td>-0.436242</td>\n",
       "      <td>-1.660357</td>\n",
       "      <td>-0.650700</td>\n",
       "      <td>...</td>\n",
       "      <td>-0.066982</td>\n",
       "      <td>0</td>\n",
       "      <td>0</td>\n",
       "      <td>0</td>\n",
       "      <td>0</td>\n",
       "      <td>-0.901841</td>\n",
       "      <td>0</td>\n",
       "      <td>0</td>\n",
       "      <td>0</td>\n",
       "      <td>-0.410572</td>\n",
       "    </tr>\n",
       "    <tr>\n",
       "      <td>7</td>\n",
       "      <td>0</td>\n",
       "      <td>-0.734573</td>\n",
       "      <td>0.303578</td>\n",
       "      <td>-1.091032</td>\n",
       "      <td>-1.528917</td>\n",
       "      <td>-0.686927</td>\n",
       "      <td>-0.597957</td>\n",
       "      <td>-0.436242</td>\n",
       "      <td>-0.353343</td>\n",
       "      <td>-0.650700</td>\n",
       "      <td>...</td>\n",
       "      <td>0.653578</td>\n",
       "      <td>0</td>\n",
       "      <td>0</td>\n",
       "      <td>0</td>\n",
       "      <td>0</td>\n",
       "      <td>-0.901841</td>\n",
       "      <td>0</td>\n",
       "      <td>0</td>\n",
       "      <td>0</td>\n",
       "      <td>-0.410572</td>\n",
       "    </tr>\n",
       "    <tr>\n",
       "      <td>8</td>\n",
       "      <td>0</td>\n",
       "      <td>3.371063</td>\n",
       "      <td>0.751704</td>\n",
       "      <td>0.044698</td>\n",
       "      <td>0.097660</td>\n",
       "      <td>-0.686927</td>\n",
       "      <td>1.672021</td>\n",
       "      <td>5.006591</td>\n",
       "      <td>2.260687</td>\n",
       "      <td>1.430323</td>\n",
       "      <td>...</td>\n",
       "      <td>-0.066982</td>\n",
       "      <td>0</td>\n",
       "      <td>0</td>\n",
       "      <td>0</td>\n",
       "      <td>0</td>\n",
       "      <td>-0.901841</td>\n",
       "      <td>0</td>\n",
       "      <td>0</td>\n",
       "      <td>0</td>\n",
       "      <td>-0.410572</td>\n",
       "    </tr>\n",
       "    <tr>\n",
       "      <td>9</td>\n",
       "      <td>1</td>\n",
       "      <td>-0.236032</td>\n",
       "      <td>-0.684738</td>\n",
       "      <td>0.100713</td>\n",
       "      <td>1.182045</td>\n",
       "      <td>3.345677</td>\n",
       "      <td>-0.597957</td>\n",
       "      <td>-0.436242</td>\n",
       "      <td>-0.353343</td>\n",
       "      <td>-0.650700</td>\n",
       "      <td>...</td>\n",
       "      <td>0.653578</td>\n",
       "      <td>0</td>\n",
       "      <td>0</td>\n",
       "      <td>0</td>\n",
       "      <td>0</td>\n",
       "      <td>-0.901841</td>\n",
       "      <td>0</td>\n",
       "      <td>0</td>\n",
       "      <td>0</td>\n",
       "      <td>-0.410572</td>\n",
       "    </tr>\n",
       "  </tbody>\n",
       "</table>\n",
       "<p>10 rows × 42 columns</p>\n",
       "</div>"
      ],
      "text/plain": [
       "   host_is_superhost     price  latitude  longitude  property_type  room_type  \\\n",
       "0                  0 -0.881203 -0.896103  -0.061014       1.182045   1.329375   \n",
       "1                  0  0.145206 -0.333142   0.222818       1.182045  -0.686927   \n",
       "2                  0 -1.042496  1.851645   1.795044      -0.986725   1.329375   \n",
       "3                  1 -0.617269  2.360930   0.983627      -0.444532  -0.686927   \n",
       "4                  1  0.541107 -0.491634  -1.055418       1.182045  -0.686927   \n",
       "5                  0 -0.455976 -0.276603  -2.584298       1.182045  -0.686927   \n",
       "6                  1 -0.807888 -0.351967  -0.797598       2.266429  -0.686927   \n",
       "7                  0 -0.734573  0.303578  -1.091032      -1.528917  -0.686927   \n",
       "8                  0  3.371063  0.751704   0.044698       0.097660  -0.686927   \n",
       "9                  1 -0.236032 -0.684738   0.100713       1.182045   3.345677   \n",
       "\n",
       "   accommodates  bathrooms  bedrooms      beds  ...  amenities_count  \\\n",
       "0     -1.165452   0.652325 -0.353343 -0.650700  ...         0.293298   \n",
       "1     -0.597957  -0.436242 -0.353343 -0.650700  ...        -0.427262   \n",
       "2     -0.597957  -0.436242 -0.353343 -0.650700  ...        -0.427262   \n",
       "3      1.104526   0.652325  0.953672  0.389812  ...         0.293298   \n",
       "4     -0.597957  -0.436242 -0.353343 -0.650700  ...         0.293298   \n",
       "5     -0.597957  -0.436242 -0.353343 -0.650700  ...         0.653578   \n",
       "6     -0.597957  -0.436242 -1.660357 -0.650700  ...        -0.066982   \n",
       "7     -0.597957  -0.436242 -0.353343 -0.650700  ...         0.653578   \n",
       "8      1.672021   5.006591  2.260687  1.430323  ...        -0.066982   \n",
       "9     -0.597957  -0.436242 -0.353343 -0.650700  ...         0.653578   \n",
       "\n",
       "   facilities_Free parking on premises  facilities_Gym  facilities_Hot tub  \\\n",
       "0                                    0               0                   0   \n",
       "1                                    0               0                   0   \n",
       "2                                    0               0                   0   \n",
       "3                                    0               0                   0   \n",
       "4                                    0               0                   0   \n",
       "5                                    0               0                   0   \n",
       "6                                    0               0                   0   \n",
       "7                                    0               0                   0   \n",
       "8                                    0               0                   0   \n",
       "9                                    0               0                   0   \n",
       "\n",
       "   facilities_Pool  facilities_count  house_rules_Suitable for events  \\\n",
       "0                0         -0.901841                                0   \n",
       "1                0         -0.901841                                0   \n",
       "2                0         -0.901841                                0   \n",
       "3                0         -0.901841                                0   \n",
       "4                0         -0.901841                                0   \n",
       "5                0         -0.901841                                0   \n",
       "6                0         -0.901841                                0   \n",
       "7                0         -0.901841                                0   \n",
       "8                0         -0.901841                                0   \n",
       "9                0         -0.901841                                0   \n",
       "\n",
       "   house_rules_Pets allowed  house_rules_Smoking allowed  house_rules_count  \n",
       "0                         0                            0          -0.410572  \n",
       "1                         0                            0          -0.410572  \n",
       "2                         0                            0          -0.410572  \n",
       "3                         0                            0          -0.410572  \n",
       "4                         0                            0          -0.410572  \n",
       "5                         0                            0          -0.410572  \n",
       "6                         0                            0          -0.410572  \n",
       "7                         0                            0          -0.410572  \n",
       "8                         0                            0          -0.410572  \n",
       "9                         0                            0          -0.410572  \n",
       "\n",
       "[10 rows x 42 columns]"
      ]
     },
     "execution_count": 5,
     "metadata": {},
     "output_type": "execute_result"
    }
   ],
   "source": [
    "#Number accomodates vs price\n",
    "#Number of bathrooms and bedrooms vs price\n",
    "demo_df"
   ]
  },
  {
   "cell_type": "code",
   "execution_count": 6,
   "metadata": {},
   "outputs": [
    {
     "data": {
      "text/html": [
       "<div>\n",
       "<style scoped>\n",
       "    .dataframe tbody tr th:only-of-type {\n",
       "        vertical-align: middle;\n",
       "    }\n",
       "\n",
       "    .dataframe tbody tr th {\n",
       "        vertical-align: top;\n",
       "    }\n",
       "\n",
       "    .dataframe thead th {\n",
       "        text-align: right;\n",
       "    }\n",
       "</style>\n",
       "<table border=\"1\" class=\"dataframe\">\n",
       "  <thead>\n",
       "    <tr style=\"text-align: right;\">\n",
       "      <th></th>\n",
       "      <th>host_is_superhost</th>\n",
       "      <th>latitude</th>\n",
       "      <th>longitude</th>\n",
       "      <th>property_type</th>\n",
       "      <th>room_type</th>\n",
       "      <th>accommodates</th>\n",
       "      <th>bathrooms</th>\n",
       "      <th>bedrooms</th>\n",
       "      <th>beds</th>\n",
       "      <th>price</th>\n",
       "      <th>...</th>\n",
       "      <th>amenities_count</th>\n",
       "      <th>facilities_Free parking on premises</th>\n",
       "      <th>facilities_Gym</th>\n",
       "      <th>facilities_Hot tub</th>\n",
       "      <th>facilities_Pool</th>\n",
       "      <th>facilities_count</th>\n",
       "      <th>house_rules_Suitable for events</th>\n",
       "      <th>house_rules_Pets allowed</th>\n",
       "      <th>house_rules_Smoking allowed</th>\n",
       "      <th>house_rules_count</th>\n",
       "    </tr>\n",
       "  </thead>\n",
       "  <tbody>\n",
       "    <tr>\n",
       "      <td>0</td>\n",
       "      <td>0</td>\n",
       "      <td>-0.790334</td>\n",
       "      <td>0.371405</td>\n",
       "      <td>-0.444532</td>\n",
       "      <td>1.329375</td>\n",
       "      <td>-0.597957</td>\n",
       "      <td>0.652325</td>\n",
       "      <td>-0.353343</td>\n",
       "      <td>-0.650700</td>\n",
       "      <td>-0.294683</td>\n",
       "      <td>...</td>\n",
       "      <td>-2.228663</td>\n",
       "      <td>1</td>\n",
       "      <td>1</td>\n",
       "      <td>0</td>\n",
       "      <td>1</td>\n",
       "      <td>1.638226</td>\n",
       "      <td>0</td>\n",
       "      <td>0</td>\n",
       "      <td>0</td>\n",
       "      <td>-0.410572</td>\n",
       "    </tr>\n",
       "    <tr>\n",
       "      <td>1</td>\n",
       "      <td>0</td>\n",
       "      <td>-0.122362</td>\n",
       "      <td>0.210520</td>\n",
       "      <td>-0.444532</td>\n",
       "      <td>-0.686927</td>\n",
       "      <td>-0.597957</td>\n",
       "      <td>-0.436242</td>\n",
       "      <td>-0.353343</td>\n",
       "      <td>-0.650700</td>\n",
       "      <td>0.306499</td>\n",
       "      <td>...</td>\n",
       "      <td>1.013858</td>\n",
       "      <td>0</td>\n",
       "      <td>0</td>\n",
       "      <td>0</td>\n",
       "      <td>0</td>\n",
       "      <td>-0.901841</td>\n",
       "      <td>0</td>\n",
       "      <td>0</td>\n",
       "      <td>0</td>\n",
       "      <td>-0.410572</td>\n",
       "    </tr>\n",
       "    <tr>\n",
       "      <td>2</td>\n",
       "      <td>0</td>\n",
       "      <td>-0.139712</td>\n",
       "      <td>0.227703</td>\n",
       "      <td>-0.444532</td>\n",
       "      <td>1.329375</td>\n",
       "      <td>-0.597957</td>\n",
       "      <td>-0.436242</td>\n",
       "      <td>-0.353343</td>\n",
       "      <td>-0.650700</td>\n",
       "      <td>-0.221369</td>\n",
       "      <td>...</td>\n",
       "      <td>-0.066982</td>\n",
       "      <td>0</td>\n",
       "      <td>0</td>\n",
       "      <td>0</td>\n",
       "      <td>0</td>\n",
       "      <td>-0.901841</td>\n",
       "      <td>0</td>\n",
       "      <td>0</td>\n",
       "      <td>0</td>\n",
       "      <td>-0.410572</td>\n",
       "    </tr>\n",
       "    <tr>\n",
       "      <td>3</td>\n",
       "      <td>0</td>\n",
       "      <td>-0.713994</td>\n",
       "      <td>-0.104175</td>\n",
       "      <td>1.182045</td>\n",
       "      <td>-0.686927</td>\n",
       "      <td>-0.597957</td>\n",
       "      <td>-0.436242</td>\n",
       "      <td>-0.353343</td>\n",
       "      <td>-0.650700</td>\n",
       "      <td>0.365151</td>\n",
       "      <td>...</td>\n",
       "      <td>0.293298</td>\n",
       "      <td>0</td>\n",
       "      <td>1</td>\n",
       "      <td>1</td>\n",
       "      <td>1</td>\n",
       "      <td>1.638226</td>\n",
       "      <td>0</td>\n",
       "      <td>0</td>\n",
       "      <td>0</td>\n",
       "      <td>-0.410572</td>\n",
       "    </tr>\n",
       "    <tr>\n",
       "      <td>4</td>\n",
       "      <td>0</td>\n",
       "      <td>-0.972291</td>\n",
       "      <td>0.710358</td>\n",
       "      <td>-0.986725</td>\n",
       "      <td>-0.686927</td>\n",
       "      <td>1.104526</td>\n",
       "      <td>-0.436242</td>\n",
       "      <td>0.953672</td>\n",
       "      <td>1.430323</td>\n",
       "      <td>2.637913</td>\n",
       "      <td>...</td>\n",
       "      <td>-0.427262</td>\n",
       "      <td>0</td>\n",
       "      <td>0</td>\n",
       "      <td>0</td>\n",
       "      <td>0</td>\n",
       "      <td>-0.901841</td>\n",
       "      <td>0</td>\n",
       "      <td>1</td>\n",
       "      <td>0</td>\n",
       "      <td>1.813424</td>\n",
       "    </tr>\n",
       "    <tr>\n",
       "      <td>...</td>\n",
       "      <td>...</td>\n",
       "      <td>...</td>\n",
       "      <td>...</td>\n",
       "      <td>...</td>\n",
       "      <td>...</td>\n",
       "      <td>...</td>\n",
       "      <td>...</td>\n",
       "      <td>...</td>\n",
       "      <td>...</td>\n",
       "      <td>...</td>\n",
       "      <td>...</td>\n",
       "      <td>...</td>\n",
       "      <td>...</td>\n",
       "      <td>...</td>\n",
       "      <td>...</td>\n",
       "      <td>...</td>\n",
       "      <td>...</td>\n",
       "      <td>...</td>\n",
       "      <td>...</td>\n",
       "      <td>...</td>\n",
       "      <td>...</td>\n",
       "    </tr>\n",
       "    <tr>\n",
       "      <td>20956</td>\n",
       "      <td>0</td>\n",
       "      <td>-0.890351</td>\n",
       "      <td>-1.215479</td>\n",
       "      <td>1.182045</td>\n",
       "      <td>-0.686927</td>\n",
       "      <td>-0.030463</td>\n",
       "      <td>0.652325</td>\n",
       "      <td>-0.353343</td>\n",
       "      <td>0.389812</td>\n",
       "      <td>0.438466</td>\n",
       "      <td>...</td>\n",
       "      <td>-0.066982</td>\n",
       "      <td>1</td>\n",
       "      <td>1</td>\n",
       "      <td>0</td>\n",
       "      <td>1</td>\n",
       "      <td>1.638226</td>\n",
       "      <td>0</td>\n",
       "      <td>1</td>\n",
       "      <td>0</td>\n",
       "      <td>1.813424</td>\n",
       "    </tr>\n",
       "    <tr>\n",
       "      <td>20957</td>\n",
       "      <td>0</td>\n",
       "      <td>0.731824</td>\n",
       "      <td>-0.784213</td>\n",
       "      <td>-1.528917</td>\n",
       "      <td>-0.686927</td>\n",
       "      <td>0.537032</td>\n",
       "      <td>-0.436242</td>\n",
       "      <td>0.953672</td>\n",
       "      <td>0.389812</td>\n",
       "      <td>-0.367998</td>\n",
       "      <td>...</td>\n",
       "      <td>-0.066982</td>\n",
       "      <td>0</td>\n",
       "      <td>0</td>\n",
       "      <td>0</td>\n",
       "      <td>0</td>\n",
       "      <td>-0.901841</td>\n",
       "      <td>0</td>\n",
       "      <td>0</td>\n",
       "      <td>0</td>\n",
       "      <td>-0.410572</td>\n",
       "    </tr>\n",
       "    <tr>\n",
       "      <td>20958</td>\n",
       "      <td>0</td>\n",
       "      <td>-0.163516</td>\n",
       "      <td>0.085236</td>\n",
       "      <td>1.182045</td>\n",
       "      <td>-0.686927</td>\n",
       "      <td>-0.597957</td>\n",
       "      <td>-0.436242</td>\n",
       "      <td>-0.353343</td>\n",
       "      <td>-0.650700</td>\n",
       "      <td>1.538190</td>\n",
       "      <td>...</td>\n",
       "      <td>-1.147823</td>\n",
       "      <td>0</td>\n",
       "      <td>0</td>\n",
       "      <td>0</td>\n",
       "      <td>0</td>\n",
       "      <td>-0.901841</td>\n",
       "      <td>0</td>\n",
       "      <td>0</td>\n",
       "      <td>0</td>\n",
       "      <td>-0.410572</td>\n",
       "    </tr>\n",
       "    <tr>\n",
       "      <td>20959</td>\n",
       "      <td>0</td>\n",
       "      <td>0.963121</td>\n",
       "      <td>-1.000366</td>\n",
       "      <td>1.182045</td>\n",
       "      <td>-0.686927</td>\n",
       "      <td>0.537032</td>\n",
       "      <td>-0.436242</td>\n",
       "      <td>-0.353343</td>\n",
       "      <td>0.389812</td>\n",
       "      <td>-0.030750</td>\n",
       "      <td>...</td>\n",
       "      <td>-0.427262</td>\n",
       "      <td>1</td>\n",
       "      <td>0</td>\n",
       "      <td>0</td>\n",
       "      <td>0</td>\n",
       "      <td>-0.055152</td>\n",
       "      <td>0</td>\n",
       "      <td>1</td>\n",
       "      <td>0</td>\n",
       "      <td>1.813424</td>\n",
       "    </tr>\n",
       "    <tr>\n",
       "      <td>20960</td>\n",
       "      <td>0</td>\n",
       "      <td>0.270356</td>\n",
       "      <td>1.737522</td>\n",
       "      <td>-0.444532</td>\n",
       "      <td>-0.686927</td>\n",
       "      <td>0.537032</td>\n",
       "      <td>-0.436242</td>\n",
       "      <td>0.953672</td>\n",
       "      <td>0.389812</td>\n",
       "      <td>0.291836</td>\n",
       "      <td>...</td>\n",
       "      <td>1.013858</td>\n",
       "      <td>0</td>\n",
       "      <td>0</td>\n",
       "      <td>0</td>\n",
       "      <td>0</td>\n",
       "      <td>-0.901841</td>\n",
       "      <td>0</td>\n",
       "      <td>0</td>\n",
       "      <td>0</td>\n",
       "      <td>-0.410572</td>\n",
       "    </tr>\n",
       "  </tbody>\n",
       "</table>\n",
       "<p>20961 rows × 42 columns</p>\n",
       "</div>"
      ],
      "text/plain": [
       "       host_is_superhost  latitude  longitude  property_type  room_type  \\\n",
       "0                      0 -0.790334   0.371405      -0.444532   1.329375   \n",
       "1                      0 -0.122362   0.210520      -0.444532  -0.686927   \n",
       "2                      0 -0.139712   0.227703      -0.444532   1.329375   \n",
       "3                      0 -0.713994  -0.104175       1.182045  -0.686927   \n",
       "4                      0 -0.972291   0.710358      -0.986725  -0.686927   \n",
       "...                  ...       ...        ...            ...        ...   \n",
       "20956                  0 -0.890351  -1.215479       1.182045  -0.686927   \n",
       "20957                  0  0.731824  -0.784213      -1.528917  -0.686927   \n",
       "20958                  0 -0.163516   0.085236       1.182045  -0.686927   \n",
       "20959                  0  0.963121  -1.000366       1.182045  -0.686927   \n",
       "20960                  0  0.270356   1.737522      -0.444532  -0.686927   \n",
       "\n",
       "       accommodates  bathrooms  bedrooms      beds     price  ...  \\\n",
       "0         -0.597957   0.652325 -0.353343 -0.650700 -0.294683  ...   \n",
       "1         -0.597957  -0.436242 -0.353343 -0.650700  0.306499  ...   \n",
       "2         -0.597957  -0.436242 -0.353343 -0.650700 -0.221369  ...   \n",
       "3         -0.597957  -0.436242 -0.353343 -0.650700  0.365151  ...   \n",
       "4          1.104526  -0.436242  0.953672  1.430323  2.637913  ...   \n",
       "...             ...        ...       ...       ...       ...  ...   \n",
       "20956     -0.030463   0.652325 -0.353343  0.389812  0.438466  ...   \n",
       "20957      0.537032  -0.436242  0.953672  0.389812 -0.367998  ...   \n",
       "20958     -0.597957  -0.436242 -0.353343 -0.650700  1.538190  ...   \n",
       "20959      0.537032  -0.436242 -0.353343  0.389812 -0.030750  ...   \n",
       "20960      0.537032  -0.436242  0.953672  0.389812  0.291836  ...   \n",
       "\n",
       "       amenities_count  facilities_Free parking on premises  facilities_Gym  \\\n",
       "0            -2.228663                                    1               1   \n",
       "1             1.013858                                    0               0   \n",
       "2            -0.066982                                    0               0   \n",
       "3             0.293298                                    0               1   \n",
       "4            -0.427262                                    0               0   \n",
       "...                ...                                  ...             ...   \n",
       "20956        -0.066982                                    1               1   \n",
       "20957        -0.066982                                    0               0   \n",
       "20958        -1.147823                                    0               0   \n",
       "20959        -0.427262                                    1               0   \n",
       "20960         1.013858                                    0               0   \n",
       "\n",
       "       facilities_Hot tub  facilities_Pool  facilities_count  \\\n",
       "0                       0                1          1.638226   \n",
       "1                       0                0         -0.901841   \n",
       "2                       0                0         -0.901841   \n",
       "3                       1                1          1.638226   \n",
       "4                       0                0         -0.901841   \n",
       "...                   ...              ...               ...   \n",
       "20956                   0                1          1.638226   \n",
       "20957                   0                0         -0.901841   \n",
       "20958                   0                0         -0.901841   \n",
       "20959                   0                0         -0.055152   \n",
       "20960                   0                0         -0.901841   \n",
       "\n",
       "       house_rules_Suitable for events  house_rules_Pets allowed  \\\n",
       "0                                    0                         0   \n",
       "1                                    0                         0   \n",
       "2                                    0                         0   \n",
       "3                                    0                         0   \n",
       "4                                    0                         1   \n",
       "...                                ...                       ...   \n",
       "20956                                0                         1   \n",
       "20957                                0                         0   \n",
       "20958                                0                         0   \n",
       "20959                                0                         1   \n",
       "20960                                0                         0   \n",
       "\n",
       "       house_rules_Smoking allowed  house_rules_count  \n",
       "0                                0          -0.410572  \n",
       "1                                0          -0.410572  \n",
       "2                                0          -0.410572  \n",
       "3                                0          -0.410572  \n",
       "4                                0           1.813424  \n",
       "...                            ...                ...  \n",
       "20956                            0           1.813424  \n",
       "20957                            0          -0.410572  \n",
       "20958                            0          -0.410572  \n",
       "20959                            0           1.813424  \n",
       "20960                            0          -0.410572  \n",
       "\n",
       "[20961 rows x 42 columns]"
      ]
     },
     "execution_count": 6,
     "metadata": {},
     "output_type": "execute_result"
    }
   ],
   "source": [
    "test_df"
   ]
  },
  {
   "cell_type": "code",
   "execution_count": 7,
   "metadata": {},
   "outputs": [
    {
     "name": "stdout",
     "output_type": "stream",
     "text": [
      "15.999999999999998\n",
      "1.0000000000000004\n"
     ]
    }
   ],
   "source": [
    "print(max( (test_df[\"accommodates\"]*mean_std[\"std\"][\"accommodates\"]) + mean_std[\"mean\"][\"accommodates\"]))\n",
    "print(min( test_df[\"accommodates\"]*mean_std[\"std\"][\"accommodates\"] + mean_std[\"mean\"][\"accommodates\"]))"
   ]
  },
  {
   "cell_type": "code",
   "execution_count": 310,
   "metadata": {},
   "outputs": [],
   "source": [
    "accommodates = ((test_df[\"accommodates\"]*mean_std[\"std\"][\"accommodates\"]) + mean_std[\"mean\"][\"accommodates\"]).tolist()\n",
    "price = ((test_df[\"price\"]*mean_std[\"std\"][\"price\"]) + mean_std[\"mean\"][\"price\"]).tolist()"
   ]
  },
  {
   "cell_type": "code",
   "execution_count": 313,
   "metadata": {},
   "outputs": [],
   "source": [
    "accommodates = [float(round(i)) for i in accommodates]\n",
    "#accommodates"
   ]
  },
  {
   "cell_type": "code",
   "execution_count": 322,
   "metadata": {},
   "outputs": [
    {
     "name": "stdout",
     "output_type": "stream",
     "text": [
      "None\n",
      "[1.0, 2.0, 3.0, 4.0, 5.0, 6.0, 7.0, 8.0, 9.0, 10.0, 11.0, 12.0, 13.0, 14.0, 15.0, 16.0]\n"
     ]
    }
   ],
   "source": [
    "myset = set(accommodates)\n",
    "mynewlist = list(myset)\n",
    "print(mynewlist.sort())\n",
    "print(mynewlist)\n",
    "accommodates_to_plot = mynewlist"
   ]
  },
  {
   "cell_type": "code",
   "execution_count": 321,
   "metadata": {},
   "outputs": [
    {
     "name": "stdout",
     "output_type": "stream",
     "text": [
      "20961\n"
     ]
    }
   ],
   "source": [
    "d = {'price': price, 'accomodates': accommodates}\n",
    "new_test_df = pd.DataFrame(data=d)\n",
    "print(len(new_test_df))"
   ]
  },
  {
   "cell_type": "code",
   "execution_count": 331,
   "metadata": {},
   "outputs": [
    {
     "name": "stdout",
     "output_type": "stream",
     "text": [
      "[2232, 9002, 2529, 4055, 1044, 1313, 225, 347, 52, 86, 16, 26, 4, 8, 3, 19]\n",
      "[145595.0, 872469.0, 322156.0, 590575.0, 181638.0, 238398.0, 44704.0, 74721.0, 11107.0, 19584.0, 3900.0, 6304.0, 616.0, 2343.0, 371.0, 3624.0]\n",
      "after [65.23073476702508, 96.91946234170184, 127.38473705021748, 145.64118372379778, 173.98275862068965, 181.56740289413557, 198.68444444444444, 215.3342939481268, 213.59615384615384, 227.72093023255815, 243.75, 242.46153846153845, 154.0, 292.875, 123.66666666666667, 190.73684210526315]\n"
     ]
    }
   ],
   "source": [
    "num_of_samples = [0 for i in range(0, len(accommodates_to_plot))]\n",
    "price_to_plot = [0 for i in range(0, len(accommodates_to_plot))]\n",
    "for i in range(0, len(new_test_df)):\n",
    "    for k in range(0, len(accommodates_to_plot)):\n",
    "        if (new_test_df['accomodates'][i] == accommodates_to_plot[k]):\n",
    "            num_of_samples[k] += 1\n",
    "            price_to_plot[k] += new_test_df['price'][i]\n",
    "\n",
    "print(num_of_samples)\n",
    "print(price_to_plot)\n",
    "for l in range(0, len(accommodates_to_plot)):\n",
    "    price_to_plot[l] = float(price_to_plot[l])/float(num_of_samples[l])\n",
    "    \n",
    "print('after', price_to_plot)"
   ]
  },
  {
   "cell_type": "code",
   "execution_count": 352,
   "metadata": {
    "scrolled": true
   },
   "outputs": [
    {
     "data": {
      "image/png": "[encoded data removed]",
      "text/plain": [
       "<Figure size 432x288 with 1 Axes>"
      ]
     },
     "metadata": {
      "needs_background": "light"
     },
     "output_type": "display_data"
    }
   ],
   "source": [
    "plt.scatter(accommodates_to_plot, price_to_plot)\n",
    "plt.xlabel(\"Number of People Accommodated\")\n",
    "plt.ylabel(\"Average Price ($)\")\n",
    "plt.title(\"Price vs Number of People Accommodated\")\n",
    "    \n",
    "z = np.polyfit(accommodates_to_plot, price_to_plot, 1)\n",
    "p = np.poly1d(z)\n",
    "plt.plot(accommodates_to_plot, p(accommodates_to_plot),\"r--\")\n",
    "    \n",
    "plt.savefig(\"../live_demo/Price_vs_Number_of_People_Accommodated.png\", dpi=300)"
   ]
  },
  {
   "cell_type": "code",
   "execution_count": 343,
   "metadata": {},
   "outputs": [],
   "source": [
    "amenities_count = ((test_df[\"amenities_count\"]*mean_std[\"std\"][\"amenities_count\"]) + mean_std[\"mean\"][\"amenities_count\"]).tolist()\n",
    "price = ((test_df[\"price\"]*mean_std[\"std\"][\"price\"]) + mean_std[\"mean\"][\"price\"]).tolist()"
   ]
  },
  {
   "cell_type": "code",
   "execution_count": 344,
   "metadata": {},
   "outputs": [],
   "source": [
    "amenities_count = [float(round(i)) for i in amenities_count]\n",
    "#accommodates"
   ]
  },
  {
   "cell_type": "code",
   "execution_count": 345,
   "metadata": {},
   "outputs": [
    {
     "name": "stdout",
     "output_type": "stream",
     "text": [
      "None\n",
      "[0.0, 1.0, 2.0, 3.0, 4.0, 5.0, 6.0, 7.0, 8.0, 9.0, 10.0, 11.0, 12.0, 13.0, 14.0, 15.0, 16.0, 17.0, 18.0, 19.0]\n",
      "[2.0, 3.0, 4.0, 5.0, 6.0, 7.0, 8.0, 9.0, 10.0, 11.0, 12.0, 13.0, 14.0, 15.0, 16.0, 17.0]\n"
     ]
    }
   ],
   "source": [
    "myset = set(amenities_count)\n",
    "mynewlist = list(myset)\n",
    "print(mynewlist.sort())\n",
    "print(mynewlist)\n",
    "amenities_to_plot = mynewlist[2:18]\n",
    "print(amenities_to_plot)"
   ]
  },
  {
   "cell_type": "code",
   "execution_count": 347,
   "metadata": {},
   "outputs": [
    {
     "name": "stdout",
     "output_type": "stream",
     "text": [
      "20961\n"
     ]
    }
   ],
   "source": [
    "d = {'price': price, 'amenities_count': amenities_count}\n",
    "new_test_df = pd.DataFrame(data=d)\n",
    "print(len(new_test_df))"
   ]
  },
  {
   "cell_type": "code",
   "execution_count": 349,
   "metadata": {},
   "outputs": [
    {
     "name": "stdout",
     "output_type": "stream",
     "text": [
      "[18, 46, 101, 171, 336, 611, 860, 1153, 1588, 2090, 2549, 3238, 3774, 3293, 806, 185]\n",
      "[2.0, 3.0, 4.0, 5.0, 6.0, 7.0, 8.0, 9.0, 10.0, 11.0, 12.0, 13.0, 14.0, 15.0, 16.0, 17.0]\n",
      "after [85.94444444444444, 83.21739130434783, 93.00990099009901, 85.14035087719299, 78.19642857142857, 94.28150572831424, 94.56976744186046, 96.50303555941024, 102.16687657430731, 98.78038277511962, 108.81639858768145, 121.74397776405188, 133.29146793852675, 148.2259337989675, 161.34615384615384, 163.4]\n"
     ]
    }
   ],
   "source": [
    "num_of_samples = [0 for i in range(0, len(amenities_to_plot))]\n",
    "price_to_plot = [0 for i in range(0, len(amenities_to_plot))]\n",
    "for i in range(0, len(new_test_df)):\n",
    "    for k in range(0, len(amenities_to_plot)):\n",
    "        if (new_test_df['amenities_count'][i] == amenities_to_plot[k]):\n",
    "            num_of_samples[k] += 1\n",
    "            price_to_plot[k] += new_test_df['price'][i]\n",
    "\n",
    "print(num_of_samples)\n",
    "print(amenities_to_plot)\n",
    "for l in range(0, len(amenities_to_plot)):\n",
    "    price_to_plot[l] = float(price_to_plot[l])/float(num_of_samples[l])\n",
    "    \n",
    "print('after', price_to_plot)"
   ]
  },
  {
   "cell_type": "code",
   "execution_count": 353,
   "metadata": {
    "scrolled": true
   },
   "outputs": [
    {
     "data": {
      "image/png": "[encoded data removed]",
      "text/plain": [
       "<Figure size 432x288 with 1 Axes>"
      ]
     },
     "metadata": {
      "needs_background": "light"
     },
     "output_type": "display_data"
    }
   ],
   "source": [
    "plt.scatter(amenities_to_plot, price_to_plot)\n",
    "plt.xlabel(\"Number of Amenities\")\n",
    "plt.ylabel(\"Average Price ($)\")\n",
    "plt.title(\"Price vs Number of Amenities\")\n",
    "    \n",
    "z = np.polyfit(amenities_to_plot, price_to_plot, 1)\n",
    "p = np.poly1d(z)\n",
    "plt.plot(amenities_to_plot, p(amenities_to_plot),\"r--\")\n",
    "    \n",
    "plt.savefig(\"../live_demo/Price_vs_Number_of_Amenities.png\", dpi=300)"
   ]
  },
  {
   "cell_type": "code",
   "execution_count": 41,
   "metadata": {},
   "outputs": [
    {
     "data": {
      "text/html": [
       "<div>\n",
       "<style scoped>\n",
       "    .dataframe tbody tr th:only-of-type {\n",
       "        vertical-align: middle;\n",
       "    }\n",
       "\n",
       "    .dataframe tbody tr th {\n",
       "        vertical-align: top;\n",
       "    }\n",
       "\n",
       "    .dataframe thead th {\n",
       "        text-align: right;\n",
       "    }\n",
       "</style>\n",
       "<table border=\"1\" class=\"dataframe\">\n",
       "  <thead>\n",
       "    <tr style=\"text-align: right;\">\n",
       "      <th></th>\n",
       "      <th>mean</th>\n",
       "      <th>std</th>\n",
       "    </tr>\n",
       "  </thead>\n",
       "  <tbody>\n",
       "    <tr>\n",
       "      <td>price</td>\n",
       "      <td>120.097102</td>\n",
       "      <td>68.198942</td>\n",
       "    </tr>\n",
       "    <tr>\n",
       "      <td>latitude</td>\n",
       "      <td>43.677492</td>\n",
       "      <td>0.046110</td>\n",
       "    </tr>\n",
       "    <tr>\n",
       "      <td>longitude</td>\n",
       "      <td>-79.398326</td>\n",
       "      <td>0.059359</td>\n",
       "    </tr>\n",
       "    <tr>\n",
       "      <td>property_type</td>\n",
       "      <td>2.819879</td>\n",
       "      <td>1.844364</td>\n",
       "    </tr>\n",
       "    <tr>\n",
       "      <td>room_type</td>\n",
       "      <td>0.340686</td>\n",
       "      <td>0.495957</td>\n",
       "    </tr>\n",
       "    <tr>\n",
       "      <td>accommodates</td>\n",
       "      <td>3.053679</td>\n",
       "      <td>1.762132</td>\n",
       "    </tr>\n",
       "    <tr>\n",
       "      <td>bathrooms</td>\n",
       "      <td>1.200374</td>\n",
       "      <td>0.459320</td>\n",
       "    </tr>\n",
       "    <tr>\n",
       "      <td>bedrooms</td>\n",
       "      <td>1.270343</td>\n",
       "      <td>0.765102</td>\n",
       "    </tr>\n",
       "    <tr>\n",
       "      <td>beds</td>\n",
       "      <td>1.625366</td>\n",
       "      <td>0.961066</td>\n",
       "    </tr>\n",
       "    <tr>\n",
       "      <td>cancellation_policy</td>\n",
       "      <td>7.400940</td>\n",
       "      <td>5.685699</td>\n",
       "    </tr>\n",
       "    <tr>\n",
       "      <td>amenities_count</td>\n",
       "      <td>12.185917</td>\n",
       "      <td>2.775618</td>\n",
       "    </tr>\n",
       "    <tr>\n",
       "      <td>facilities_count</td>\n",
       "      <td>1.065138</td>\n",
       "      <td>1.181071</td>\n",
       "    </tr>\n",
       "    <tr>\n",
       "      <td>house_rules_count</td>\n",
       "      <td>0.184610</td>\n",
       "      <td>0.449641</td>\n",
       "    </tr>\n",
       "  </tbody>\n",
       "</table>\n",
       "</div>"
      ],
      "text/plain": [
       "                           mean        std\n",
       "price                120.097102  68.198942\n",
       "latitude              43.677492   0.046110\n",
       "longitude            -79.398326   0.059359\n",
       "property_type          2.819879   1.844364\n",
       "room_type              0.340686   0.495957\n",
       "accommodates           3.053679   1.762132\n",
       "bathrooms              1.200374   0.459320\n",
       "bedrooms               1.270343   0.765102\n",
       "beds                   1.625366   0.961066\n",
       "cancellation_policy    7.400940   5.685699\n",
       "amenities_count       12.185917   2.775618\n",
       "facilities_count       1.065138   1.181071\n",
       "house_rules_count      0.184610   0.449641"
      ]
     },
     "execution_count": 41,
     "metadata": {},
     "output_type": "execute_result"
    }
   ],
   "source": [
    "mean_std"
   ]
  },
  {
   "cell_type": "code",
   "execution_count": 147,
   "metadata": {},
   "outputs": [],
   "source": [
    "def get_error(net, train_loader, threshold):\n",
    "    train_samples = 0\n",
    "    train_error = 0\n",
    "    train_accuracy = [0 for i in threshold]\n",
    "    for i, data in enumerate(train_loader):\n",
    "        sample = data[\"sample\"].float()\n",
    "        label = data[\"label\"].float().view(-1)\n",
    "        output = net(sample).view(-1)\n",
    "        error = abs(label-output)*mean_std[\"std\"][\"price\"]\n",
    "        for j in range(len(threshold)):\n",
    "            accurate = error < float(threshold[j])\n",
    "            train_accuracy[j] += accurate.sum().item()\n",
    "        train_samples += len(label)\n",
    "        train_error += error.sum().item()\n",
    "    avg_train_error = float(train_error)/float(train_samples)\n",
    "    avg_train_accuracy = [float(a)/float(train_samples) for a in train_accuracy]\n",
    "    \n",
    "    return avg_train_error, avg_train_accuracy"
   ]
  },
  {
   "cell_type": "markdown",
   "metadata": {},
   "source": [
    "# Property Type"
   ]
  },
  {
   "cell_type": "code",
   "execution_count": null,
   "metadata": {},
   "outputs": [],
   "source": [
    "'''\n",
    "    \"House\" : 1,\n",
    "    \"Apartment\" : 2,\n",
    "    \"Condominium\" : 5,\n",
    "    \"Townhouse\" : 3,\n",
    "    \"Bungalow\" : 0,\n",
    "    \"Loft\" : 4,\n",
    "    \"Serviced apartment\" : 6,\n",
    "    \"Guest suite\" : 7\n",
    "'''"
   ]
  },
  {
   "cell_type": "code",
   "execution_count": 33,
   "metadata": {},
   "outputs": [
    {
     "name": "stdout",
     "output_type": "stream",
     "text": [
      "None\n",
      "[-4.440892098500626e-16, 1.0, 2.0, 3.0, 4.0, 5.0, 6.0, 7.0]\n"
     ]
    },
    {
     "data": {
      "image/png": "[encoded data removed]",
      "text/plain": [
       "<Figure size 1200x480 with 1 Axes>"
      ]
     },
     "metadata": {},
     "output_type": "display_data"
    },
    {
     "data": {
      "image/png": "[encoded data removed]",
      "text/plain": [
       "<Figure size 432x288 with 1 Axes>"
      ]
     },
     "metadata": {},
     "output_type": "display_data"
    }
   ],
   "source": [
    "def get_errorNew(net, train_loader, threshold):\n",
    "    train_samples = 0\n",
    "    train_error = 0\n",
    "    train_accuracy = [0 for i in threshold]\n",
    "    blah = []\n",
    "    \n",
    "    error_analysis = [0 for i in range(0, 8)]\n",
    "    num_samples = [0 for i in range(0, 8)]\n",
    "    x_plot = [-4.440892098500626e-16, 1.0, 2.0, 3.0, 4.0, 5.0, 6.0, 7.0]\n",
    "    \n",
    "    error_to_plot = [0 for i in range(0, 8)]\n",
    "    \n",
    "    for i, data in enumerate(train_loader):\n",
    "        sample = data[\"sample\"].float()\n",
    "        label = data[\"label\"].float().view(-1)\n",
    "        property_type = data[\"property_type\"].float()\n",
    "        \n",
    "        output = net(sample).view(-1)\n",
    "        error = abs(label-output)*mean_std[\"std\"][\"price\"]\n",
    "        for j in range(len(threshold)):\n",
    "            accurate = error < float(threshold[j])\n",
    "            train_accuracy[j] += accurate.sum().item()\n",
    "            \n",
    "        blah.append(property_type.item())\n",
    "        \n",
    "        for k in range(len(num_samples)):\n",
    "            if (property_type.item() == x_plot[k]):\n",
    "                num_samples[k] += 1\n",
    "                error_analysis[k] += error.sum().item()\n",
    "        \n",
    "        train_samples += len(label)\n",
    "        train_error += error.sum().item()\n",
    "    \n",
    "    for l in range(len(num_samples)):\n",
    "        if(num_samples[l] != 0):\n",
    "            error_to_plot[l] = float(error_analysis[l])/float(num_samples[l])\n",
    "        else:\n",
    "            error_to_plot[l] = 0.0\n",
    "            \n",
    "    #'''\n",
    "    myset = set(blah)\n",
    "    mynewlist = list(myset)\n",
    "    print(mynewlist.sort())\n",
    "    print(mynewlist)\n",
    "    #'''\n",
    "    plt.figure(num=None, figsize=(15, 6), dpi=80, facecolor='w', edgecolor='k')\n",
    "    plt.bar(['Bungalow', 'House', 'Apartment', 'Townhouse', 'Loft', 'Condominium', 'Serviced apartment', 'Guest suite'], \n",
    "            error_to_plot)\n",
    "    plt.xlabel(\"Property Type\")\n",
    "    plt.ylabel(\"Average Price Error ($)\")\n",
    "    plt.title(\"Price Error vs Property Type\")\n",
    "    \n",
    "    \n",
    "    plt.savefig(\"../live_demo/Price_Error_vs_Property_Type.png\", dpi=300)\n",
    "    \n",
    "    avg_train_error = float(train_error)/float(train_samples)\n",
    "    avg_train_accuracy = [float(a)/float(train_samples) for a in train_accuracy]\n",
    "    \n",
    "    percent = [0 for i in range(0,8)]\n",
    "    \n",
    "    for i in range(0, len(percent)):\n",
    "        percent[i] = float(num_samples[i])/float(len(blah))\n",
    "    \n",
    "    labels = 'Bungalow', 'House', 'Apartment', 'Townhouse', 'Loft', 'Condominium', 'Serviced apartment', 'Guest suite'\n",
    "\n",
    "    fig1, ax1 = plt.subplots()\n",
    "    ax1.pie(percent, labels=labels, autopct='%1.1f%%', startangle=90, pctdistance=1.2, labeldistance=1.4\n",
    "           )\n",
    "    ax1.axis('equal')  # Equal aspect ratio ensures that pie is drawn as a circle.\n",
    "    \n",
    "    plt.savefig(\"../live_demo/Price_Error_vs_Property_Type_PIE.png\", dpi=300)\n",
    "\n",
    "    \n",
    "\n",
    "get_errorNew(model, test_loader, [10, 20, 30])"
   ]
  },
  {
   "cell_type": "markdown",
   "metadata": {},
   "source": [
    "# Price Error vs Accommodates"
   ]
  },
  {
   "cell_type": "code",
   "execution_count": 280,
   "metadata": {},
   "outputs": [],
   "source": [
    "def get_errorNew(net, train_loader, threshold):\n",
    "    train_samples = 0\n",
    "    train_error = 0\n",
    "    train_accuracy = [0 for i in threshold]\n",
    "    \n",
    "    error_analysis = [0 for i in range(0, 16)]\n",
    "    num_samples = [0 for i in range(0, 16)]\n",
    "    x_plot = [(i+1) for i in range(0, 16)]\n",
    "    \n",
    "    error_to_plot = [0 for i in range(0, 16)]\n",
    "    \n",
    "    for i, data in enumerate(train_loader):\n",
    "        sample = data[\"sample\"].float()\n",
    "        label = data[\"label\"].float().view(-1)\n",
    "        accommodates = data[\"accommodates\"].float()\n",
    "\n",
    "        output = net(sample).view(-1)\n",
    "        error = abs(label-output)*mean_std[\"std\"][\"price\"]\n",
    "        for j in range(len(threshold)):\n",
    "            accurate = error < float(threshold[j])\n",
    "            train_accuracy[j] += accurate.sum().item()\n",
    "            \n",
    "        for k in range(len(num_samples)):\n",
    "            if (accommodates.item() == (k+1)):\n",
    "                num_samples[k] += 1\n",
    "                error_analysis[k] += error.sum().item()\n",
    "        \n",
    "        train_samples += len(label)\n",
    "        train_error += error.sum().item()\n",
    "    \n",
    "    for l in range(len(num_samples)):\n",
    "        if(num_samples[l] != 0):\n",
    "            error_to_plot[l] = float(error_analysis[l])/float(num_samples[l])\n",
    "        else:\n",
    "            error_to_plot[l] = 0.0\n",
    "            \n",
    "    #print(error_to_plot)\n",
    "    plt.scatter(x_plot, error_to_plot)\n",
    "    plt.xlabel(\"Number of People Accommodated\")\n",
    "    plt.ylabel(\"Average Price Error ($)\")\n",
    "    plt.title(\"Price Error vs Number of People Accommodated\")\n",
    "    \n",
    "    z = np.polyfit(x_plot, error_to_plot, 1)\n",
    "    p = np.poly1d(z)\n",
    "    plt.plot(x_plot, p(x_plot),\"r--\")\n",
    "    \n",
    "    #plt.show()\n",
    "    \n",
    "    plt.savefig(\"../live_demo/Price_Error_vs_Accomodates.png\", dpi=300)\n",
    "    \n",
    "    avg_train_error = float(train_error)/float(train_samples)\n",
    "    avg_train_accuracy = [float(a)/float(train_samples) for a in train_accuracy]\n",
    "    \n",
    "    return avg_train_error, avg_train_accuracy"
   ]
  },
  {
   "cell_type": "code",
   "execution_count": 281,
   "metadata": {
    "scrolled": false
   },
   "outputs": [
    {
     "data": {
      "text/plain": [
       "(13.830391638213136,\n",
       " [0.6475359000047708, 0.815848480511426, 0.8819235723486475])"
      ]
     },
     "execution_count": 281,
     "metadata": {},
     "output_type": "execute_result"
    },
    {
     "data": {
      "image/png": "[encoded data removed]",
      "text/plain": [
       "<Figure size 432x288 with 1 Axes>"
      ]
     },
     "metadata": {
      "needs_background": "light"
     },
     "output_type": "display_data"
    }
   ],
   "source": [
    "get_errorNew(model, test_loader, [10, 20, 30])"
   ]
  },
  {
   "cell_type": "markdown",
   "metadata": {},
   "source": [
    "# Number of Bathrooms "
   ]
  },
  {
   "cell_type": "code",
   "execution_count": 275,
   "metadata": {},
   "outputs": [
    {
     "data": {
      "text/plain": [
       "(13.830391638213136,\n",
       " [0.6475359000047708, 0.815848480511426, 0.8819235723486475])"
      ]
     },
     "execution_count": 275,
     "metadata": {},
     "output_type": "execute_result"
    },
    {
     "data": {
      "image/png": "[encoded data removed]",
      "text/plain": [
       "<Figure size 432x288 with 1 Axes>"
      ]
     },
     "metadata": {
      "needs_background": "light"
     },
     "output_type": "display_data"
    }
   ],
   "source": [
    "def get_errorNew(net, train_loader, threshold):\n",
    "    train_samples = 0\n",
    "    train_error = 0\n",
    "    train_accuracy = [0 for i in threshold]\n",
    "    \n",
    "    error_analysis = [0 for i in range(0, 10)]\n",
    "    num_samples = [0 for i in range(0, 10)]\n",
    "    x_plot = [0.5, 1.0, 1.5, 2.0, 2.5, 3.0, 3.5, 4.0, 4.5, 5.0]\n",
    "    \n",
    "    error_to_plot = [0 for i in range(0, 10)]\n",
    "    \n",
    "    for i, data in enumerate(train_loader):\n",
    "        sample = data[\"sample\"].float()\n",
    "        label = data[\"label\"].float().view(-1)\n",
    "        accommodates = data[\"accommodates\"].float()\n",
    "        bathrooms = data[\"bathrooms\"].float()\n",
    "        output = net(sample).view(-1)\n",
    "        error = abs(label-output)*mean_std[\"std\"][\"price\"]\n",
    "        for j in range(len(threshold)):\n",
    "            accurate = error < float(threshold[j])\n",
    "            train_accuracy[j] += accurate.sum().item()\n",
    "        \n",
    "        for k in range(len(num_samples)):\n",
    "            if (bathrooms.item() == x_plot[k]):\n",
    "                num_samples[k] += 1\n",
    "                error_analysis[k] += error.sum().item()\n",
    "        \n",
    "        train_samples += len(label)\n",
    "        train_error += error.sum().item()\n",
    "    \n",
    "    for l in range(len(num_samples)):\n",
    "        if(num_samples[l] != 0):\n",
    "            error_to_plot[l] = float(error_analysis[l])/float(num_samples[l])\n",
    "        else:\n",
    "            error_to_plot[l] = 0.0\n",
    "    \n",
    "    plt.scatter(x_plot, error_to_plot)\n",
    "    plt.xlabel(\"Number of Bathrooms\")\n",
    "    plt.ylabel(\"Average Price Error ($)\")\n",
    "    plt.title(\"Price Error vs Number of Bathrooms\")\n",
    "    \n",
    "    z = np.polyfit(x_plot, error_to_plot, 1)\n",
    "    p = np.poly1d(z)\n",
    "    plt.plot(x_plot, p(x_plot),\"r--\")\n",
    "    \n",
    "    plt.savefig(\"../live_demo/Price_Error_vs_Number_of_Bathrooms.png\", dpi=300)\n",
    "    \n",
    "    avg_train_error = float(train_error)/float(train_samples)\n",
    "    avg_train_accuracy = [float(a)/float(train_samples) for a in train_accuracy]\n",
    "    \n",
    "    return avg_train_error, avg_train_accuracy\n",
    "\n",
    "get_errorNew(model, test_loader, [10, 20, 30])"
   ]
  },
  {
   "cell_type": "markdown",
   "metadata": {},
   "source": [
    "# Number of Bedrooms"
   ]
  },
  {
   "cell_type": "code",
   "execution_count": 276,
   "metadata": {},
   "outputs": [
    {
     "data": {
      "text/plain": [
       "(13.830391638213136,\n",
       " [0.6475359000047708, 0.815848480511426, 0.8819235723486475])"
      ]
     },
     "execution_count": 276,
     "metadata": {},
     "output_type": "execute_result"
    },
    {
     "data": {
      "image/png": "[encoded data removed]",
      "text/plain": [
       "<Figure size 432x288 with 1 Axes>"
      ]
     },
     "metadata": {
      "needs_background": "light"
     },
     "output_type": "display_data"
    }
   ],
   "source": [
    "def get_errorNew(net, train_loader, threshold):\n",
    "    train_samples = 0\n",
    "    train_error = 0\n",
    "    train_accuracy = [0 for i in threshold]\n",
    "    blah = []\n",
    "    \n",
    "    error_analysis = [0 for i in range(0, 9)]\n",
    "    num_samples = [0 for i in range(0, 9)]\n",
    "    x_plot = [0.0, 1.0, 2.0, 3.0, 4.0, 5.0, 6.0, 7.0, 10.0]\n",
    "    \n",
    "    error_to_plot = [0 for i in range(0, 9)]\n",
    "    \n",
    "    for i, data in enumerate(train_loader):\n",
    "        sample = data[\"sample\"].float()\n",
    "        label = data[\"label\"].float().view(-1)\n",
    "        bedrooms = data[\"bedrooms\"].float()\n",
    "        \n",
    "        output = net(sample).view(-1)\n",
    "        error = abs(label-output)*mean_std[\"std\"][\"price\"]\n",
    "        for j in range(len(threshold)):\n",
    "            accurate = error < float(threshold[j])\n",
    "            train_accuracy[j] += accurate.sum().item()\n",
    "        \n",
    "        for k in range(len(num_samples)):\n",
    "            if (bedrooms.item() == x_plot[k]):\n",
    "                num_samples[k] += 1\n",
    "                error_analysis[k] += error.sum().item()\n",
    "        \n",
    "        train_samples += len(label)\n",
    "        train_error += error.sum().item()\n",
    "    \n",
    "    for l in range(len(num_samples)):\n",
    "        if(num_samples[l] != 0):\n",
    "            error_to_plot[l] = float(error_analysis[l])/float(num_samples[l])\n",
    "        else:\n",
    "            error_to_plot[l] = 0.0\n",
    "    \n",
    "    plt.scatter(x_plot, error_to_plot)\n",
    "    plt.xlabel(\"Number of Bedrooms\")\n",
    "    plt.ylabel(\"Average Price Error ($)\")\n",
    "    plt.title(\"Price Error vs Number of Bedrooms\")\n",
    "    \n",
    "    z = np.polyfit(x_plot, error_to_plot, 1)\n",
    "    p = np.poly1d(z)\n",
    "    plt.plot(x_plot, p(x_plot),\"r--\")\n",
    "    \n",
    "    plt.savefig(\"../live_demo/Price_Error_vs_Number_of_Bedrooms.png\", dpi=300)\n",
    "    \n",
    "    avg_train_error = float(train_error)/float(train_samples)\n",
    "    avg_train_accuracy = [float(a)/float(train_samples) for a in train_accuracy]\n",
    "    \n",
    "    return avg_train_error, avg_train_accuracy\n",
    "\n",
    "get_errorNew(model, test_loader, [10, 20, 30])"
   ]
  },
  {
   "cell_type": "markdown",
   "metadata": {},
   "source": [
    "# Number of Beds"
   ]
  },
  {
   "cell_type": "code",
   "execution_count": 277,
   "metadata": {},
   "outputs": [
    {
     "name": "stdout",
     "output_type": "stream",
     "text": [
      "None\n",
      "[0.0, 1.0, 2.0, 3.0, 4.0, 5.0, 6.0, 7.0, 8.0, 9.0, 10.0, 12.0, 16.0]\n"
     ]
    },
    {
     "data": {
      "text/plain": [
       "(13.830391638213136,\n",
       " [0.6475359000047708, 0.815848480511426, 0.8819235723486475])"
      ]
     },
     "execution_count": 277,
     "metadata": {},
     "output_type": "execute_result"
    },
    {
     "data": {
      "image/png": "[encoded data removed]",
      "text/plain": [
       "<Figure size 432x288 with 1 Axes>"
      ]
     },
     "metadata": {
      "needs_background": "light"
     },
     "output_type": "display_data"
    }
   ],
   "source": [
    "def get_errorNew(net, train_loader, threshold):\n",
    "    train_samples = 0\n",
    "    train_error = 0\n",
    "    train_accuracy = [0 for i in threshold]\n",
    "    blah = []\n",
    "    \n",
    "    error_analysis = [0 for i in range(0, 13)]\n",
    "    num_samples = [0 for i in range(0, 13)]\n",
    "    x_plot = [0.0, 1.0, 2.0, 3.0, 4.0, 5.0, 6.0, 7.0, 8.0, 9.0, 10.0, 12.0, 16.0]\n",
    "    \n",
    "    error_to_plot = [0 for i in range(0, 13)]\n",
    "    \n",
    "    for i, data in enumerate(train_loader):\n",
    "        sample = data[\"sample\"].float()\n",
    "        label = data[\"label\"].float().view(-1)\n",
    "        beds = data[\"beds\"].float()\n",
    "        \n",
    "        output = net(sample).view(-1)\n",
    "        error = abs(label-output)*mean_std[\"std\"][\"price\"]\n",
    "        for j in range(len(threshold)):\n",
    "            accurate = error < float(threshold[j])\n",
    "            train_accuracy[j] += accurate.sum().item()\n",
    "            \n",
    "        blah.append(beds.item())\n",
    "        \n",
    "        for k in range(len(num_samples)):\n",
    "            if (beds.item() == x_plot[k]):\n",
    "                num_samples[k] += 1\n",
    "                error_analysis[k] += error.sum().item()\n",
    "        \n",
    "        train_samples += len(label)\n",
    "        train_error += error.sum().item()\n",
    "    \n",
    "    for l in range(len(num_samples)):\n",
    "        if(num_samples[l] != 0):\n",
    "            error_to_plot[l] = float(error_analysis[l])/float(num_samples[l])\n",
    "        else:\n",
    "            error_to_plot[l] = 0.0\n",
    "            \n",
    "    #'''\n",
    "    myset = set(blah)\n",
    "    mynewlist = list(myset)\n",
    "    print(mynewlist.sort())\n",
    "    print(mynewlist)\n",
    "    #'''\n",
    "    \n",
    "    plt.scatter(x_plot, error_to_plot)\n",
    "    plt.xlabel(\"Number of Beds\")\n",
    "    plt.ylabel(\"Average Price Error ($)\")\n",
    "    plt.title(\"Price Error vs Number of Beds\")\n",
    "    \n",
    "    z = np.polyfit(x_plot, error_to_plot, 1)\n",
    "    p = np.poly1d(z)\n",
    "    plt.plot(x_plot, p(x_plot),\"r--\")\n",
    "    \n",
    "    plt.savefig(\"../live_demo/Price_Error_vs_Number_of_Beds.png\", dpi=300)\n",
    "    \n",
    "    avg_train_error = float(train_error)/float(train_samples)\n",
    "    avg_train_accuracy = [float(a)/float(train_samples) for a in train_accuracy]\n",
    "    \n",
    "    return avg_train_error, avg_train_accuracy\n",
    "\n",
    "get_errorNew(model, test_loader, [10, 20, 30])"
   ]
  },
  {
   "cell_type": "markdown",
   "metadata": {},
   "source": [
    "# Number of Amenities"
   ]
  },
  {
   "cell_type": "code",
   "execution_count": 335,
   "metadata": {},
   "outputs": [
    {
     "name": "stdout",
     "output_type": "stream",
     "text": [
      "None\n",
      "[-3.552713678800501e-15, 1.0, 2.0, 3.0, 4.0, 5.0, 6.0, 7.0, 8.0, 9.0, 10.0, 11.0, 12.0, 13.0, 14.0, 15.0, 16.0, 17.0, 18.0, 19.0]\n"
     ]
    },
    {
     "data": {
      "text/plain": [
       "(13.830391638213136,\n",
       " [0.6475359000047708, 0.815848480511426, 0.8819235723486475])"
      ]
     },
     "execution_count": 335,
     "metadata": {},
     "output_type": "execute_result"
    },
    {
     "data": {
      "image/png": "[encoded data removed]",
      "text/plain": [
       "<Figure size 432x288 with 1 Axes>"
      ]
     },
     "metadata": {
      "needs_background": "light"
     },
     "output_type": "display_data"
    }
   ],
   "source": [
    "def get_errorNew(net, train_loader, threshold):\n",
    "    train_samples = 0\n",
    "    train_error = 0\n",
    "    train_accuracy = [0 for i in threshold]\n",
    "    blah = []\n",
    "    \n",
    "    error_analysis = [0 for i in range(0, 16)]\n",
    "    num_samples = [0 for i in range(0, 16)]\n",
    "    x_plot = [2.0, 3.0, 4.0, 5.0, 6.0, 7.0, 8.0, 9.0, 10.0, 11.0, 12.0, 13.0, 14.0, 15.0, 16.0, 17.0]\n",
    "    \n",
    "    error_to_plot = [0 for i in range(0, 16)]\n",
    "    \n",
    "    for i, data in enumerate(train_loader):\n",
    "        sample = data[\"sample\"].float()\n",
    "        label = data[\"label\"].float().view(-1)\n",
    "        amenities_count = data[\"amenities_count\"].float()\n",
    "        \n",
    "        output = net(sample).view(-1)\n",
    "        error = abs(label-output)*mean_std[\"std\"][\"price\"]\n",
    "        for j in range(len(threshold)):\n",
    "            accurate = error < float(threshold[j])\n",
    "            train_accuracy[j] += accurate.sum().item()\n",
    "            \n",
    "        blah.append(amenities_count.item())\n",
    "        \n",
    "        for k in range(len(num_samples)):\n",
    "            if (amenities_count.item() == x_plot[k]):\n",
    "                num_samples[k] += 1\n",
    "                error_analysis[k] += error.sum().item()\n",
    "        \n",
    "        train_samples += len(label)\n",
    "        train_error += error.sum().item()\n",
    "    \n",
    "    for l in range(len(num_samples)):\n",
    "        if(num_samples[l] != 0):\n",
    "            error_to_plot[l] = float(error_analysis[l])/float(num_samples[l])\n",
    "        else:\n",
    "            error_to_plot[l] = 0.0\n",
    "            \n",
    "    #'''\n",
    "    myset = set(blah)\n",
    "    mynewlist = list(myset)\n",
    "    print(mynewlist.sort())\n",
    "    print(mynewlist)\n",
    "    #'''\n",
    "    \n",
    "    plt.scatter(x_plot, error_to_plot)\n",
    "    plt.xlabel(\"Number of Amenities\")\n",
    "    plt.ylabel(\"Average Price Error ($)\")\n",
    "    plt.title(\"Price Error vs Number of Amenities\")\n",
    "    \n",
    "    z = np.polyfit(x_plot, error_to_plot, 1)\n",
    "    p = np.poly1d(z)\n",
    "    plt.plot(x_plot, p(x_plot),\"r--\")\n",
    "    \n",
    "    plt.savefig(\"../live_demo/Price_Error_vs_Number_of_Amenities.png\", dpi=300)\n",
    "    \n",
    "    avg_train_error = float(train_error)/float(train_samples)\n",
    "    avg_train_accuracy = [float(a)/float(train_samples) for a in train_accuracy]\n",
    "    \n",
    "    return avg_train_error, avg_train_accuracy\n",
    "\n",
    "get_errorNew(model, test_loader, [10, 20, 30])"
   ]
  },
  {
   "cell_type": "markdown",
   "metadata": {},
   "source": [
    "# Number of Facilities"
   ]
  },
  {
   "cell_type": "code",
   "execution_count": 286,
   "metadata": {},
   "outputs": [
    {
     "name": "stdout",
     "output_type": "stream",
     "text": [
      "None\n",
      "[-2.220446049250313e-16, 1.0, 2.0, 3.0, 4.0]\n"
     ]
    },
    {
     "data": {
      "text/plain": [
       "(13.830391638213136,\n",
       " [0.6475359000047708, 0.815848480511426, 0.8819235723486475])"
      ]
     },
     "execution_count": 286,
     "metadata": {},
     "output_type": "execute_result"
    },
    {
     "data": {
      "image/png": "[encoded data removed]",
      "text/plain": [
       "<Figure size 432x288 with 1 Axes>"
      ]
     },
     "metadata": {
      "needs_background": "light"
     },
     "output_type": "display_data"
    }
   ],
   "source": [
    "def get_errorNew(net, train_loader, threshold):\n",
    "    train_samples = 0\n",
    "    train_error = 0\n",
    "    train_accuracy = [0 for i in threshold]\n",
    "    blah = []\n",
    "    \n",
    "    error_analysis = [0 for i in range(0, 4)]\n",
    "    num_samples = [0 for i in range(0, 4)]\n",
    "    x_plot = [1.0, 2.0, 3.0, 4.0]\n",
    "    \n",
    "    error_to_plot = [0 for i in range(0, 4)]\n",
    "    \n",
    "    for i, data in enumerate(train_loader):\n",
    "        sample = data[\"sample\"].float()\n",
    "        label = data[\"label\"].float().view(-1)\n",
    "        facilities_count = data[\"facilities_count\"].float()\n",
    "        \n",
    "        output = net(sample).view(-1)\n",
    "        error = abs(label-output)*mean_std[\"std\"][\"price\"]\n",
    "        for j in range(len(threshold)):\n",
    "            accurate = error < float(threshold[j])\n",
    "            train_accuracy[j] += accurate.sum().item()\n",
    "            \n",
    "        blah.append(facilities_count.item())\n",
    "        \n",
    "        for k in range(len(num_samples)):\n",
    "            if (facilities_count.item() == x_plot[k]):\n",
    "                num_samples[k] += 1\n",
    "                error_analysis[k] += error.sum().item()\n",
    "        \n",
    "        train_samples += len(label)\n",
    "        train_error += error.sum().item()\n",
    "    \n",
    "    for l in range(len(num_samples)):\n",
    "        if(num_samples[l] != 0):\n",
    "            error_to_plot[l] = float(error_analysis[l])/float(num_samples[l])\n",
    "        else:\n",
    "            error_to_plot[l] = 0.0\n",
    "            \n",
    "    #'''\n",
    "    myset = set(blah)\n",
    "    mynewlist = list(myset)\n",
    "    print(mynewlist.sort())\n",
    "    print(mynewlist)\n",
    "    #'''\n",
    "    \n",
    "    plt.scatter(x_plot, error_to_plot)\n",
    "    plt.xlabel(\"Number of Facilities\")\n",
    "    plt.ylabel(\"Average Price Error ($)\")\n",
    "    plt.title(\"Price Error vs Number of Facilities\")\n",
    "    \n",
    "    z = np.polyfit(x_plot, error_to_plot, 1)\n",
    "    p = np.poly1d(z)\n",
    "    plt.plot(x_plot, p(x_plot),\"r--\")\n",
    "    \n",
    "    plt.savefig(\"../live_demo/Price_Error_vs_Number_of_Facilities.png\", dpi=300)\n",
    "    \n",
    "    avg_train_error = float(train_error)/float(train_samples)\n",
    "    avg_train_accuracy = [float(a)/float(train_samples) for a in train_accuracy]\n",
    "    \n",
    "    return avg_train_error, avg_train_accuracy\n",
    "\n",
    "get_errorNew(model, test_loader, [10, 20, 30])"
   ]
  },
  {
   "cell_type": "markdown",
   "metadata": {},
   "source": [
    "# Number of House Rules"
   ]
  },
  {
   "cell_type": "code",
   "execution_count": 285,
   "metadata": {},
   "outputs": [
    {
     "name": "stdout",
     "output_type": "stream",
     "text": [
      "None\n",
      "[0.0, 1.0, 2.0, 3.0]\n"
     ]
    },
    {
     "data": {
      "text/plain": [
       "(13.830391638213136,\n",
       " [0.6475359000047708, 0.815848480511426, 0.8819235723486475])"
      ]
     },
     "execution_count": 285,
     "metadata": {},
     "output_type": "execute_result"
    },
    {
     "data": {
      "image/png": "[encoded data removed]",
      "text/plain": [
       "<Figure size 432x288 with 1 Axes>"
      ]
     },
     "metadata": {
      "needs_background": "light"
     },
     "output_type": "display_data"
    }
   ],
   "source": [
    "def get_errorNew(net, train_loader, threshold):\n",
    "    train_samples = 0\n",
    "    train_error = 0\n",
    "    train_accuracy = [0 for i in threshold]\n",
    "    blah = []\n",
    "    \n",
    "    error_analysis = [0 for i in range(0, 4)]\n",
    "    num_samples = [0 for i in range(0, 4)]\n",
    "    x_plot = [0.0, 1.0, 2.0, 3.0]\n",
    "    \n",
    "    error_to_plot = [0 for i in range(0, 4)]\n",
    "    \n",
    "    for i, data in enumerate(train_loader):\n",
    "        sample = data[\"sample\"].float()\n",
    "        label = data[\"label\"].float().view(-1)\n",
    "        house_rules_count = data[\"house_rules_count\"].float()\n",
    "        \n",
    "        output = net(sample).view(-1)\n",
    "        error = abs(label-output)*mean_std[\"std\"][\"price\"]\n",
    "        for j in range(len(threshold)):\n",
    "            accurate = error < float(threshold[j])\n",
    "            train_accuracy[j] += accurate.sum().item()\n",
    "            \n",
    "        blah.append(house_rules_count.item())\n",
    "        \n",
    "        for k in range(len(num_samples)):\n",
    "            if (house_rules_count.item() == x_plot[k]):\n",
    "                num_samples[k] += 1\n",
    "                error_analysis[k] += error.sum().item()\n",
    "        \n",
    "        train_samples += len(label)\n",
    "        train_error += error.sum().item()\n",
    "    \n",
    "    for l in range(len(num_samples)):\n",
    "        if(num_samples[l] != 0):\n",
    "            error_to_plot[l] = float(error_analysis[l])/float(num_samples[l])\n",
    "        else:\n",
    "            error_to_plot[l] = 0.0\n",
    "            \n",
    "    #'''\n",
    "    myset = set(blah)\n",
    "    mynewlist = list(myset)\n",
    "    print(mynewlist.sort())\n",
    "    print(mynewlist)\n",
    "    #'''\n",
    "    \n",
    "    plt.scatter(x_plot, error_to_plot)\n",
    "    plt.xlabel(\"Number of House Rules\")\n",
    "    plt.ylabel(\"Average Price Error ($)\")\n",
    "    plt.title(\"Price Error vs Number of House Rules\")\n",
    "    \n",
    "    z = np.polyfit(x_plot, error_to_plot, 1)\n",
    "    p = np.poly1d(z)\n",
    "    plt.plot(x_plot, p(x_plot),\"r--\")\n",
    "    \n",
    "    plt.savefig(\"../live_demo/Price_Error_vs_Number_of_House_Rules.png\", dpi=300)\n",
    "    \n",
    "    avg_train_error = float(train_error)/float(train_samples)\n",
    "    avg_train_accuracy = [float(a)/float(train_samples) for a in train_accuracy]\n",
    "    \n",
    "    return avg_train_error, avg_train_accuracy\n",
    "\n",
    "get_errorNew(model, test_loader, [10, 20, 30])"
   ]
  },
  {
   "cell_type": "code",
   "execution_count": 8,
   "metadata": {},
   "outputs": [],
   "source": [
    "class airbnb_net (nn.Module):\n",
    "    def __init__(self):\n",
    "        super(airbnb_net, self).__init__()\n",
    "        self.layer1 = nn.Linear(41, 41*3)\n",
    "        self.layer2 = nn.Linear(41*3, 41*3)\n",
    "        self.layer3 = nn.Linear(41*3, 41*2)\n",
    "        self.layer4 = nn.Linear(41*2, 41*2)\n",
    "        self.layer5 = nn.Linear(41*2, 41*1)\n",
    "        self.layer6 = nn.Linear(41*1, 1)\n",
    "        \n",
    "        \n",
    "        #self.dropout2 = nn.Dropout(p=0.1)\n",
    "    \n",
    "    def forward(self, x):\n",
    "        x = torch.relu(self.layer1(x))\n",
    "        x = torch.relu(self.layer2(x))\n",
    "        #x = self.dropout2(x)\n",
    "        x = torch.relu(self.layer3(x))\n",
    "        #x = self.dropout2(x)\n",
    "        x = torch.relu(self.layer4(x))\n",
    "        #x = self.dropout2(x)\n",
    "        x = torch.relu(self.layer5(x))\n",
    "        return self.layer6(x)"
   ]
  },
  {
   "cell_type": "code",
   "execution_count": 9,
   "metadata": {},
   "outputs": [
    {
     "data": {
      "text/plain": [
       "<All keys matched successfully>"
      ]
     },
     "execution_count": 9,
     "metadata": {},
     "output_type": "execute_result"
    }
   ],
   "source": [
    "model = airbnb_net()\n",
    "model.load_state_dict(checkpoint['model_state_dict'])"
   ]
  },
  {
   "cell_type": "code",
   "execution_count": 10,
   "metadata": {},
   "outputs": [],
   "source": [
    "class airbnb_dataset (Dataset):\n",
    "    def __init__(self, df, purpose):\n",
    "        self.price = torch.from_numpy(df[\"price\"].to_numpy())\n",
    "        self.data = torch.from_numpy(df.drop(columns=\"price\").to_numpy())\n",
    "        self.accom = torch.from_numpy(df[\"accommodates\"].to_numpy())\n",
    "        self.bath = torch.from_numpy(df[\"bathrooms\"].to_numpy())\n",
    "        self.bedroom = torch.from_numpy(df[\"bedrooms\"].to_numpy())\n",
    "        self.bed = torch.from_numpy(df[\"beds\"].to_numpy())\n",
    "        self.amen = torch.from_numpy(df[\"amenities_count\"].to_numpy())\n",
    "        self.facility = torch.from_numpy(df[\"facilities_count\"].to_numpy())\n",
    "        self.house_rules = torch.from_numpy(df[\"house_rules_count\"].to_numpy())\n",
    "        self.property = torch.from_numpy(df[\"property_type\"].to_numpy())\n",
    "        \n",
    "        self.purpose = purpose\n",
    "        \n",
    "    def __len__(self):\n",
    "        return len(self.price)\n",
    "    \n",
    "    def __getitem__(self, index):\n",
    "        # Returns specific sample as a dict\n",
    "        if torch.is_tensor(index):\n",
    "            index = index.tolist()\n",
    "        sample = self.data[index]\n",
    "        label = self.price[index]\n",
    "        accommodates = (self.accom[index]*mean_std[\"std\"][\"accommodates\"]) + mean_std[\"mean\"][\"accommodates\"]\n",
    "        bathrooms = (self.bath[index]*mean_std[\"std\"][\"bathrooms\"]) + mean_std[\"mean\"][\"bathrooms\"]\n",
    "        bedrooms = (self.bedroom[index]*mean_std[\"std\"][\"bedrooms\"]) + mean_std[\"mean\"][\"bedrooms\"]\n",
    "        beds = (self.bed[index]*mean_std[\"std\"][\"beds\"]) + mean_std[\"mean\"][\"beds\"]\n",
    "        amenities_count = (self.amen[index]*mean_std[\"std\"][\"amenities_count\"]) + mean_std[\"mean\"][\"amenities_count\"]\n",
    "        facilities_count = (self.facility[index]*mean_std[\"std\"][\"facilities_count\"]) + mean_std[\"mean\"][\"facilities_count\"]\n",
    "        house_rules_count = (self.house_rules[index]*mean_std[\"std\"][\"house_rules_count\"]) + mean_std[\"mean\"][\"house_rules_count\"]\n",
    "        property_type = (self.property[index]*mean_std[\"std\"][\"property_type\"]) + mean_std[\"mean\"][\"property_type\"]\n",
    "        \n",
    "        return {\"sample\": sample, \"label\": label, \"accommodates\": accommodates, \"bathrooms\": bathrooms, \n",
    "                \"bedrooms\": bedrooms, \"beds\": beds, \"amenities_count\": amenities_count, \n",
    "                \"facilities_count\": facilities_count, \"house_rules_count\": house_rules_count, \n",
    "               \"property_type\": property_type}\n",
    "        \n",
    "        #return {\"sample\": sample, \"label\": label}\n",
    "#print(test_df)\n",
    "    \n",
    "\n",
    "test_ds = airbnb_dataset(test_df, \"test\")\n",
    "demo_ds = airbnb_dataset(demo_df, \"demo\")\n",
    "\n",
    "demo_loader = DataLoader(demo_ds, batch_size=1, shuffle=False, num_workers=0)\n",
    "test_loader = DataLoader(test_ds, batch_size=1, shuffle=False, num_workers=0)"
   ]
  },
  {
   "cell_type": "code",
   "execution_count": 323,
   "metadata": {},
   "outputs": [
    {
     "data": {
      "text/plain": [
       "(13.830391638213136,\n",
       " [0.6475359000047708, 0.815848480511426, 0.8819235723486475])"
      ]
     },
     "execution_count": 323,
     "metadata": {},
     "output_type": "execute_result"
    }
   ],
   "source": [
    "get_error(model, test_loader, [10, 20, 30])"
   ]
  },
  {
   "cell_type": "code",
   "execution_count": 138,
   "metadata": {},
   "outputs": [
    {
     "data": {
      "text/plain": [
       "(30.421612548828126, [0.2, 0.5, 0.6])"
      ]
     },
     "execution_count": 138,
     "metadata": {},
     "output_type": "execute_result"
    }
   ],
   "source": [
    "get_error(model, demo_loader, [10, 20, 30])"
   ]
  },
  {
   "cell_type": "code",
   "execution_count": 137,
   "metadata": {},
   "outputs": [
    {
     "name": "stdout",
     "output_type": "stream",
     "text": [
      "tensor([  6.4790,  13.4228,   6.2919,  22.7608,  45.1961,  18.6180,  31.2840,\n",
      "         10.2982, 117.2158,  32.6497], grad_fn=<MulBackward0>)\n"
     ]
    }
   ],
   "source": [
    "for i, data in enumerate(demo_loader):\n",
    "        sample = data[\"sample\"].float()\n",
    "        label = data[\"label\"].float().view(-1)\n",
    "        output = model(sample).view(-1)\n",
    "        error = abs(label-output)*mean_std[\"std\"][\"price\"]\n",
    "        \n",
    "print(error)"
   ]
  },
  {
   "cell_type": "code",
   "execution_count": null,
   "metadata": {},
   "outputs": [],
   "source": []
  }
 ],
 "metadata": {
  "kernelspec": {
   "display_name": "Python 3",
   "language": "python",
   "name": "python3"
  },
  "language_info": {
   "codemirror_mode": {
    "name": "ipython",
    "version": 3
   },
   "file_extension": ".py",
   "mimetype": "text/x-python",
   "name": "python",
   "nbconvert_exporter": "python",
   "pygments_lexer": "ipython3",
   "version": "3.6.9"
  }
 },
 "nbformat": 4,
 "nbformat_minor": 2
}
