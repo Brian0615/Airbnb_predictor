{
 "cells": [
  {
   "cell_type": "code",
   "execution_count": 1,
   "metadata": {},
   "outputs": [],
   "source": [
    "#Import libraries\n",
    "import numpy as np\n",
    "import pandas as pd\n",
    "import torch\n",
    "import os\n",
    "import glob\n",
    "\n",
    "def get_file_names(folder):\n",
    "    #Listing entries present in given folder\n",
    "    entries = os.listdir(folder)\n",
    "    for i in entries:\n",
    "        if 'csv' not in i:\n",
    "            entries.remove(i)\n",
    "    return sorted(entries, reverse=True)[0:12]\n",
    "\n",
    "\n",
    "#Reading csv files from given folder\n",
    "root = \"../\"\n",
    "path = root + 'processed_data'\n",
    "all_files = glob.glob(path + \"/*.csv\")\n",
    "li = []\n",
    "std_list = []\n",
    "average_list = []\n",
    "for filename in all_files:\n",
    "    df = pd.read_csv(filename,index_col = None, header = 0)\n",
    "    li.append(df)\n",
    "    \n",
    "#Concatenating all the dataframes into a single frame\n",
    "frame = pd.concat(li,axis=0,ignore_index = True)\n",
    "\n",
    "df = frame\n",
    "\"\"\"\n",
    "root = \"../\"\n",
    "folder =root+\"processed_data/\"\n",
    "csv_files = get_file_names(folder)\n",
    "frames = []\n",
    "for i in csv_files:\n",
    "    frames.append(pd.read_csv(root+\"processed_data/\"+i))\n",
    "df = pd.concat(frames)\n",
    "\"\"\"\n",
    "df = df.reset_index(drop=True)\n",
    "\n",
    "#df = pd.read_csv(csv_file)"
   ]
  },
  {
   "cell_type": "code",
   "execution_count": 2,
   "metadata": {},
   "outputs": [
    {
     "ename": "NameError",
     "evalue": "name 'plt' is not defined",
     "output_type": "error",
     "traceback": [
      "\u001b[1;31m---------------------------------------------------------------------------\u001b[0m",
      "\u001b[1;31mNameError\u001b[0m                                 Traceback (most recent call last)",
      "\u001b[1;32m<ipython-input-2-dda3ce4aff54>\u001b[0m in \u001b[0;36m<module>\u001b[1;34m\u001b[0m\n\u001b[1;32m----> 1\u001b[1;33m \u001b[0mplt\u001b[0m\u001b[1;33m.\u001b[0m\u001b[0mmatshow\u001b[0m\u001b[1;33m(\u001b[0m\u001b[0mdf\u001b[0m\u001b[1;33m.\u001b[0m\u001b[0mcorr\u001b[0m\u001b[1;33m(\u001b[0m\u001b[1;33m)\u001b[0m\u001b[1;33m)\u001b[0m\u001b[1;33m\u001b[0m\u001b[1;33m\u001b[0m\u001b[0m\n\u001b[0m",
      "\u001b[1;31mNameError\u001b[0m: name 'plt' is not defined"
     ]
    }
   ],
   "source": [
    "plt.matshow(df.corr())"
   ]
  },
  {
   "cell_type": "code",
   "execution_count": 3,
   "metadata": {},
   "outputs": [],
   "source": [
    "corr = df.corrwith(df[\"price\"])"
   ]
  },
  {
   "cell_type": "code",
   "execution_count": 4,
   "metadata": {},
   "outputs": [
    {
     "data": {
      "text/plain": [
       "id                                                 0.014872\n",
       "latitude                                          -0.267014\n",
       "accommodates                                       0.511505\n",
       "bathrooms                                          0.282215\n",
       "bedrooms                                           0.424685\n",
       "                                                     ...   \n",
       "room_type_Shared room                             -0.080991\n",
       "instant_bookable_f                                 0.075515\n",
       "instant_bookable_t                                -0.075515\n",
       "cancellation_policy_flexible                      -0.127203\n",
       "cancellation_policy_strict_14_with_grace_period    0.149928\n",
       "Length: 68, dtype: float64"
      ]
     },
     "execution_count": 4,
     "metadata": {},
     "output_type": "execute_result"
    }
   ],
   "source": [
    "corr"
   ]
  },
  {
   "cell_type": "code",
   "execution_count": 5,
   "metadata": {},
   "outputs": [],
   "source": [
    "correlation = corr.reset_index().values.tolist()"
   ]
  },
  {
   "cell_type": "code",
   "execution_count": 6,
   "metadata": {},
   "outputs": [],
   "source": [
    "correlation = sorted(correlation, key = lambda test_list: abs(test_list[1]), reverse=True)"
   ]
  },
  {
   "cell_type": "code",
   "execution_count": 8,
   "metadata": {},
   "outputs": [
    {
     "data": {
      "text/plain": [
       "[['price', 1.0],\n",
       " ['accommodates', 0.511505047810177],\n",
       " ['room_type_Entire home/apt', 0.5092708244436319],\n",
       " ['room_type_Private room', -0.4957858908463088],\n",
       " ['bedrooms', 0.42468492886603487],\n",
       " ['beds', 0.412907067393011],\n",
       " ['amenities_TV', 0.3205693203123727],\n",
       " ['bathrooms', 0.28221524159518346],\n",
       " ['amenities_Elevator', 0.2697153815297122],\n",
       " ['latitude', -0.26701394073351636],\n",
       " ['amenities_Gym', 0.2593070856673643],\n",
       " ['amenities_Lock on bedroom door', -0.25717493843514916],\n",
       " ['property_type_Condominium', 0.25184528513218485],\n",
       " ['amenities_Dishwasher', 0.24255453255325005],\n",
       " ['amenities_Dryer', 0.18821230018818225],\n",
       " ['amenities_Air conditioning', 0.18272574451371731],\n",
       " ['amenities_Pool', 0.17802081141608642],\n",
       " ['amenities_Cable TV', 0.17627635190688312],\n",
       " ['amenities_Washer', 0.1747787442596892],\n",
       " ['amenities_Family/kid friendly', 0.16863815886136707],\n",
       " ['amenities_Hot tub', 0.16087687903666603],\n",
       " ['amenities_Iron', 0.15186078411746273],\n",
       " ['cancellation_policy_strict_14_with_grace_period', 0.14992800746107374],\n",
       " ['amenities_Kitchen', 0.14837224512546354],\n",
       " ['amenities_Patio or balcony', 0.1460164088091081],\n",
       " ['amenities_Hair dryer', 0.14110977001380826],\n",
       " ['amenities_Bathtub', 0.13918397960506898],\n",
       " ['property_type_House', -0.13423880428963786],\n",
       " ['cancellation_policy_flexible', -0.12720338333789233],\n",
       " ['amenities_Coffee maker', 0.12154087326788686],\n",
       " ['amenities_Oven', 0.11789514338883651],\n",
       " ['amenities_Doorman', 0.10680883185070288],\n",
       " ['amenities_Shampoo', 0.10638636119086312],\n",
       " ['amenities_Cooking basics', 0.10453100290111328],\n",
       " ['amenities_Long term stays allowed', 0.10417684932751957],\n",
       " ['amenities_Stove', 0.10025648504689573],\n",
       " ['property_type_Serviced apartment', 0.099728881668604],\n",
       " ['amenities_Room-darkening shades', 0.09796237307767901],\n",
       " ['amenities_Wheelchair accessible', 0.09598632463249217],\n",
       " ['amenities_Paid parking on premises', 0.09135924783461491],\n",
       " ['amenities_Self check-in', 0.08787203725199642],\n",
       " ['property_type_Guest suite', -0.08630481022471047],\n",
       " ['amenities_Dishes and silverware', 0.08578983925960439],\n",
       " ['property_type_Bungalow', -0.08134268173771676],\n",
       " ['room_type_Shared room', -0.08099144906480232],\n",
       " ['amenities_Pets allowed', 0.07973202170066963],\n",
       " ['instant_bookable_f', 0.07551536137814298],\n",
       " ['instant_bookable_t', -0.07551536137814298],\n",
       " ['amenities_BBQ grill', 0.0753195043541851],\n",
       " ['amenities_Free street parking', -0.07271241848266453],\n",
       " ['amenities_Lockbox', 0.07267498683139269],\n",
       " ['property_type_Loft', 0.07143991954339098],\n",
       " ['amenities_Lake access', 0.07070550066904996],\n",
       " ['amenities_Single level home', 0.07056525685930409],\n",
       " ['amenities_Indoor fireplace', 0.06917648050265691],\n",
       " ['amenities_Microwave', 0.06859567151073552],\n",
       " ['property_type_Apartment', -0.06701142957569094],\n",
       " ['amenities_Ethernet connection', 0.06415160519398554],\n",
       " ['amenities_Private entrance', 0.06345267790323805],\n",
       " ['amenities_Refrigerator', 0.06344078032977082],\n",
       " ['amenities_Paid parking off premises', 0.06110289461709442],\n",
       " ['amenities_Laptop friendly workspace', 0.06014814884562824],\n",
       " ['amenities_Buzzer/wireless intercom', 0.060122363390670674],\n",
       " ['amenities_Free parking on premises', 0.05796447430439127],\n",
       " ['amenities_Extra pillows and blankets', 0.056329227322271275],\n",
       " ['amenities_Bed linens', 0.050608522072044936],\n",
       " ['amenities_24-hour check-in', 0.05043909881879493],\n",
       " ['amenities_Hangers', 0.04758588177529175],\n",
       " ['amenities_Well-lit path to entrance', 0.04610211153235845],\n",
       " ['property_type_Guesthouse', -0.043838874799521976],\n",
       " ['host_is_superhost_f', -0.04344993227403377],\n",
       " ['host_is_superhost_t', 0.04344993227403377],\n",
       " ['amenities_Heating', 0.04178328075742124],\n",
       " ['amenities_Safety card', 0.041690669091525696],\n",
       " ['property_type_Boutique hotel', 0.04063422463429565],\n",
       " ['amenities_No stairs or steps to enter', 0.04062508664407429],\n",
       " ['amenities_Carbon monoxide detector', 0.039926799406548044],\n",
       " ['amenities_Keypad', -0.03917567480561326],\n",
       " ['amenities_Host greets you', -0.038116034814759225],\n",
       " ['amenities_Smoke detector', 0.03735660677367769],\n",
       " ['cancellation_policy_moderate', -0.03603396952204226],\n",
       " ['amenities_Internet', 0.03563397542940036],\n",
       " ['amenities_Flat path to guest entrance', 0.03553396962067738],\n",
       " ['amenities_Garden or backyard', -0.0335828560916155],\n",
       " ['property_type_Villa', -0.03179097000210551],\n",
       " ['property_type_Townhouse', -0.030292350254811178],\n",
       " ['amenities_Fire extinguisher', -0.02977176629301635],\n",
       " ['amenities_Wide hallways', 0.02958910185733809],\n",
       " ['cancellation_policy_super_strict_30', 0.029489321933154577],\n",
       " ['amenities_Essentials', 0.02898988238971379],\n",
       " ['amenities_Hot water', 0.028802879595904083],\n",
       " ['amenities_Wide entrance for guests', 0.028192836588387175],\n",
       " ['amenities_Wide entrance', 0.028114425450582268],\n",
       " ['cancellation_policy_super_strict_60', 0.027761329186411186],\n",
       " ['longitude', 0.025073358444977913],\n",
       " ['property_type_Bed and breakfast', -0.022446181889698935],\n",
       " ['property_type_Hostel', -0.020999960209331852],\n",
       " ['amenities_Wifi', 0.02072547620081017],\n",
       " ['property_type_Aparthotel', 0.018249843649121748],\n",
       " ['amenities_Extra space around bed', 0.016884515777639934],\n",
       " ['property_type_Other', -0.01568334860269288],\n",
       " ['property_type_Barn', -0.01507379229070329],\n",
       " ['id', 0.014872094592309813],\n",
       " ['property_type_Cottage', -0.010026359861468444],\n",
       " ['amenities_Breakfast', -0.00981628493432491],\n",
       " ['property_type_Earth house', -0.009262743458381075],\n",
       " ['property_type_Plane', -0.008112957686991211],\n",
       " ['amenities_First aid kit', -0.007492080504604813],\n",
       " ['property_type_Dorm', -0.007338250607720112],\n",
       " ['property_type_Farm stay', -0.007213943995516126],\n",
       " ['property_type_Boat', 0.006830951944890396],\n",
       " ['property_type_In-law', -0.006120080665537947],\n",
       " ['amenities_Luggage dropoff allowed', 0.006065565189314424],\n",
       " ['property_type_Tiny house', -0.00576696131823674],\n",
       " ['property_type_Cabin', 0.005445787897460558],\n",
       " ['amenities_Private living room', -0.005298483341623462],\n",
       " ['property_type_Castle', -0.00479337452412655],\n",
       " ['property_type_Casa particular (Cuba)', -0.004362056749357876],\n",
       " ['property_type_Heritage hotel (India)', -0.002356920626449247],\n",
       " ['property_type_Treehouse', -0.0022649883434052065],\n",
       " ['property_type_Cave', -0.0022012493752410467],\n",
       " ['property_type_Dome house', 0.0016656651598417683],\n",
       " ['property_type_Tent', 0.0012545019765343283],\n",
       " ['property_type_Casa particular', 0.0012391438470123147],\n",
       " ['property_type_Hotel', 0.001157599653567815],\n",
       " ['property_type_Camper/RV', -0.00012978136009557652]]"
      ]
     },
     "execution_count": 8,
     "metadata": {},
     "output_type": "execute_result"
    }
   ],
   "source": [
    "correlation"
   ]
  },
  {
   "cell_type": "code",
   "execution_count": 36,
   "metadata": {},
   "outputs": [
    {
     "data": {
      "image/png": "[encoded data removed]",
      "text/plain": [
       "<Figure size 432x288 with 1 Axes>"
      ]
     },
     "metadata": {
      "needs_background": "light"
     },
     "output_type": "display_data"
    },
    {
     "data": {
      "image/png": "[encoded data removed]",
      "text/plain": [
       "<Figure size 432x288 with 1 Axes>"
      ]
     },
     "metadata": {
      "needs_background": "light"
     },
     "output_type": "display_data"
    }
   ],
   "source": [
    "import numpy as np\n",
    "import matplotlib.pyplot as plt\n",
    "\n",
    "correlation_values_top = []\n",
    "correlation_values_bottom = []\n",
    "correlation_names_top = []\n",
    "correlation_names_bottom = []\n",
    "for i in range (1,11):\n",
    "    correlation_values_top.append(abs(correlation[i][1]))\n",
    "    correlation_values_bottom.append(abs(correlation[len(correlation)-1-i][1]))\n",
    "    correlation_names_top.append(correlation[i][0])\n",
    "    correlation_names_bottom.append(correlation[len(correlation)-1-i][0])\n",
    "correlation_values = correlation_values_top + correlation_values_bottom\n",
    "correlation_names = correlation_names_top + correlation_names_bottom\n",
    "    \n",
    "y_pos = np.arange(len(correlation_values_top))\n",
    "plt.bar(y_pos,correlation_values_top)\n",
    "plt.xticks(y_pos, correlation_names_top,rotation = 90)\n",
    "plt.title('Top 10 Correlated Features')\n",
    "plt.ylabel('Correlation')\n",
    "plt.xlabel('Amenities')\n",
    "plt.show()\n",
    "\n",
    "#y_pos = np.arange(len(correlation_values))\n",
    "axes = plt.gca()\n",
    "\n",
    "plt.bar(y_pos,correlation_values_bottom)\n",
    "plt.xticks(y_pos, correlation_names_bottom,rotation = 90)\n",
    "plt.title('Bottom 10 Correlated Features')\n",
    "plt.ylabel('Correlation')\n",
    "plt.xlabel('Amenities')\n",
    "#axes.set_xlim([xmin,xmax])\n",
    "axes.set_ylim([0,0.5])\n",
    "plt.show()"
   ]
  },
  {
   "cell_type": "code",
   "execution_count": 15,
   "metadata": {},
   "outputs": [
    {
     "name": "stdout",
     "output_type": "stream",
     "text": [
      "67\n",
      "['price', 'accommodates', 'room_type_Entire home/apt', 'room_type_Private room', 'bedrooms', 'beds', 'amenities_TV', 'bathrooms', 'amenities_Elevator', 'latitude', 'amenities_Gym', 'amenities_Lock on bedroom door', 'property_type_Condominium', 'amenities_Dishwasher', 'amenities_Dryer', 'amenities_Air conditioning', 'amenities_Pool', 'amenities_Cable TV', 'amenities_Washer', 'amenities_Family/kid friendly', 'amenities_Hot tub', 'amenities_Iron', 'cancellation_policy_strict_14_with_grace_period', 'amenities_Kitchen', 'amenities_Patio or balcony', 'amenities_Hair dryer', 'amenities_Bathtub', 'property_type_House', 'cancellation_policy_flexible', 'amenities_Coffee maker', 'amenities_Oven', 'amenities_Doorman', 'amenities_Shampoo', 'amenities_Cooking basics', 'amenities_Long term stays allowed', 'amenities_Stove', 'property_type_Serviced apartment', 'amenities_Room-darkening shades', 'amenities_Wheelchair accessible', 'amenities_Paid parking on premises', 'amenities_Self check-in', 'property_type_Guest suite', 'amenities_Dishes and silverware', 'property_type_Bungalow', 'room_type_Shared room', 'amenities_Pets allowed', 'instant_bookable_f', 'instant_bookable_t', 'amenities_BBQ grill', 'amenities_Free street parking', 'amenities_Lockbox', 'property_type_Loft', 'amenities_Lake access', 'amenities_Single level home', 'amenities_Indoor fireplace', 'amenities_Microwave', 'property_type_Apartment', 'amenities_Ethernet connection', 'amenities_Private entrance', 'amenities_Refrigerator', 'amenities_Paid parking off premises', 'amenities_Laptop friendly workspace', 'amenities_Buzzer/wireless intercom', 'amenities_Free parking on premises', 'amenities_Extra pillows and blankets', 'amenities_Bed linens', 'amenities_24-hour check-in']\n"
     ]
    }
   ],
   "source": [
    "accum = 0\n",
    "accum_list = []\n",
    "for i in correlation:\n",
    "    if abs(i[1]) >= 0.05:\n",
    "        accum += 1\n",
    "        accum_list.append(i[0])\n",
    "print(accum)\n",
    "print(accum_list)"
   ]
  },
  {
   "cell_type": "code",
   "execution_count": 130,
   "metadata": {},
   "outputs": [
    {
     "data": {
      "text/plain": [
       "['price',\n",
       " 'accommodates',\n",
       " 'bedrooms',\n",
       " 'beds',\n",
       " 'room_type_codes',\n",
       " 'bathrooms',\n",
       " 'TV',\n",
       " 'district',\n",
       " 'district_group',\n",
       " 'Dishwasher',\n",
       " 'Lock on bedroom door',\n",
       " 'Gym',\n",
       " 'Elevator',\n",
       " 'Dryer',\n",
       " 'Cable TV',\n",
       " 'Washer',\n",
       " 'Air conditioning',\n",
       " 'Family/kid friendly',\n",
       " 'Pool',\n",
       " 'Patio or balcony',\n",
       " 'Iron',\n",
       " 'Hot tub',\n",
       " 'Indoor fireplace',\n",
       " 'cancellation_policy_codes',\n",
       " 'Bathtub',\n",
       " 'Kitchen',\n",
       " 'Hair dryer',\n",
       " 'Coffee maker',\n",
       " 'Oven',\n",
       " 'Room-darkening shades']"
      ]
     },
     "execution_count": 130,
     "metadata": {},
     "output_type": "execute_result"
    }
   ],
   "source": [
    "list_of_keep = ['price', 'accommodates', 'room_type_Entire home/apt', 'room_type_Private room', 'bedrooms', 'beds', \n",
    "                'amenities_TV', 'bathrooms', 'amenities_Elevator', 'latitude', 'amenities_Gym', \n",
    "                'amenities_Lock on bedroom door', 'property_type_Condominium', 'amenities_Dishwasher', \n",
    "                'amenities_Dryer', 'amenities_Air conditioning', 'amenities_Pool', 'amenities_Cable TV', \n",
    "                'amenities_Washer', 'amenities_Family/kid friendly', 'amenities_Hot tub', 'amenities_Iron', \n",
    "                'cancellation_policy_strict_14_with_grace_period', 'amenities_Kitchen', 'amenities_Patio or balcony', \n",
    "                'amenities_Hair dryer', 'amenities_Bathtub', 'property_type_House', 'cancellation_policy_flexible', \n",
    "                'amenities_Coffee maker', 'amenities_Oven', 'amenities_Doorman', 'amenities_Shampoo', \n",
    "                'amenities_Cooking basics', 'amenities_Long term stays allowed', 'amenities_Stove', \n",
    "                'property_type_Serviced apartment', 'amenities_Room-darkening shades', 'amenities_Wheelchair accessible', \n",
    "                'amenities_Paid parking on premises', 'amenities_Self check-in', 'property_type_Guest suite', \n",
    "                'amenities_Dishes and silverware', 'property_type_Bungalow', 'room_type_Shared room', \n",
    "                'amenities_Pets allowed', 'instant_bookable_f', 'instant_bookable_t', 'amenities_BBQ grill', \n",
    "                'amenities_Free street parking', 'amenities_Lockbox', 'property_type_Loft', 'amenities_Lake access', \n",
    "                'amenities_Single level home', 'amenities_Indoor fireplace', 'amenities_Microwave', \n",
    "                'property_type_Apartment', 'amenities_Ethernet connection', 'amenities_Private entrance', \n",
    "                'amenities_Refrigerator', 'amenities_Paid parking off premises', 'amenities_Laptop friendly workspace', \n",
    "                'amenities_Buzzer/wireless intercom', 'amenities_Free parking on premises', \n",
    "                'amenities_Extra pillows and blankets', 'amenities_Bed linens', 'amenities_24-hour check-in','id','last_scraped']"
   ]
  },
  {
   "cell_type": "code",
   "execution_count": null,
   "metadata": {},
   "outputs": [],
   "source": []
  }
 ],
 "metadata": {
  "kernelspec": {
   "display_name": "Python 3",
   "language": "python",
   "name": "python3"
  },
  "language_info": {
   "codemirror_mode": {
    "name": "ipython",
    "version": 3
   },
   "file_extension": ".py",
   "mimetype": "text/x-python",
   "name": "python",
   "nbconvert_exporter": "python",
   "pygments_lexer": "ipython3",
   "version": "3.7.3"
  }
 },
 "nbformat": 4,
 "nbformat_minor": 2
}
