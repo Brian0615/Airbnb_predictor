{
 "cells": [
  {
   "cell_type": "code",
   "execution_count": 102,
   "metadata": {},
   "outputs": [],
   "source": [
    "import matplotlib.pyplot as plt\n",
    "import pandas as pd\n",
    "import os\n",
    "\n",
    "def get_file_names(folder):\n",
    "    #Listing entries present in given folder\n",
    "    entries = os.listdir(folder)\n",
    "    for i in entries:\n",
    "        if 'csv' not in i:\n",
    "            entries.remove(i)\n",
    "    return sorted(entries, reverse=True)\n",
    "\n",
    "\n",
    "root = \"../\"\n",
    "folder =root+\"processed_data/\"\n",
    "csv_files = get_file_names(folder)\n",
    "frames = []\n",
    "for i in csv_files:\n",
    "    frames.append(pd.read_csv(root+\"processed_data/\"+i))\n",
    "df = pd.concat(frames)\n",
    "\n",
    "#df = pd.read_csv(csv_file)"
   ]
  },
  {
   "cell_type": "code",
   "execution_count": 103,
   "metadata": {},
   "outputs": [
    {
     "data": {
      "text/plain": [
       "<matplotlib.image.AxesImage at 0x1219fa4a8>"
      ]
     },
     "execution_count": 103,
     "metadata": {},
     "output_type": "execute_result"
    },
    {
     "data": {
      "image/png": "[encoded data removed]",
      "text/plain": [
       "<Figure size 288x288 with 1 Axes>"
      ]
     },
     "metadata": {
      "needs_background": "light"
     },
     "output_type": "display_data"
    }
   ],
   "source": [
    "plt.matshow(df.corr())"
   ]
  },
  {
   "cell_type": "code",
   "execution_count": 104,
   "metadata": {},
   "outputs": [],
   "source": [
    "corr = df.corrwith(df[\"price\"])"
   ]
  },
  {
   "cell_type": "code",
   "execution_count": 105,
   "metadata": {},
   "outputs": [],
   "source": [
    "correlation = corr.reset_index().values.tolist()"
   ]
  },
  {
   "cell_type": "code",
   "execution_count": 106,
   "metadata": {},
   "outputs": [
    {
     "data": {
      "text/plain": [
       "[['price', 1.0],\n",
       " ['accommodates', 0.5705605964593939],\n",
       " ['bedrooms', 0.5074562064646045],\n",
       " ['beds', 0.4962254031217857],\n",
       " ['room_type_codes', -0.4558563835785158],\n",
       " ['bathrooms', 0.4303714183571491],\n",
       " ['TV', 0.2998250036565982],\n",
       " ['district', -0.24144159657110809],\n",
       " ['district_group', -0.23793804514043151],\n",
       " ['Dishwasher', 0.21814409283015695],\n",
       " ['Lock on bedroom door', -0.21671225416950338],\n",
       " ['Gym', 0.2050180359793929],\n",
       " ['Elevator', 0.1923354430594097],\n",
       " ['Cable TV', 0.17680428491905756],\n",
       " ['Dryer', 0.17655429699891012],\n",
       " ['Family/kid friendly', 0.17303835810863494],\n",
       " ['Air conditioning', 0.16473875257933596],\n",
       " ['Washer', 0.1633362617294818],\n",
       " ['Pool', 0.158903039810364],\n",
       " ['Patio or balcony', 0.15286226379891157],\n",
       " ['Hot tub', 0.14739147499024607],\n",
       " ['Iron', 0.14640649239226539],\n",
       " ['Indoor fireplace', 0.14226980141670867],\n",
       " ['cancellation_policy_codes', 0.14128687106973864],\n",
       " ['Bathtub', 0.13568161581899657],\n",
       " ['Kitchen', 0.12947515916015942],\n",
       " ['Hair dryer', 0.128402961789441],\n",
       " ['Coffee maker', 0.1216378017539627],\n",
       " ['Oven', 0.10753438584712112],\n",
       " ['Room-darkening shades', 0.10425607601003654],\n",
       " ['Cooking basics', 0.0972180159544991],\n",
       " ['Shampoo', 0.0943462243047908],\n",
       " ['BBQ grill', 0.09169811270964165],\n",
       " ['Long term stays allowed', 0.09159988025786908],\n",
       " ['Stove', 0.09044113528653441],\n",
       " ['Free parking on premises', 0.08794900296720164],\n",
       " ['Dishes and silverware', 0.08196134955928991],\n",
       " ['Doorman', 0.0804754615912979],\n",
       " ['Paid parking on premises', 0.07775415703088276],\n",
       " ['Pets allowed', 0.07503382175418377],\n",
       " ['Private entrance', 0.07053440859108712],\n",
       " ['Self check-in', 0.07010137074250207],\n",
       " ['Wheelchair accessible', 0.06563482887084394],\n",
       " ['Microwave', 0.0644699123774192],\n",
       " ['Free street parking', -0.06278597128339043],\n",
       " ['Ethernet connection', 0.06161684342420406],\n",
       " ['instant_bookable_codes', -0.0579112757927066],\n",
       " ['Refrigerator', 0.056315428488150424],\n",
       " ['Lockbox', 0.05569349477590151],\n",
       " ['district_number', 0.05538950927174026],\n",
       " ['Lake access', 0.05324791741989928],\n",
       " ['Laptop friendly workspace', 0.052566295914780396],\n",
       " ['Single level home', 0.05090542592192836],\n",
       " ['Extra pillows and blankets', 0.049281622797944784],\n",
       " ['Paid parking off premises', 0.048984392375380485],\n",
       " ['Bed linens', 0.048269876632929525],\n",
       " ['Safety card', 0.0401731387936104],\n",
       " ['Internet', 0.03922147357125323],\n",
       " ['24-hour check-in', 0.03918811764800001],\n",
       " ['Buzzer/wireless intercom', 0.03887430124575149],\n",
       " ['Host greets you', -0.035261167279134094],\n",
       " ['Carbon monoxide detector', 0.03346398154350643],\n",
       " ['Hangers', 0.03259172459773173],\n",
       " ['Well-lit path to entrance', 0.03198976113869402],\n",
       " ['No stairs or steps to enter', 0.03169950733933717],\n",
       " ['Smoke detector', 0.031689615380139896],\n",
       " ['Flat path to guest entrance', 0.02980032771829597],\n",
       " ['Heating', 0.029647059735186717],\n",
       " ['Luggage dropoff allowed', 0.02725389611118004],\n",
       " ['Wide hallways', 0.026614669494357326],\n",
       " ['Essentials', 0.02556803175558884],\n",
       " ['Wide entrance', 0.025183647216090805],\n",
       " ['host_is_superhost_codes', 0.02473397755655244],\n",
       " ['Keypad', -0.024555590615966714],\n",
       " ['Wide entrance for guests', 0.022917934009777575],\n",
       " ['Hot water', 0.022062249746820074],\n",
       " ['Unnamed: 0', 0.021219118689500733],\n",
       " ['Extra space around bed', 0.018275316449441102],\n",
       " ['id', 0.016348964529419432],\n",
       " ['property_type_codes', 0.0154388645682687],\n",
       " ['First aid kit', 0.013742107118331662],\n",
       " ['Wifi', 0.012132099315222564],\n",
       " ['Breakfast', -0.007375263904036039],\n",
       " ['Garden or backyard', 0.0059211809566434865],\n",
       " ['Fire extinguisher', 0.005164809238933694],\n",
       " ['minimum_nights', -0.004577819678840247],\n",
       " ['maximum_nights', -0.0014950596202635987],\n",
       " ['Private living room', -0.0011313634092304213]]"
      ]
     },
     "execution_count": 106,
     "metadata": {},
     "output_type": "execute_result"
    }
   ],
   "source": [
    "sorted(correlation, key = lambda test_list: abs(test_list[1]), reverse=True)"
   ]
  },
  {
   "cell_type": "code",
   "execution_count": 107,
   "metadata": {},
   "outputs": [
    {
     "data": {
      "text/plain": [
       "(271620, 96)"
      ]
     },
     "execution_count": 107,
     "metadata": {},
     "output_type": "execute_result"
    }
   ],
   "source": [
    "df.shape"
   ]
  },
  {
   "cell_type": "code",
   "execution_count": 108,
   "metadata": {},
   "outputs": [
    {
     "data": {
      "text/plain": [
       "88"
      ]
     },
     "execution_count": 108,
     "metadata": {},
     "output_type": "execute_result"
    }
   ],
   "source": [
    "len(correlation)"
   ]
  },
  {
   "cell_type": "code",
   "execution_count": null,
   "metadata": {},
   "outputs": [],
   "source": []
  }
 ],
 "metadata": {
  "kernelspec": {
   "display_name": "Python 3",
   "language": "python",
   "name": "python3"
  },
  "language_info": {
   "codemirror_mode": {
    "name": "ipython",
    "version": 3
   },
   "file_extension": ".py",
   "mimetype": "text/x-python",
   "name": "python",
   "nbconvert_exporter": "python",
   "pygments_lexer": "ipython3",
   "version": "3.7.3"
  }
 },
 "nbformat": 4,
 "nbformat_minor": 2
}
