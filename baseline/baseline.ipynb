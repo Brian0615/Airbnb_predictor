{
 "cells": [
  {
   "cell_type": "code",
   "execution_count": 1,
   "metadata": {},
   "outputs": [],
   "source": [
    "#Import libraries\n",
    "import numpy as np\n",
    "import pandas as pd\n",
    "import torch\n",
    "import os\n",
    "import glob"
   ]
  },
  {
   "cell_type": "code",
   "execution_count": 2,
   "metadata": {},
   "outputs": [],
   "source": [
    "def baseline(neighbourhood,housing_type,guest_num):\n",
    "    #Reading csv files\n",
    "    data = pd.read_csv(\"../processed_data/18_04_09_listings.csv\")\n",
    "    neighbourhood_reference = pd.read_csv(\"../category_codes/neighbourhoods.csv\")\n",
    "    \n",
    "    #Finding corresponding numerical values based on neighbourhood\n",
    "    district_group = neighbourhood_reference.loc[neighbourhood_reference['neighbourhood'] == neighbourhood, 'district_group'].iloc[0]\n",
    "    district_number = neighbourhood_reference.loc[neighbourhood_reference['neighbourhood'] == neighbourhood, 'district_number'].iloc[0]\n",
    "    neighbourhood_value = district_group*15 + district_number\n",
    "    \n",
    "    #Identifying rows of interest\n",
    "    property_type = data['room_type'] == housing_type\n",
    "    accomodates = data['accommodates'] == guest_num\n",
    "    district = data['district'] == neighbourhood_value\n",
    "    interested = data[property_type & accomodates & district]\n",
    "    \n",
    "    #Computing average\n",
    "    average = interested['price'].mean()\n",
    "    \n",
    "    #Printing the average\n",
    "    print('the average is',average)\n",
    "    \n",
    "    #Returning\n",
    "    return average\n",
    "    \n",
    "#Testing\n",
    "#baseline('South Parkdale','Entire home/apt',2)\n",
    "    "
   ]
  },
  {
   "cell_type": "code",
   "execution_count": null,
   "metadata": {},
   "outputs": [],
   "source": []
  }
 ],
 "metadata": {
  "kernelspec": {
   "display_name": "Python 3",
   "language": "python",
   "name": "python3"
  },
  "language_info": {
   "codemirror_mode": {
    "name": "ipython",
    "version": 3
   },
   "file_extension": ".py",
   "mimetype": "text/x-python",
   "name": "python",
   "nbconvert_exporter": "python",
   "pygments_lexer": "ipython3",
   "version": "3.7.3"
  }
 },
 "nbformat": 4,
 "nbformat_minor": 2
}
