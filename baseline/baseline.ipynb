{
 "cells": [
  {
   "cell_type": "code",
   "execution_count": 1,
   "metadata": {},
   "outputs": [],
   "source": [
    "#Import libraries\n",
    "import numpy as np\n",
    "import pandas as pd\n",
    "import torch\n",
    "import os\n",
    "import glob"
   ]
  },
  {
   "cell_type": "code",
   "execution_count": 13,
   "metadata": {},
   "outputs": [
    {
     "name": "stdout",
     "output_type": "stream",
     "text": [
      "the average is 95.78813559322033\n",
      "[125, 100, 125, 55, 120, 75, 75, 72, 194, 54, 45, 135, 95, 86, 86, 150, 196, 72, 55, 65, 50, 75, 59, 72, 52, 60, 70, 81, 75, 130, 100, 75, 89, 175, 130, 118, 98, 70, 110, 86, 150, 65, 81, 199, 63, 70, 144, 63, 65, 100, 165, 106, 50, 175, 69, 75, 81, 95, 100, 68, 100, 70, 86, 89, 79, 150, 100, 95, 75, 65, 81, 110, 81, 79, 73, 105, 79, 64, 86, 150, 70, 150, 130, 54, 110, 60, 50, 81, 129, 190, 95, 100, 125, 86, 89, 86, 81, 75, 89, 65, 79, 70, 66, 69, 100, 251, 86, 95, 69, 86, 100, 115, 120, 175, 157, 77, 65, 52]\n",
      "37.86883063697799\n"
     ]
    },
    {
     "data": {
      "text/plain": [
       "95.78813559322033"
      ]
     },
     "execution_count": 13,
     "metadata": {},
     "output_type": "execute_result"
    }
   ],
   "source": [
    "def baseline(neighbourhood,housing_type,guest_num):\n",
    "    #Reading csv files\n",
    "    data = pd.read_csv(\"../processed_data/18_04_09_listings.csv\")\n",
    "    neighbourhood_reference = pd.read_csv(\"../category_codes/neighbourhoods.csv\")\n",
    "    \n",
    "    #Finding corresponding numerical values based on neighbourhood\n",
    "    district_group = neighbourhood_reference.loc[neighbourhood_reference['neighbourhood'] == neighbourhood, 'district_group'].iloc[0]\n",
    "    district_number = neighbourhood_reference.loc[neighbourhood_reference['neighbourhood'] == neighbourhood, 'district_number'].iloc[0]\n",
    "    neighbourhood_value = district_group*15 + district_number\n",
    "    \n",
    "    #Identifying rows of interest\n",
    "    property_type = data['room_type'] == housing_type\n",
    "    accomodates = data['accommodates'] == guest_num\n",
    "    district = data['district'] == neighbourhood_value\n",
    "    interested = data[property_type & accomodates & district]\n",
    "    \n",
    "    #Computing average\n",
    "    average = interested['price'].mean()\n",
    "    \n",
    "    #Printing the average\n",
    "    print('the average is',average)\n",
    "    \n",
    "    #Converting column to list\n",
    "    l = interested['price'].tolist()\n",
    "    \n",
    "    #Computing standard deviation\n",
    "    difference = [(x - average) for x in l]\n",
    "    squared = [x**2 for x in difference]\n",
    "    summation = sum(squared)\n",
    "    std = (summation / len(l))**0.5\n",
    "    \n",
    "    #Printing\n",
    "    #print(std)\n",
    "    \n",
    "    #Returning\n",
    "    return average\n",
    "    \n",
    "#Testing\n",
    "#baseline('South Parkdale','Entire home/apt',2)\n",
    "    "
   ]
  },
  {
   "cell_type": "code",
   "execution_count": null,
   "metadata": {},
   "outputs": [],
   "source": []
  }
 ],
 "metadata": {
  "kernelspec": {
   "display_name": "Python 3",
   "language": "python",
   "name": "python3"
  },
  "language_info": {
   "codemirror_mode": {
    "name": "ipython",
    "version": 3
   },
   "file_extension": ".py",
   "mimetype": "text/x-python",
   "name": "python",
   "nbconvert_exporter": "python",
   "pygments_lexer": "ipython3",
   "version": "3.7.3"
  }
 },
 "nbformat": 4,
 "nbformat_minor": 2
}
